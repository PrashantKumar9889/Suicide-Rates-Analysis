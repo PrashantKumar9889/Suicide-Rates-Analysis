{
 "cells": [
  {
   "cell_type": "markdown",
   "id": "c55f7dc1-4f38-4b4d-b288-2b1339d0948b",
   "metadata": {},
   "source": [
    "# **Suicide Rates Analysis**"
   ]
  },
  {
   "cell_type": "markdown",
   "id": "2d9ceb42-1626-44bc-b16c-9e6caa3c2d8d",
   "metadata": {},
   "source": [
    "# importing libraries"
   ]
  },
  {
   "cell_type": "code",
   "execution_count": 4,
   "id": "a068ce16-3350-4437-bfda-0ddf0a066ce2",
   "metadata": {},
   "outputs": [
    {
     "data": {
      "text/html": [
       "        <script type=\"text/javascript\">\n",
       "        window.PlotlyConfig = {MathJaxConfig: 'local'};\n",
       "        if (window.MathJax && window.MathJax.Hub && window.MathJax.Hub.Config) {window.MathJax.Hub.Config({SVG: {font: \"STIX-Web\"}});}\n",
       "        if (typeof require !== 'undefined') {\n",
       "        require.undef(\"plotly\");\n",
       "        requirejs.config({\n",
       "            paths: {\n",
       "                'plotly': ['https://cdn.plot.ly/plotly-2.32.0.min']\n",
       "            }\n",
       "        });\n",
       "        require(['plotly'], function(Plotly) {\n",
       "            window._Plotly = Plotly;\n",
       "        });\n",
       "        }\n",
       "        </script>\n",
       "        "
      ]
     },
     "metadata": {},
     "output_type": "display_data"
    }
   ],
   "source": [
    "import pandas as pd\n",
    "import numpy as np\n",
    "import matplotlib.pyplot as plt\n",
    "import seaborn as sns\n",
    "import plotly as py\n",
    "import plotly.graph_objs as go\n",
    "\n",
    "py.offline.init_notebook_mode(connected = True)\n",
    "\n",
    "%matplotlib inline"
   ]
  },
  {
   "cell_type": "code",
   "execution_count": 5,
   "id": "7a3cd71f-aea3-4828-bad5-ad73003f85a3",
   "metadata": {},
   "outputs": [
    {
     "data": {
      "text/html": [
       "<div>\n",
       "<style scoped>\n",
       "    .dataframe tbody tr th:only-of-type {\n",
       "        vertical-align: middle;\n",
       "    }\n",
       "\n",
       "    .dataframe tbody tr th {\n",
       "        vertical-align: top;\n",
       "    }\n",
       "\n",
       "    .dataframe thead th {\n",
       "        text-align: right;\n",
       "    }\n",
       "</style>\n",
       "<table border=\"1\" class=\"dataframe\">\n",
       "  <thead>\n",
       "    <tr style=\"text-align: right;\">\n",
       "      <th></th>\n",
       "      <th>country</th>\n",
       "      <th>year</th>\n",
       "      <th>sex</th>\n",
       "      <th>age</th>\n",
       "      <th>suicides_no</th>\n",
       "      <th>population</th>\n",
       "      <th>suicides/100k pop</th>\n",
       "      <th>country-year</th>\n",
       "      <th>HDI for year</th>\n",
       "      <th>gdp_for_year ($)</th>\n",
       "      <th>gdp_per_capita ($)</th>\n",
       "      <th>generation</th>\n",
       "    </tr>\n",
       "  </thead>\n",
       "  <tbody>\n",
       "    <tr>\n",
       "      <th>0</th>\n",
       "      <td>Albania</td>\n",
       "      <td>1987</td>\n",
       "      <td>male</td>\n",
       "      <td>15-24 years</td>\n",
       "      <td>21</td>\n",
       "      <td>312900</td>\n",
       "      <td>6.71</td>\n",
       "      <td>Albania1987</td>\n",
       "      <td>NaN</td>\n",
       "      <td>2,156,624,900</td>\n",
       "      <td>796</td>\n",
       "      <td>Generation X</td>\n",
       "    </tr>\n",
       "    <tr>\n",
       "      <th>1</th>\n",
       "      <td>Albania</td>\n",
       "      <td>1987</td>\n",
       "      <td>male</td>\n",
       "      <td>35-54 years</td>\n",
       "      <td>16</td>\n",
       "      <td>308000</td>\n",
       "      <td>5.19</td>\n",
       "      <td>Albania1987</td>\n",
       "      <td>NaN</td>\n",
       "      <td>2,156,624,900</td>\n",
       "      <td>796</td>\n",
       "      <td>Silent</td>\n",
       "    </tr>\n",
       "  </tbody>\n",
       "</table>\n",
       "</div>"
      ],
      "text/plain": [
       "   country  year   sex          age  suicides_no  population  \\\n",
       "0  Albania  1987  male  15-24 years           21      312900   \n",
       "1  Albania  1987  male  35-54 years           16      308000   \n",
       "\n",
       "   suicides/100k pop country-year  HDI for year  gdp_for_year ($)   \\\n",
       "0               6.71  Albania1987           NaN      2,156,624,900   \n",
       "1               5.19  Albania1987           NaN      2,156,624,900   \n",
       "\n",
       "   gdp_per_capita ($)    generation  \n",
       "0                 796  Generation X  \n",
       "1                 796        Silent  "
      ]
     },
     "execution_count": 5,
     "metadata": {},
     "output_type": "execute_result"
    }
   ],
   "source": [
    "suicide = pd.read_csv(r\"C:\\Users\\prash\\Desktop\\Jupyter Notebook\\Data Analysis Projects\\Suicide\\master.csv\\master.csv\")\n",
    "suicide.head(2)"
   ]
  },
  {
   "cell_type": "code",
   "execution_count": 6,
   "id": "db3cc443-12e6-4cec-9169-c8ba1465b144",
   "metadata": {},
   "outputs": [
    {
     "name": "stdout",
     "output_type": "stream",
     "text": [
      "Shape of dataset : (27820, 12)\n"
     ]
    }
   ],
   "source": [
    "print('Shape of dataset :', suicide.shape)"
   ]
  },
  {
   "cell_type": "code",
   "execution_count": 7,
   "id": "c96f8f83-cc24-480e-b6f7-cdd5ec2ea6e0",
   "metadata": {},
   "outputs": [
    {
     "name": "stdout",
     "output_type": "stream",
     "text": [
      "<class 'pandas.core.frame.DataFrame'>\n",
      "RangeIndex: 27820 entries, 0 to 27819\n",
      "Data columns (total 12 columns):\n",
      " #   Column              Non-Null Count  Dtype  \n",
      "---  ------              --------------  -----  \n",
      " 0   country             27820 non-null  object \n",
      " 1   year                27820 non-null  int64  \n",
      " 2   sex                 27820 non-null  object \n",
      " 3   age                 27820 non-null  object \n",
      " 4   suicides_no         27820 non-null  int64  \n",
      " 5   population          27820 non-null  int64  \n",
      " 6   suicides/100k pop   27820 non-null  float64\n",
      " 7   country-year        27820 non-null  object \n",
      " 8   HDI for year        8364 non-null   float64\n",
      " 9    gdp_for_year ($)   27820 non-null  object \n",
      " 10  gdp_per_capita ($)  27820 non-null  int64  \n",
      " 11  generation          27820 non-null  object \n",
      "dtypes: float64(2), int64(4), object(6)\n",
      "memory usage: 2.5+ MB\n"
     ]
    }
   ],
   "source": [
    "suicide.info()"
   ]
  },
  {
   "cell_type": "code",
   "execution_count": 8,
   "id": "27b07a7d-0f7b-481c-8674-068b17f00e94",
   "metadata": {},
   "outputs": [
    {
     "data": {
      "text/plain": [
       "array(['15-24 years', '35-54 years', '75+ years', '25-34 years',\n",
       "       '55-74 years', '5-14 years'], dtype=object)"
      ]
     },
     "execution_count": 8,
     "metadata": {},
     "output_type": "execute_result"
    }
   ],
   "source": [
    "suicide.age.unique()"
   ]
  },
  {
   "cell_type": "markdown",
   "id": "306899ed-129e-442b-a4c4-5b4d6eed73b3",
   "metadata": {},
   "source": [
    "# Number of suicide committed in each country"
   ]
  },
  {
   "cell_type": "code",
   "execution_count": 10,
   "id": "e8a7fbed-8795-4db9-8387-1d9728336c7e",
   "metadata": {},
   "outputs": [
    {
     "data": {
      "text/plain": [
       "country\n",
       "Russian Federation       1209742\n",
       "United States            1034013\n",
       "Japan                     806902\n",
       "France                    329127\n",
       "Ukraine                   319950\n",
       "                          ...   \n",
       "Maldives                      20\n",
       "Antigua and Barbuda           11\n",
       "San Marino                     4\n",
       "Saint Kitts and Nevis          0\n",
       "Dominica                       0\n",
       "Name: suicides_no, Length: 101, dtype: int64"
      ]
     },
     "execution_count": 10,
     "metadata": {},
     "output_type": "execute_result"
    }
   ],
   "source": [
    "suicide_in_countries = suicide.groupby('country')\n",
    "country_suicide_series = suicide_in_countries.suicides_no.sum().sort_values(ascending=False)\n",
    "country_suicide_series"
   ]
  },
  {
   "cell_type": "code",
   "execution_count": 11,
   "id": "bcb7d5f5-eb7d-4e4a-9524-374b7194d217",
   "metadata": {},
   "outputs": [
    {
     "data": {
      "application/vnd.plotly.v1+json": {
       "config": {
        "linkText": "Export to plot.ly",
        "plotlyServerURL": "https://plot.ly",
        "showLink": false
       },
       "data": [
        {
         "type": "bar",
         "x": [
          "Russian Federation",
          "United States",
          "Japan",
          "France",
          "Ukraine",
          "Germany",
          "Republic of Korea",
          "Brazil",
          "Poland",
          "United Kingdom",
          "Italy",
          "Mexico",
          "Thailand",
          "Canada",
          "Kazakhstan",
          "Spain",
          "Argentina",
          "Hungary",
          "Romania",
          "Australia",
          "Belgium",
          "Belarus",
          "Sri Lanka",
          "Colombia",
          "Netherlands",
          "Austria",
          "Czech Republic",
          "Cuba",
          "Chile",
          "Sweden",
          "Bulgaria",
          "Uzbekistan",
          "Finland",
          "Lithuania",
          "Switzerland",
          "Serbia",
          "Portugal",
          "Philippines",
          "Ecuador",
          "Croatia",
          "Norway",
          "Denmark",
          "New Zealand",
          "Slovakia",
          "Uruguay",
          "Kyrgyzstan",
          "Latvia",
          "Ireland",
          "Greece",
          "El Salvador",
          "Israel",
          "Slovenia",
          "Turkey",
          "Singapore",
          "Puerto Rico",
          "Turkmenistan",
          "Guatemala",
          "South Africa",
          "Estonia",
          "Costa Rica",
          "Paraguay",
          "Trinidad and Tobago",
          "Mauritius",
          "Panama",
          "Guyana",
          "Georgia",
          "Suriname",
          "Nicaragua",
          "Albania",
          "Luxembourg",
          "Armenia",
          "Azerbaijan",
          "Iceland",
          "Kuwait",
          "United Arab Emirates",
          "Malta",
          "Qatar",
          "Montenegro",
          "Bahrain",
          "Mongolia",
          "Cyprus",
          "Belize",
          "Bosnia and Herzegovina",
          "Fiji",
          "Saint Lucia",
          "Jamaica",
          "Barbados",
          "Saint Vincent and Grenadines",
          "Aruba",
          "Seychelles",
          "Bahamas",
          "Kiribati",
          "Cabo Verde",
          "Grenada",
          "Oman",
          "Macau",
          "Maldives",
          "Antigua and Barbuda",
          "San Marino",
          "Saint Kitts and Nevis",
          "Dominica"
         ],
         "y": [
          1209742,
          1034013,
          806902,
          329127,
          319950,
          291262,
          261730,
          226613,
          139098,
          136805,
          132060,
          111139,
          110643,
          107561,
          101546,
          100202,
          82219,
          73891,
          72777,
          70111,
          62761,
          59892,
          55641,
          53080,
          50833,
          50073,
          43687,
          41418,
          40895,
          37795,
          36388,
          34803,
          33677,
          28039,
          26217,
          24179,
          24061,
          21330,
          20660,
          18429,
          16992,
          15297,
          14383,
          13437,
          13138,
          13090,
          12770,
          12574,
          12368,
          11683,
          11294,
          10615,
          10131,
          10089,
          9043,
          8624,
          8149,
          7321,
          7034,
          6792,
          4783,
          4039,
          3894,
          3483,
          3426,
          3224,
          2166,
          2013,
          1970,
          1958,
          1905,
          1656,
          1108,
          966,
          622,
          585,
          574,
          472,
          463,
          423,
          412,
          348,
          318,
          304,
          230,
          184,
          177,
          124,
          101,
          98,
          93,
          53,
          42,
          38,
          33,
          27,
          20,
          11,
          4,
          0,
          0
         ]
        }
       ],
       "layout": {
        "autosize": true,
        "template": {
         "data": {
          "bar": [
           {
            "error_x": {
             "color": "#2a3f5f"
            },
            "error_y": {
             "color": "#2a3f5f"
            },
            "marker": {
             "line": {
              "color": "#E5ECF6",
              "width": 0.5
             },
             "pattern": {
              "fillmode": "overlay",
              "size": 10,
              "solidity": 0.2
             }
            },
            "type": "bar"
           }
          ],
          "barpolar": [
           {
            "marker": {
             "line": {
              "color": "#E5ECF6",
              "width": 0.5
             },
             "pattern": {
              "fillmode": "overlay",
              "size": 10,
              "solidity": 0.2
             }
            },
            "type": "barpolar"
           }
          ],
          "carpet": [
           {
            "aaxis": {
             "endlinecolor": "#2a3f5f",
             "gridcolor": "white",
             "linecolor": "white",
             "minorgridcolor": "white",
             "startlinecolor": "#2a3f5f"
            },
            "baxis": {
             "endlinecolor": "#2a3f5f",
             "gridcolor": "white",
             "linecolor": "white",
             "minorgridcolor": "white",
             "startlinecolor": "#2a3f5f"
            },
            "type": "carpet"
           }
          ],
          "choropleth": [
           {
            "colorbar": {
             "outlinewidth": 0,
             "ticks": ""
            },
            "type": "choropleth"
           }
          ],
          "contour": [
           {
            "colorbar": {
             "outlinewidth": 0,
             "ticks": ""
            },
            "colorscale": [
             [
              0,
              "#0d0887"
             ],
             [
              0.1111111111111111,
              "#46039f"
             ],
             [
              0.2222222222222222,
              "#7201a8"
             ],
             [
              0.3333333333333333,
              "#9c179e"
             ],
             [
              0.4444444444444444,
              "#bd3786"
             ],
             [
              0.5555555555555556,
              "#d8576b"
             ],
             [
              0.6666666666666666,
              "#ed7953"
             ],
             [
              0.7777777777777778,
              "#fb9f3a"
             ],
             [
              0.8888888888888888,
              "#fdca26"
             ],
             [
              1,
              "#f0f921"
             ]
            ],
            "type": "contour"
           }
          ],
          "contourcarpet": [
           {
            "colorbar": {
             "outlinewidth": 0,
             "ticks": ""
            },
            "type": "contourcarpet"
           }
          ],
          "heatmap": [
           {
            "colorbar": {
             "outlinewidth": 0,
             "ticks": ""
            },
            "colorscale": [
             [
              0,
              "#0d0887"
             ],
             [
              0.1111111111111111,
              "#46039f"
             ],
             [
              0.2222222222222222,
              "#7201a8"
             ],
             [
              0.3333333333333333,
              "#9c179e"
             ],
             [
              0.4444444444444444,
              "#bd3786"
             ],
             [
              0.5555555555555556,
              "#d8576b"
             ],
             [
              0.6666666666666666,
              "#ed7953"
             ],
             [
              0.7777777777777778,
              "#fb9f3a"
             ],
             [
              0.8888888888888888,
              "#fdca26"
             ],
             [
              1,
              "#f0f921"
             ]
            ],
            "type": "heatmap"
           }
          ],
          "heatmapgl": [
           {
            "colorbar": {
             "outlinewidth": 0,
             "ticks": ""
            },
            "colorscale": [
             [
              0,
              "#0d0887"
             ],
             [
              0.1111111111111111,
              "#46039f"
             ],
             [
              0.2222222222222222,
              "#7201a8"
             ],
             [
              0.3333333333333333,
              "#9c179e"
             ],
             [
              0.4444444444444444,
              "#bd3786"
             ],
             [
              0.5555555555555556,
              "#d8576b"
             ],
             [
              0.6666666666666666,
              "#ed7953"
             ],
             [
              0.7777777777777778,
              "#fb9f3a"
             ],
             [
              0.8888888888888888,
              "#fdca26"
             ],
             [
              1,
              "#f0f921"
             ]
            ],
            "type": "heatmapgl"
           }
          ],
          "histogram": [
           {
            "marker": {
             "pattern": {
              "fillmode": "overlay",
              "size": 10,
              "solidity": 0.2
             }
            },
            "type": "histogram"
           }
          ],
          "histogram2d": [
           {
            "colorbar": {
             "outlinewidth": 0,
             "ticks": ""
            },
            "colorscale": [
             [
              0,
              "#0d0887"
             ],
             [
              0.1111111111111111,
              "#46039f"
             ],
             [
              0.2222222222222222,
              "#7201a8"
             ],
             [
              0.3333333333333333,
              "#9c179e"
             ],
             [
              0.4444444444444444,
              "#bd3786"
             ],
             [
              0.5555555555555556,
              "#d8576b"
             ],
             [
              0.6666666666666666,
              "#ed7953"
             ],
             [
              0.7777777777777778,
              "#fb9f3a"
             ],
             [
              0.8888888888888888,
              "#fdca26"
             ],
             [
              1,
              "#f0f921"
             ]
            ],
            "type": "histogram2d"
           }
          ],
          "histogram2dcontour": [
           {
            "colorbar": {
             "outlinewidth": 0,
             "ticks": ""
            },
            "colorscale": [
             [
              0,
              "#0d0887"
             ],
             [
              0.1111111111111111,
              "#46039f"
             ],
             [
              0.2222222222222222,
              "#7201a8"
             ],
             [
              0.3333333333333333,
              "#9c179e"
             ],
             [
              0.4444444444444444,
              "#bd3786"
             ],
             [
              0.5555555555555556,
              "#d8576b"
             ],
             [
              0.6666666666666666,
              "#ed7953"
             ],
             [
              0.7777777777777778,
              "#fb9f3a"
             ],
             [
              0.8888888888888888,
              "#fdca26"
             ],
             [
              1,
              "#f0f921"
             ]
            ],
            "type": "histogram2dcontour"
           }
          ],
          "mesh3d": [
           {
            "colorbar": {
             "outlinewidth": 0,
             "ticks": ""
            },
            "type": "mesh3d"
           }
          ],
          "parcoords": [
           {
            "line": {
             "colorbar": {
              "outlinewidth": 0,
              "ticks": ""
             }
            },
            "type": "parcoords"
           }
          ],
          "pie": [
           {
            "automargin": true,
            "type": "pie"
           }
          ],
          "scatter": [
           {
            "fillpattern": {
             "fillmode": "overlay",
             "size": 10,
             "solidity": 0.2
            },
            "type": "scatter"
           }
          ],
          "scatter3d": [
           {
            "line": {
             "colorbar": {
              "outlinewidth": 0,
              "ticks": ""
             }
            },
            "marker": {
             "colorbar": {
              "outlinewidth": 0,
              "ticks": ""
             }
            },
            "type": "scatter3d"
           }
          ],
          "scattercarpet": [
           {
            "marker": {
             "colorbar": {
              "outlinewidth": 0,
              "ticks": ""
             }
            },
            "type": "scattercarpet"
           }
          ],
          "scattergeo": [
           {
            "marker": {
             "colorbar": {
              "outlinewidth": 0,
              "ticks": ""
             }
            },
            "type": "scattergeo"
           }
          ],
          "scattergl": [
           {
            "marker": {
             "colorbar": {
              "outlinewidth": 0,
              "ticks": ""
             }
            },
            "type": "scattergl"
           }
          ],
          "scattermapbox": [
           {
            "marker": {
             "colorbar": {
              "outlinewidth": 0,
              "ticks": ""
             }
            },
            "type": "scattermapbox"
           }
          ],
          "scatterpolar": [
           {
            "marker": {
             "colorbar": {
              "outlinewidth": 0,
              "ticks": ""
             }
            },
            "type": "scatterpolar"
           }
          ],
          "scatterpolargl": [
           {
            "marker": {
             "colorbar": {
              "outlinewidth": 0,
              "ticks": ""
             }
            },
            "type": "scatterpolargl"
           }
          ],
          "scatterternary": [
           {
            "marker": {
             "colorbar": {
              "outlinewidth": 0,
              "ticks": ""
             }
            },
            "type": "scatterternary"
           }
          ],
          "surface": [
           {
            "colorbar": {
             "outlinewidth": 0,
             "ticks": ""
            },
            "colorscale": [
             [
              0,
              "#0d0887"
             ],
             [
              0.1111111111111111,
              "#46039f"
             ],
             [
              0.2222222222222222,
              "#7201a8"
             ],
             [
              0.3333333333333333,
              "#9c179e"
             ],
             [
              0.4444444444444444,
              "#bd3786"
             ],
             [
              0.5555555555555556,
              "#d8576b"
             ],
             [
              0.6666666666666666,
              "#ed7953"
             ],
             [
              0.7777777777777778,
              "#fb9f3a"
             ],
             [
              0.8888888888888888,
              "#fdca26"
             ],
             [
              1,
              "#f0f921"
             ]
            ],
            "type": "surface"
           }
          ],
          "table": [
           {
            "cells": {
             "fill": {
              "color": "#EBF0F8"
             },
             "line": {
              "color": "white"
             }
            },
            "header": {
             "fill": {
              "color": "#C8D4E3"
             },
             "line": {
              "color": "white"
             }
            },
            "type": "table"
           }
          ]
         },
         "layout": {
          "annotationdefaults": {
           "arrowcolor": "#2a3f5f",
           "arrowhead": 0,
           "arrowwidth": 1
          },
          "autotypenumbers": "strict",
          "coloraxis": {
           "colorbar": {
            "outlinewidth": 0,
            "ticks": ""
           }
          },
          "colorscale": {
           "diverging": [
            [
             0,
             "#8e0152"
            ],
            [
             0.1,
             "#c51b7d"
            ],
            [
             0.2,
             "#de77ae"
            ],
            [
             0.3,
             "#f1b6da"
            ],
            [
             0.4,
             "#fde0ef"
            ],
            [
             0.5,
             "#f7f7f7"
            ],
            [
             0.6,
             "#e6f5d0"
            ],
            [
             0.7,
             "#b8e186"
            ],
            [
             0.8,
             "#7fbc41"
            ],
            [
             0.9,
             "#4d9221"
            ],
            [
             1,
             "#276419"
            ]
           ],
           "sequential": [
            [
             0,
             "#0d0887"
            ],
            [
             0.1111111111111111,
             "#46039f"
            ],
            [
             0.2222222222222222,
             "#7201a8"
            ],
            [
             0.3333333333333333,
             "#9c179e"
            ],
            [
             0.4444444444444444,
             "#bd3786"
            ],
            [
             0.5555555555555556,
             "#d8576b"
            ],
            [
             0.6666666666666666,
             "#ed7953"
            ],
            [
             0.7777777777777778,
             "#fb9f3a"
            ],
            [
             0.8888888888888888,
             "#fdca26"
            ],
            [
             1,
             "#f0f921"
            ]
           ],
           "sequentialminus": [
            [
             0,
             "#0d0887"
            ],
            [
             0.1111111111111111,
             "#46039f"
            ],
            [
             0.2222222222222222,
             "#7201a8"
            ],
            [
             0.3333333333333333,
             "#9c179e"
            ],
            [
             0.4444444444444444,
             "#bd3786"
            ],
            [
             0.5555555555555556,
             "#d8576b"
            ],
            [
             0.6666666666666666,
             "#ed7953"
            ],
            [
             0.7777777777777778,
             "#fb9f3a"
            ],
            [
             0.8888888888888888,
             "#fdca26"
            ],
            [
             1,
             "#f0f921"
            ]
           ]
          },
          "colorway": [
           "#636efa",
           "#EF553B",
           "#00cc96",
           "#ab63fa",
           "#FFA15A",
           "#19d3f3",
           "#FF6692",
           "#B6E880",
           "#FF97FF",
           "#FECB52"
          ],
          "font": {
           "color": "#2a3f5f"
          },
          "geo": {
           "bgcolor": "white",
           "lakecolor": "white",
           "landcolor": "#E5ECF6",
           "showlakes": true,
           "showland": true,
           "subunitcolor": "white"
          },
          "hoverlabel": {
           "align": "left"
          },
          "hovermode": "closest",
          "mapbox": {
           "style": "light"
          },
          "paper_bgcolor": "white",
          "plot_bgcolor": "#E5ECF6",
          "polar": {
           "angularaxis": {
            "gridcolor": "white",
            "linecolor": "white",
            "ticks": ""
           },
           "bgcolor": "#E5ECF6",
           "radialaxis": {
            "gridcolor": "white",
            "linecolor": "white",
            "ticks": ""
           }
          },
          "scene": {
           "xaxis": {
            "backgroundcolor": "#E5ECF6",
            "gridcolor": "white",
            "gridwidth": 2,
            "linecolor": "white",
            "showbackground": true,
            "ticks": "",
            "zerolinecolor": "white"
           },
           "yaxis": {
            "backgroundcolor": "#E5ECF6",
            "gridcolor": "white",
            "gridwidth": 2,
            "linecolor": "white",
            "showbackground": true,
            "ticks": "",
            "zerolinecolor": "white"
           },
           "zaxis": {
            "backgroundcolor": "#E5ECF6",
            "gridcolor": "white",
            "gridwidth": 2,
            "linecolor": "white",
            "showbackground": true,
            "ticks": "",
            "zerolinecolor": "white"
           }
          },
          "shapedefaults": {
           "line": {
            "color": "#2a3f5f"
           }
          },
          "ternary": {
           "aaxis": {
            "gridcolor": "white",
            "linecolor": "white",
            "ticks": ""
           },
           "baxis": {
            "gridcolor": "white",
            "linecolor": "white",
            "ticks": ""
           },
           "bgcolor": "#E5ECF6",
           "caxis": {
            "gridcolor": "white",
            "linecolor": "white",
            "ticks": ""
           }
          },
          "title": {
           "x": 0.05
          },
          "xaxis": {
           "automargin": true,
           "gridcolor": "white",
           "linecolor": "white",
           "ticks": "",
           "title": {
            "standoff": 15
           },
           "zerolinecolor": "white",
           "zerolinewidth": 2
          },
          "yaxis": {
           "automargin": true,
           "gridcolor": "white",
           "linecolor": "white",
           "ticks": "",
           "title": {
            "standoff": 15
           },
           "zerolinecolor": "white",
           "zerolinewidth": 2
          }
         }
        },
        "title": {
         "text": "Number of suicide committed in each country"
        },
        "xaxis": {
         "autorange": true,
         "range": [
          -0.5,
          100.5
         ],
         "title": {
          "text": "Countries"
         },
         "type": "category"
        },
        "yaxis": {
         "autorange": true,
         "range": [
          0,
          1273412.6315789474
         ],
         "title": {
          "text": "Number of suicide"
         },
         "type": "linear"
        }
       }
      },
      "image/png": "[encoded data removed]",
      "text/html": [
       "<div>                            <div id=\"74b96acd-12ab-4944-ab13-33efea964b3f\" class=\"plotly-graph-div\" style=\"height:525px; width:100%;\"></div>            <script type=\"text/javascript\">                require([\"plotly\"], function(Plotly) {                    window.PLOTLYENV=window.PLOTLYENV || {};                                    if (document.getElementById(\"74b96acd-12ab-4944-ab13-33efea964b3f\")) {                    Plotly.newPlot(                        \"74b96acd-12ab-4944-ab13-33efea964b3f\",                        [{\"x\":[\"Russian Federation\",\"United States\",\"Japan\",\"France\",\"Ukraine\",\"Germany\",\"Republic of Korea\",\"Brazil\",\"Poland\",\"United Kingdom\",\"Italy\",\"Mexico\",\"Thailand\",\"Canada\",\"Kazakhstan\",\"Spain\",\"Argentina\",\"Hungary\",\"Romania\",\"Australia\",\"Belgium\",\"Belarus\",\"Sri Lanka\",\"Colombia\",\"Netherlands\",\"Austria\",\"Czech Republic\",\"Cuba\",\"Chile\",\"Sweden\",\"Bulgaria\",\"Uzbekistan\",\"Finland\",\"Lithuania\",\"Switzerland\",\"Serbia\",\"Portugal\",\"Philippines\",\"Ecuador\",\"Croatia\",\"Norway\",\"Denmark\",\"New Zealand\",\"Slovakia\",\"Uruguay\",\"Kyrgyzstan\",\"Latvia\",\"Ireland\",\"Greece\",\"El Salvador\",\"Israel\",\"Slovenia\",\"Turkey\",\"Singapore\",\"Puerto Rico\",\"Turkmenistan\",\"Guatemala\",\"South Africa\",\"Estonia\",\"Costa Rica\",\"Paraguay\",\"Trinidad and Tobago\",\"Mauritius\",\"Panama\",\"Guyana\",\"Georgia\",\"Suriname\",\"Nicaragua\",\"Albania\",\"Luxembourg\",\"Armenia\",\"Azerbaijan\",\"Iceland\",\"Kuwait\",\"United Arab Emirates\",\"Malta\",\"Qatar\",\"Montenegro\",\"Bahrain\",\"Mongolia\",\"Cyprus\",\"Belize\",\"Bosnia and Herzegovina\",\"Fiji\",\"Saint Lucia\",\"Jamaica\",\"Barbados\",\"Saint Vincent and Grenadines\",\"Aruba\",\"Seychelles\",\"Bahamas\",\"Kiribati\",\"Cabo Verde\",\"Grenada\",\"Oman\",\"Macau\",\"Maldives\",\"Antigua and Barbuda\",\"San Marino\",\"Saint Kitts and Nevis\",\"Dominica\"],\"y\":[1209742,1034013,806902,329127,319950,291262,261730,226613,139098,136805,132060,111139,110643,107561,101546,100202,82219,73891,72777,70111,62761,59892,55641,53080,50833,50073,43687,41418,40895,37795,36388,34803,33677,28039,26217,24179,24061,21330,20660,18429,16992,15297,14383,13437,13138,13090,12770,12574,12368,11683,11294,10615,10131,10089,9043,8624,8149,7321,7034,6792,4783,4039,3894,3483,3426,3224,2166,2013,1970,1958,1905,1656,1108,966,622,585,574,472,463,423,412,348,318,304,230,184,177,124,101,98,93,53,42,38,33,27,20,11,4,0,0],\"type\":\"bar\"}],                        {\"template\":{\"data\":{\"barpolar\":[{\"marker\":{\"line\":{\"color\":\"#E5ECF6\",\"width\":0.5},\"pattern\":{\"fillmode\":\"overlay\",\"size\":10,\"solidity\":0.2}},\"type\":\"barpolar\"}],\"bar\":[{\"error_x\":{\"color\":\"#2a3f5f\"},\"error_y\":{\"color\":\"#2a3f5f\"},\"marker\":{\"line\":{\"color\":\"#E5ECF6\",\"width\":0.5},\"pattern\":{\"fillmode\":\"overlay\",\"size\":10,\"solidity\":0.2}},\"type\":\"bar\"}],\"carpet\":[{\"aaxis\":{\"endlinecolor\":\"#2a3f5f\",\"gridcolor\":\"white\",\"linecolor\":\"white\",\"minorgridcolor\":\"white\",\"startlinecolor\":\"#2a3f5f\"},\"baxis\":{\"endlinecolor\":\"#2a3f5f\",\"gridcolor\":\"white\",\"linecolor\":\"white\",\"minorgridcolor\":\"white\",\"startlinecolor\":\"#2a3f5f\"},\"type\":\"carpet\"}],\"choropleth\":[{\"colorbar\":{\"outlinewidth\":0,\"ticks\":\"\"},\"type\":\"choropleth\"}],\"contourcarpet\":[{\"colorbar\":{\"outlinewidth\":0,\"ticks\":\"\"},\"type\":\"contourcarpet\"}],\"contour\":[{\"colorbar\":{\"outlinewidth\":0,\"ticks\":\"\"},\"colorscale\":[[0.0,\"#0d0887\"],[0.1111111111111111,\"#46039f\"],[0.2222222222222222,\"#7201a8\"],[0.3333333333333333,\"#9c179e\"],[0.4444444444444444,\"#bd3786\"],[0.5555555555555556,\"#d8576b\"],[0.6666666666666666,\"#ed7953\"],[0.7777777777777778,\"#fb9f3a\"],[0.8888888888888888,\"#fdca26\"],[1.0,\"#f0f921\"]],\"type\":\"contour\"}],\"heatmapgl\":[{\"colorbar\":{\"outlinewidth\":0,\"ticks\":\"\"},\"colorscale\":[[0.0,\"#0d0887\"],[0.1111111111111111,\"#46039f\"],[0.2222222222222222,\"#7201a8\"],[0.3333333333333333,\"#9c179e\"],[0.4444444444444444,\"#bd3786\"],[0.5555555555555556,\"#d8576b\"],[0.6666666666666666,\"#ed7953\"],[0.7777777777777778,\"#fb9f3a\"],[0.8888888888888888,\"#fdca26\"],[1.0,\"#f0f921\"]],\"type\":\"heatmapgl\"}],\"heatmap\":[{\"colorbar\":{\"outlinewidth\":0,\"ticks\":\"\"},\"colorscale\":[[0.0,\"#0d0887\"],[0.1111111111111111,\"#46039f\"],[0.2222222222222222,\"#7201a8\"],[0.3333333333333333,\"#9c179e\"],[0.4444444444444444,\"#bd3786\"],[0.5555555555555556,\"#d8576b\"],[0.6666666666666666,\"#ed7953\"],[0.7777777777777778,\"#fb9f3a\"],[0.8888888888888888,\"#fdca26\"],[1.0,\"#f0f921\"]],\"type\":\"heatmap\"}],\"histogram2dcontour\":[{\"colorbar\":{\"outlinewidth\":0,\"ticks\":\"\"},\"colorscale\":[[0.0,\"#0d0887\"],[0.1111111111111111,\"#46039f\"],[0.2222222222222222,\"#7201a8\"],[0.3333333333333333,\"#9c179e\"],[0.4444444444444444,\"#bd3786\"],[0.5555555555555556,\"#d8576b\"],[0.6666666666666666,\"#ed7953\"],[0.7777777777777778,\"#fb9f3a\"],[0.8888888888888888,\"#fdca26\"],[1.0,\"#f0f921\"]],\"type\":\"histogram2dcontour\"}],\"histogram2d\":[{\"colorbar\":{\"outlinewidth\":0,\"ticks\":\"\"},\"colorscale\":[[0.0,\"#0d0887\"],[0.1111111111111111,\"#46039f\"],[0.2222222222222222,\"#7201a8\"],[0.3333333333333333,\"#9c179e\"],[0.4444444444444444,\"#bd3786\"],[0.5555555555555556,\"#d8576b\"],[0.6666666666666666,\"#ed7953\"],[0.7777777777777778,\"#fb9f3a\"],[0.8888888888888888,\"#fdca26\"],[1.0,\"#f0f921\"]],\"type\":\"histogram2d\"}],\"histogram\":[{\"marker\":{\"pattern\":{\"fillmode\":\"overlay\",\"size\":10,\"solidity\":0.2}},\"type\":\"histogram\"}],\"mesh3d\":[{\"colorbar\":{\"outlinewidth\":0,\"ticks\":\"\"},\"type\":\"mesh3d\"}],\"parcoords\":[{\"line\":{\"colorbar\":{\"outlinewidth\":0,\"ticks\":\"\"}},\"type\":\"parcoords\"}],\"pie\":[{\"automargin\":true,\"type\":\"pie\"}],\"scatter3d\":[{\"line\":{\"colorbar\":{\"outlinewidth\":0,\"ticks\":\"\"}},\"marker\":{\"colorbar\":{\"outlinewidth\":0,\"ticks\":\"\"}},\"type\":\"scatter3d\"}],\"scattercarpet\":[{\"marker\":{\"colorbar\":{\"outlinewidth\":0,\"ticks\":\"\"}},\"type\":\"scattercarpet\"}],\"scattergeo\":[{\"marker\":{\"colorbar\":{\"outlinewidth\":0,\"ticks\":\"\"}},\"type\":\"scattergeo\"}],\"scattergl\":[{\"marker\":{\"colorbar\":{\"outlinewidth\":0,\"ticks\":\"\"}},\"type\":\"scattergl\"}],\"scattermapbox\":[{\"marker\":{\"colorbar\":{\"outlinewidth\":0,\"ticks\":\"\"}},\"type\":\"scattermapbox\"}],\"scatterpolargl\":[{\"marker\":{\"colorbar\":{\"outlinewidth\":0,\"ticks\":\"\"}},\"type\":\"scatterpolargl\"}],\"scatterpolar\":[{\"marker\":{\"colorbar\":{\"outlinewidth\":0,\"ticks\":\"\"}},\"type\":\"scatterpolar\"}],\"scatter\":[{\"fillpattern\":{\"fillmode\":\"overlay\",\"size\":10,\"solidity\":0.2},\"type\":\"scatter\"}],\"scatterternary\":[{\"marker\":{\"colorbar\":{\"outlinewidth\":0,\"ticks\":\"\"}},\"type\":\"scatterternary\"}],\"surface\":[{\"colorbar\":{\"outlinewidth\":0,\"ticks\":\"\"},\"colorscale\":[[0.0,\"#0d0887\"],[0.1111111111111111,\"#46039f\"],[0.2222222222222222,\"#7201a8\"],[0.3333333333333333,\"#9c179e\"],[0.4444444444444444,\"#bd3786\"],[0.5555555555555556,\"#d8576b\"],[0.6666666666666666,\"#ed7953\"],[0.7777777777777778,\"#fb9f3a\"],[0.8888888888888888,\"#fdca26\"],[1.0,\"#f0f921\"]],\"type\":\"surface\"}],\"table\":[{\"cells\":{\"fill\":{\"color\":\"#EBF0F8\"},\"line\":{\"color\":\"white\"}},\"header\":{\"fill\":{\"color\":\"#C8D4E3\"},\"line\":{\"color\":\"white\"}},\"type\":\"table\"}]},\"layout\":{\"annotationdefaults\":{\"arrowcolor\":\"#2a3f5f\",\"arrowhead\":0,\"arrowwidth\":1},\"autotypenumbers\":\"strict\",\"coloraxis\":{\"colorbar\":{\"outlinewidth\":0,\"ticks\":\"\"}},\"colorscale\":{\"diverging\":[[0,\"#8e0152\"],[0.1,\"#c51b7d\"],[0.2,\"#de77ae\"],[0.3,\"#f1b6da\"],[0.4,\"#fde0ef\"],[0.5,\"#f7f7f7\"],[0.6,\"#e6f5d0\"],[0.7,\"#b8e186\"],[0.8,\"#7fbc41\"],[0.9,\"#4d9221\"],[1,\"#276419\"]],\"sequential\":[[0.0,\"#0d0887\"],[0.1111111111111111,\"#46039f\"],[0.2222222222222222,\"#7201a8\"],[0.3333333333333333,\"#9c179e\"],[0.4444444444444444,\"#bd3786\"],[0.5555555555555556,\"#d8576b\"],[0.6666666666666666,\"#ed7953\"],[0.7777777777777778,\"#fb9f3a\"],[0.8888888888888888,\"#fdca26\"],[1.0,\"#f0f921\"]],\"sequentialminus\":[[0.0,\"#0d0887\"],[0.1111111111111111,\"#46039f\"],[0.2222222222222222,\"#7201a8\"],[0.3333333333333333,\"#9c179e\"],[0.4444444444444444,\"#bd3786\"],[0.5555555555555556,\"#d8576b\"],[0.6666666666666666,\"#ed7953\"],[0.7777777777777778,\"#fb9f3a\"],[0.8888888888888888,\"#fdca26\"],[1.0,\"#f0f921\"]]},\"colorway\":[\"#636efa\",\"#EF553B\",\"#00cc96\",\"#ab63fa\",\"#FFA15A\",\"#19d3f3\",\"#FF6692\",\"#B6E880\",\"#FF97FF\",\"#FECB52\"],\"font\":{\"color\":\"#2a3f5f\"},\"geo\":{\"bgcolor\":\"white\",\"lakecolor\":\"white\",\"landcolor\":\"#E5ECF6\",\"showlakes\":true,\"showland\":true,\"subunitcolor\":\"white\"},\"hoverlabel\":{\"align\":\"left\"},\"hovermode\":\"closest\",\"mapbox\":{\"style\":\"light\"},\"paper_bgcolor\":\"white\",\"plot_bgcolor\":\"#E5ECF6\",\"polar\":{\"angularaxis\":{\"gridcolor\":\"white\",\"linecolor\":\"white\",\"ticks\":\"\"},\"bgcolor\":\"#E5ECF6\",\"radialaxis\":{\"gridcolor\":\"white\",\"linecolor\":\"white\",\"ticks\":\"\"}},\"scene\":{\"xaxis\":{\"backgroundcolor\":\"#E5ECF6\",\"gridcolor\":\"white\",\"gridwidth\":2,\"linecolor\":\"white\",\"showbackground\":true,\"ticks\":\"\",\"zerolinecolor\":\"white\"},\"yaxis\":{\"backgroundcolor\":\"#E5ECF6\",\"gridcolor\":\"white\",\"gridwidth\":2,\"linecolor\":\"white\",\"showbackground\":true,\"ticks\":\"\",\"zerolinecolor\":\"white\"},\"zaxis\":{\"backgroundcolor\":\"#E5ECF6\",\"gridcolor\":\"white\",\"gridwidth\":2,\"linecolor\":\"white\",\"showbackground\":true,\"ticks\":\"\",\"zerolinecolor\":\"white\"}},\"shapedefaults\":{\"line\":{\"color\":\"#2a3f5f\"}},\"ternary\":{\"aaxis\":{\"gridcolor\":\"white\",\"linecolor\":\"white\",\"ticks\":\"\"},\"baxis\":{\"gridcolor\":\"white\",\"linecolor\":\"white\",\"ticks\":\"\"},\"bgcolor\":\"#E5ECF6\",\"caxis\":{\"gridcolor\":\"white\",\"linecolor\":\"white\",\"ticks\":\"\"}},\"title\":{\"x\":0.05},\"xaxis\":{\"automargin\":true,\"gridcolor\":\"white\",\"linecolor\":\"white\",\"ticks\":\"\",\"title\":{\"standoff\":15},\"zerolinecolor\":\"white\",\"zerolinewidth\":2},\"yaxis\":{\"automargin\":true,\"gridcolor\":\"white\",\"linecolor\":\"white\",\"ticks\":\"\",\"title\":{\"standoff\":15},\"zerolinecolor\":\"white\",\"zerolinewidth\":2}}},\"title\":{\"text\":\"Number of suicide committed in each country\"},\"xaxis\":{\"title\":{\"text\":\"Countries\"}},\"yaxis\":{\"title\":{\"text\":\"Number of suicide\"}}},                        {\"responsive\": true}                    ).then(function(){\n",
       "                            \n",
       "var gd = document.getElementById('74b96acd-12ab-4944-ab13-33efea964b3f');\n",
       "var x = new MutationObserver(function (mutations, observer) {{\n",
       "        var display = window.getComputedStyle(gd).display;\n",
       "        if (!display || display === 'none') {{\n",
       "            console.log([gd, 'removed!']);\n",
       "            Plotly.purge(gd);\n",
       "            observer.disconnect();\n",
       "        }}\n",
       "}});\n",
       "\n",
       "// Listen for the removal of the full notebook cells\n",
       "var notebookContainer = gd.closest('#notebook-container');\n",
       "if (notebookContainer) {{\n",
       "    x.observe(notebookContainer, {childList: true});\n",
       "}}\n",
       "\n",
       "// Listen for the clearing of the current output cell\n",
       "var outputEl = gd.closest('.output');\n",
       "if (outputEl) {{\n",
       "    x.observe(outputEl, {childList: true});\n",
       "}}\n",
       "\n",
       "                        })                };                });            </script>        </div>"
      ]
     },
     "metadata": {},
     "output_type": "display_data"
    }
   ],
   "source": [
    "trace1 = go.Bar(\n",
    "    y = country_suicide_series.values,\n",
    "    x = country_suicide_series.index\n",
    ")\n",
    "data = [trace1]\n",
    "layout = go.Layout(\n",
    "    title = \"Number of suicide committed in each country\",\n",
    "    xaxis = {\n",
    "        'title':'Countries'\n",
    "    },\n",
    "    yaxis = {\n",
    "        'title':'Number of suicide'\n",
    "    }\n",
    ")\n",
    "figure = go.Figure(data = data, layout = layout)\n",
    "py.offline.iplot(figure)"
   ]
  },
  {
   "cell_type": "markdown",
   "id": "6c6324bc-d008-4ef3-b34e-2bf33f355717",
   "metadata": {},
   "source": [
    "# Number of suicides genderwise"
   ]
  },
  {
   "cell_type": "code",
   "execution_count": 13,
   "id": "8620d28c-5779-4d06-bc8b-3b29f6c368db",
   "metadata": {},
   "outputs": [
    {
     "data": {
      "text/plain": [
       "sex\n",
       "female    1559510\n",
       "male      5188910\n",
       "Name: suicides_no, dtype: int64"
      ]
     },
     "execution_count": 13,
     "metadata": {},
     "output_type": "execute_result"
    }
   ],
   "source": [
    "genderwise_suicide = suicide.pivot_table(index = 'sex', aggfunc = 'sum').suicides_no\n",
    "genderwise_suicide"
   ]
  },
  {
   "cell_type": "code",
   "execution_count": 14,
   "id": "fceeaba8-1950-4eaa-b768-c157f8c049f2",
   "metadata": {},
   "outputs": [
    {
     "data": {
      "text/plain": [
       "6748420"
      ]
     },
     "execution_count": 14,
     "metadata": {},
     "output_type": "execute_result"
    }
   ],
   "source": [
    "suicide.suicides_no.sum()"
   ]
  },
  {
   "cell_type": "code",
   "execution_count": 15,
   "id": "c01159d4-c82b-49ab-aa42-2cfcc716933f",
   "metadata": {},
   "outputs": [
    {
     "data": {
      "text/plain": [
       "<Axes: xlabel='sex', ylabel='suicides_no'>"
      ]
     },
     "execution_count": 15,
     "metadata": {},
     "output_type": "execute_result"
    },
    {
     "data": {
      "image/png": "[encoded data removed]",
      "text/plain": [
       "<Figure size 640x480 with 1 Axes>"
      ]
     },
     "metadata": {},
     "output_type": "display_data"
    }
   ],
   "source": [
    "sns.barplot(genderwise_suicide)"
   ]
  },
  {
   "cell_type": "markdown",
   "id": "07729e72-abaf-4cee-afac-f316100cece5",
   "metadata": {},
   "source": [
    "# Number of suicides genderwise in each country"
   ]
  },
  {
   "cell_type": "code",
   "execution_count": 17,
   "id": "c87ed7c9-e09f-412d-a6ea-36492d5031ea",
   "metadata": {},
   "outputs": [],
   "source": [
    "country_wise_gender_suicide_df = pd.DataFrame({\n",
    "    'country' : suicide.country,\n",
    "    'sex' : suicide.sex,\n",
    "    'suicides_no': suicide.suicides_no\n",
    "})"
   ]
  },
  {
   "cell_type": "code",
   "execution_count": 18,
   "id": "a11bf01a-12c8-40e0-9fcf-342e7a9f02fe",
   "metadata": {},
   "outputs": [
    {
     "data": {
      "text/html": [
       "<div>\n",
       "<style scoped>\n",
       "    .dataframe tbody tr th:only-of-type {\n",
       "        vertical-align: middle;\n",
       "    }\n",
       "\n",
       "    .dataframe tbody tr th {\n",
       "        vertical-align: top;\n",
       "    }\n",
       "\n",
       "    .dataframe thead tr th {\n",
       "        text-align: left;\n",
       "    }\n",
       "\n",
       "    .dataframe thead tr:last-of-type th {\n",
       "        text-align: right;\n",
       "    }\n",
       "</style>\n",
       "<table border=\"1\" class=\"dataframe\">\n",
       "  <thead>\n",
       "    <tr>\n",
       "      <th></th>\n",
       "      <th colspan=\"2\" halign=\"left\">suicides_no</th>\n",
       "    </tr>\n",
       "    <tr>\n",
       "      <th>sex</th>\n",
       "      <th>female</th>\n",
       "      <th>male</th>\n",
       "    </tr>\n",
       "    <tr>\n",
       "      <th>country</th>\n",
       "      <th></th>\n",
       "      <th></th>\n",
       "    </tr>\n",
       "  </thead>\n",
       "  <tbody>\n",
       "    <tr>\n",
       "      <th>Albania</th>\n",
       "      <td>693</td>\n",
       "      <td>1277</td>\n",
       "    </tr>\n",
       "    <tr>\n",
       "      <th>Antigua and Barbuda</th>\n",
       "      <td>1</td>\n",
       "      <td>10</td>\n",
       "    </tr>\n",
       "    <tr>\n",
       "      <th>Argentina</th>\n",
       "      <td>18326</td>\n",
       "      <td>63893</td>\n",
       "    </tr>\n",
       "    <tr>\n",
       "      <th>Armenia</th>\n",
       "      <td>495</td>\n",
       "      <td>1410</td>\n",
       "    </tr>\n",
       "    <tr>\n",
       "      <th>Aruba</th>\n",
       "      <td>17</td>\n",
       "      <td>84</td>\n",
       "    </tr>\n",
       "    <tr>\n",
       "      <th>...</th>\n",
       "      <td>...</td>\n",
       "      <td>...</td>\n",
       "    </tr>\n",
       "    <tr>\n",
       "      <th>United Arab Emirates</th>\n",
       "      <td>98</td>\n",
       "      <td>524</td>\n",
       "    </tr>\n",
       "    <tr>\n",
       "      <th>United Kingdom</th>\n",
       "      <td>32687</td>\n",
       "      <td>104118</td>\n",
       "    </tr>\n",
       "    <tr>\n",
       "      <th>United States</th>\n",
       "      <td>213797</td>\n",
       "      <td>820216</td>\n",
       "    </tr>\n",
       "    <tr>\n",
       "      <th>Uruguay</th>\n",
       "      <td>2820</td>\n",
       "      <td>10318</td>\n",
       "    </tr>\n",
       "    <tr>\n",
       "      <th>Uzbekistan</th>\n",
       "      <td>9260</td>\n",
       "      <td>25543</td>\n",
       "    </tr>\n",
       "  </tbody>\n",
       "</table>\n",
       "<p>101 rows × 2 columns</p>\n",
       "</div>"
      ],
      "text/plain": [
       "                     suicides_no        \n",
       "sex                       female    male\n",
       "country                                 \n",
       "Albania                      693    1277\n",
       "Antigua and Barbuda            1      10\n",
       "Argentina                  18326   63893\n",
       "Armenia                      495    1410\n",
       "Aruba                         17      84\n",
       "...                          ...     ...\n",
       "United Arab Emirates          98     524\n",
       "United Kingdom             32687  104118\n",
       "United States             213797  820216\n",
       "Uruguay                     2820   10318\n",
       "Uzbekistan                  9260   25543\n",
       "\n",
       "[101 rows x 2 columns]"
      ]
     },
     "execution_count": 18,
     "metadata": {},
     "output_type": "execute_result"
    }
   ],
   "source": [
    "country_wise_gender_suicide = country_wise_gender_suicide_df.pivot_table(index = 'country', columns = 'sex', aggfunc = 'sum')\n",
    "country_wise_gender_suicide"
   ]
  },
  {
   "cell_type": "code",
   "execution_count": 19,
   "id": "490f6ec5-18a4-4c6a-8fbd-4ac8b8f46941",
   "metadata": {},
   "outputs": [],
   "source": [
    "# country_wise_gender_suicide.plot.bar(stacked = True, figsize = (30, 10), cmap = 'coolwarm')"
   ]
  },
  {
   "cell_type": "code",
   "execution_count": 20,
   "id": "0b97732a-6478-40fc-a370-0650cf750ce5",
   "metadata": {},
   "outputs": [],
   "source": [
    "country_wise_gender_suicide.columns = country_wise_gender_suicide.columns.droplevel()"
   ]
  },
  {
   "cell_type": "code",
   "execution_count": 21,
   "id": "b1ac59cd-359c-442b-9b10-2028b9762027",
   "metadata": {},
   "outputs": [
    {
     "data": {
      "text/html": [
       "<div>\n",
       "<style scoped>\n",
       "    .dataframe tbody tr th:only-of-type {\n",
       "        vertical-align: middle;\n",
       "    }\n",
       "\n",
       "    .dataframe tbody tr th {\n",
       "        vertical-align: top;\n",
       "    }\n",
       "\n",
       "    .dataframe thead th {\n",
       "        text-align: right;\n",
       "    }\n",
       "</style>\n",
       "<table border=\"1\" class=\"dataframe\">\n",
       "  <thead>\n",
       "    <tr style=\"text-align: right;\">\n",
       "      <th>sex</th>\n",
       "      <th>female</th>\n",
       "      <th>male</th>\n",
       "    </tr>\n",
       "    <tr>\n",
       "      <th>country</th>\n",
       "      <th></th>\n",
       "      <th></th>\n",
       "    </tr>\n",
       "  </thead>\n",
       "  <tbody>\n",
       "    <tr>\n",
       "      <th>Japan</th>\n",
       "      <td>251630</td>\n",
       "      <td>555272</td>\n",
       "    </tr>\n",
       "    <tr>\n",
       "      <th>Russian Federation</th>\n",
       "      <td>214330</td>\n",
       "      <td>995412</td>\n",
       "    </tr>\n",
       "    <tr>\n",
       "      <th>United States</th>\n",
       "      <td>213797</td>\n",
       "      <td>820216</td>\n",
       "    </tr>\n",
       "    <tr>\n",
       "      <th>France</th>\n",
       "      <td>89419</td>\n",
       "      <td>239708</td>\n",
       "    </tr>\n",
       "    <tr>\n",
       "      <th>Republic of Korea</th>\n",
       "      <td>82615</td>\n",
       "      <td>179115</td>\n",
       "    </tr>\n",
       "    <tr>\n",
       "      <th>...</th>\n",
       "      <td>...</td>\n",
       "      <td>...</td>\n",
       "    </tr>\n",
       "    <tr>\n",
       "      <th>Antigua and Barbuda</th>\n",
       "      <td>1</td>\n",
       "      <td>10</td>\n",
       "    </tr>\n",
       "    <tr>\n",
       "      <th>Saint Kitts and Nevis</th>\n",
       "      <td>0</td>\n",
       "      <td>0</td>\n",
       "    </tr>\n",
       "    <tr>\n",
       "      <th>Oman</th>\n",
       "      <td>0</td>\n",
       "      <td>33</td>\n",
       "    </tr>\n",
       "    <tr>\n",
       "      <th>San Marino</th>\n",
       "      <td>0</td>\n",
       "      <td>4</td>\n",
       "    </tr>\n",
       "    <tr>\n",
       "      <th>Dominica</th>\n",
       "      <td>0</td>\n",
       "      <td>0</td>\n",
       "    </tr>\n",
       "  </tbody>\n",
       "</table>\n",
       "<p>101 rows × 2 columns</p>\n",
       "</div>"
      ],
      "text/plain": [
       "sex                    female    male\n",
       "country                              \n",
       "Japan                  251630  555272\n",
       "Russian Federation     214330  995412\n",
       "United States          213797  820216\n",
       "France                  89419  239708\n",
       "Republic of Korea       82615  179115\n",
       "...                       ...     ...\n",
       "Antigua and Barbuda         1      10\n",
       "Saint Kitts and Nevis       0       0\n",
       "Oman                        0      33\n",
       "San Marino                  0       4\n",
       "Dominica                    0       0\n",
       "\n",
       "[101 rows x 2 columns]"
      ]
     },
     "execution_count": 21,
     "metadata": {},
     "output_type": "execute_result"
    }
   ],
   "source": [
    "country_wise_gender_suicide = country_wise_gender_suicide.sort_values(by = 'female', ascending = False)\n",
    "country_wise_gender_suicide"
   ]
  },
  {
   "cell_type": "code",
   "execution_count": 22,
   "id": "e3254817-adec-4fc9-991e-c08d3d0b14fd",
   "metadata": {},
   "outputs": [
    {
     "data": {
      "application/vnd.plotly.v1+json": {
       "config": {
        "linkText": "Export to plot.ly",
        "plotlyServerURL": "https://plot.ly",
        "showLink": false
       },
       "data": [
        {
         "name": "Number of female suicides",
         "type": "bar",
         "x": [
          "Japan",
          "Russian Federation",
          "United States",
          "France",
          "Republic of Korea",
          "Germany",
          "Ukraine",
          "Brazil",
          "Italy",
          "United Kingdom",
          "Thailand",
          "Spain",
          "Canada",
          "Poland",
          "Mexico",
          "Argentina",
          "Kazakhstan",
          "Hungary",
          "Belgium",
          "Netherlands",
          "Australia",
          "Sri Lanka",
          "Austria",
          "Romania",
          "Cuba",
          "Colombia",
          "Sweden",
          "Belarus",
          "Bulgaria",
          "Uzbekistan",
          "Czech Republic",
          "Switzerland",
          "Finland",
          "Chile",
          "Serbia",
          "Ecuador",
          "Portugal",
          "Philippines",
          "Lithuania",
          "Norway",
          "Croatia",
          "Denmark",
          "Singapore",
          "New Zealand",
          "El Salvador",
          "Uruguay",
          "Israel",
          "Kyrgyzstan",
          "Turkey",
          "Greece",
          "Latvia",
          "Ireland",
          "Slovenia",
          "Turkmenistan",
          "Slovakia",
          "Guatemala",
          "South Africa",
          "Paraguay",
          "Estonia",
          "Puerto Rico",
          "Mauritius",
          "Costa Rica",
          "Trinidad and Tobago",
          "Guyana",
          "Georgia",
          "Albania",
          "Suriname",
          "Luxembourg",
          "Panama",
          "Armenia",
          "Nicaragua",
          "Azerbaijan",
          "Kuwait",
          "Iceland",
          "Montenegro",
          "Malta",
          "United Arab Emirates",
          "Fiji",
          "Cyprus",
          "Bahrain",
          "Bosnia and Herzegovina",
          "Mongolia",
          "Belize",
          "Qatar",
          "Saint Lucia",
          "Barbados",
          "Jamaica",
          "Aruba",
          "Bahamas",
          "Macau",
          "Saint Vincent and Grenadines",
          "Kiribati",
          "Seychelles",
          "Maldives",
          "Cabo Verde",
          "Grenada",
          "Antigua and Barbuda",
          "Saint Kitts and Nevis",
          "Oman",
          "San Marino",
          "Dominica"
         ],
         "y": [
          251630,
          214330,
          213797,
          89419,
          82615,
          79707,
          61377,
          49015,
          32881,
          32687,
          28101,
          24669,
          24184,
          21063,
          19334,
          18326,
          18160,
          18115,
          18012,
          16886,
          15326,
          13598,
          13195,
          13182,
          11675,
          11343,
          11183,
          10002,
          9968,
          9260,
          9247,
          7739,
          7660,
          6834,
          6763,
          6238,
          5874,
          5273,
          5011,
          4685,
          4675,
          4329,
          3793,
          3355,
          3345,
          2820,
          2681,
          2637,
          2569,
          2540,
          2474,
          2451,
          2302,
          2096,
          2024,
          1973,
          1602,
          1457,
          1393,
          1054,
          995,
          979,
          820,
          818,
          694,
          693,
          568,
          542,
          512,
          495,
          482,
          412,
          301,
          255,
          144,
          110,
          98,
          91,
          82,
          80,
          70,
          52,
          51,
          50,
          34,
          33,
          26,
          17,
          14,
          12,
          11,
          10,
          9,
          6,
          5,
          4,
          1,
          0,
          0,
          0,
          0
         ]
        },
        {
         "name": "Number of male suicides",
         "type": "bar",
         "x": [
          "Japan",
          "Russian Federation",
          "United States",
          "France",
          "Republic of Korea",
          "Germany",
          "Ukraine",
          "Brazil",
          "Italy",
          "United Kingdom",
          "Thailand",
          "Spain",
          "Canada",
          "Poland",
          "Mexico",
          "Argentina",
          "Kazakhstan",
          "Hungary",
          "Belgium",
          "Netherlands",
          "Australia",
          "Sri Lanka",
          "Austria",
          "Romania",
          "Cuba",
          "Colombia",
          "Sweden",
          "Belarus",
          "Bulgaria",
          "Uzbekistan",
          "Czech Republic",
          "Switzerland",
          "Finland",
          "Chile",
          "Serbia",
          "Ecuador",
          "Portugal",
          "Philippines",
          "Lithuania",
          "Norway",
          "Croatia",
          "Denmark",
          "Singapore",
          "New Zealand",
          "El Salvador",
          "Uruguay",
          "Israel",
          "Kyrgyzstan",
          "Turkey",
          "Greece",
          "Latvia",
          "Ireland",
          "Slovenia",
          "Turkmenistan",
          "Slovakia",
          "Guatemala",
          "South Africa",
          "Paraguay",
          "Estonia",
          "Puerto Rico",
          "Mauritius",
          "Costa Rica",
          "Trinidad and Tobago",
          "Guyana",
          "Georgia",
          "Albania",
          "Suriname",
          "Luxembourg",
          "Panama",
          "Armenia",
          "Nicaragua",
          "Azerbaijan",
          "Kuwait",
          "Iceland",
          "Montenegro",
          "Malta",
          "United Arab Emirates",
          "Fiji",
          "Cyprus",
          "Bahrain",
          "Bosnia and Herzegovina",
          "Mongolia",
          "Belize",
          "Qatar",
          "Saint Lucia",
          "Barbados",
          "Jamaica",
          "Aruba",
          "Bahamas",
          "Macau",
          "Saint Vincent and Grenadines",
          "Kiribati",
          "Seychelles",
          "Maldives",
          "Cabo Verde",
          "Grenada",
          "Antigua and Barbuda",
          "Saint Kitts and Nevis",
          "Oman",
          "San Marino",
          "Dominica"
         ],
         "y": [
          555272,
          995412,
          820216,
          239708,
          179115,
          211555,
          258573,
          177598,
          99179,
          104118,
          82542,
          75533,
          83377,
          118035,
          91805,
          63893,
          83386,
          55776,
          44749,
          33947,
          54785,
          42043,
          36878,
          59595,
          29743,
          41737,
          26612,
          49890,
          26420,
          25543,
          34440,
          18478,
          26017,
          34061,
          17416,
          14422,
          18187,
          16057,
          23028,
          12307,
          13754,
          10968,
          6296,
          11028,
          8338,
          10318,
          8613,
          10453,
          7562,
          9828,
          10296,
          10123,
          8313,
          6528,
          11413,
          6176,
          5719,
          3326,
          5641,
          7989,
          2899,
          5813,
          3219,
          2608,
          2530,
          1277,
          1598,
          1416,
          2971,
          1410,
          1531,
          1244,
          665,
          853,
          328,
          475,
          524,
          213,
          330,
          383,
          248,
          371,
          297,
          524,
          196,
          144,
          158,
          84,
          79,
          15,
          113,
          43,
          89,
          14,
          37,
          34,
          10,
          0,
          33,
          4,
          0
         ]
        }
       ],
       "layout": {
        "autosize": true,
        "barmode": "stack",
        "template": {
         "data": {
          "bar": [
           {
            "error_x": {
             "color": "#2a3f5f"
            },
            "error_y": {
             "color": "#2a3f5f"
            },
            "marker": {
             "line": {
              "color": "#E5ECF6",
              "width": 0.5
             },
             "pattern": {
              "fillmode": "overlay",
              "size": 10,
              "solidity": 0.2
             }
            },
            "type": "bar"
           }
          ],
          "barpolar": [
           {
            "marker": {
             "line": {
              "color": "#E5ECF6",
              "width": 0.5
             },
             "pattern": {
              "fillmode": "overlay",
              "size": 10,
              "solidity": 0.2
             }
            },
            "type": "barpolar"
           }
          ],
          "carpet": [
           {
            "aaxis": {
             "endlinecolor": "#2a3f5f",
             "gridcolor": "white",
             "linecolor": "white",
             "minorgridcolor": "white",
             "startlinecolor": "#2a3f5f"
            },
            "baxis": {
             "endlinecolor": "#2a3f5f",
             "gridcolor": "white",
             "linecolor": "white",
             "minorgridcolor": "white",
             "startlinecolor": "#2a3f5f"
            },
            "type": "carpet"
           }
          ],
          "choropleth": [
           {
            "colorbar": {
             "outlinewidth": 0,
             "ticks": ""
            },
            "type": "choropleth"
           }
          ],
          "contour": [
           {
            "colorbar": {
             "outlinewidth": 0,
             "ticks": ""
            },
            "colorscale": [
             [
              0,
              "#0d0887"
             ],
             [
              0.1111111111111111,
              "#46039f"
             ],
             [
              0.2222222222222222,
              "#7201a8"
             ],
             [
              0.3333333333333333,
              "#9c179e"
             ],
             [
              0.4444444444444444,
              "#bd3786"
             ],
             [
              0.5555555555555556,
              "#d8576b"
             ],
             [
              0.6666666666666666,
              "#ed7953"
             ],
             [
              0.7777777777777778,
              "#fb9f3a"
             ],
             [
              0.8888888888888888,
              "#fdca26"
             ],
             [
              1,
              "#f0f921"
             ]
            ],
            "type": "contour"
           }
          ],
          "contourcarpet": [
           {
            "colorbar": {
             "outlinewidth": 0,
             "ticks": ""
            },
            "type": "contourcarpet"
           }
          ],
          "heatmap": [
           {
            "colorbar": {
             "outlinewidth": 0,
             "ticks": ""
            },
            "colorscale": [
             [
              0,
              "#0d0887"
             ],
             [
              0.1111111111111111,
              "#46039f"
             ],
             [
              0.2222222222222222,
              "#7201a8"
             ],
             [
              0.3333333333333333,
              "#9c179e"
             ],
             [
              0.4444444444444444,
              "#bd3786"
             ],
             [
              0.5555555555555556,
              "#d8576b"
             ],
             [
              0.6666666666666666,
              "#ed7953"
             ],
             [
              0.7777777777777778,
              "#fb9f3a"
             ],
             [
              0.8888888888888888,
              "#fdca26"
             ],
             [
              1,
              "#f0f921"
             ]
            ],
            "type": "heatmap"
           }
          ],
          "heatmapgl": [
           {
            "colorbar": {
             "outlinewidth": 0,
             "ticks": ""
            },
            "colorscale": [
             [
              0,
              "#0d0887"
             ],
             [
              0.1111111111111111,
              "#46039f"
             ],
             [
              0.2222222222222222,
              "#7201a8"
             ],
             [
              0.3333333333333333,
              "#9c179e"
             ],
             [
              0.4444444444444444,
              "#bd3786"
             ],
             [
              0.5555555555555556,
              "#d8576b"
             ],
             [
              0.6666666666666666,
              "#ed7953"
             ],
             [
              0.7777777777777778,
              "#fb9f3a"
             ],
             [
              0.8888888888888888,
              "#fdca26"
             ],
             [
              1,
              "#f0f921"
             ]
            ],
            "type": "heatmapgl"
           }
          ],
          "histogram": [
           {
            "marker": {
             "pattern": {
              "fillmode": "overlay",
              "size": 10,
              "solidity": 0.2
             }
            },
            "type": "histogram"
           }
          ],
          "histogram2d": [
           {
            "colorbar": {
             "outlinewidth": 0,
             "ticks": ""
            },
            "colorscale": [
             [
              0,
              "#0d0887"
             ],
             [
              0.1111111111111111,
              "#46039f"
             ],
             [
              0.2222222222222222,
              "#7201a8"
             ],
             [
              0.3333333333333333,
              "#9c179e"
             ],
             [
              0.4444444444444444,
              "#bd3786"
             ],
             [
              0.5555555555555556,
              "#d8576b"
             ],
             [
              0.6666666666666666,
              "#ed7953"
             ],
             [
              0.7777777777777778,
              "#fb9f3a"
             ],
             [
              0.8888888888888888,
              "#fdca26"
             ],
             [
              1,
              "#f0f921"
             ]
            ],
            "type": "histogram2d"
           }
          ],
          "histogram2dcontour": [
           {
            "colorbar": {
             "outlinewidth": 0,
             "ticks": ""
            },
            "colorscale": [
             [
              0,
              "#0d0887"
             ],
             [
              0.1111111111111111,
              "#46039f"
             ],
             [
              0.2222222222222222,
              "#7201a8"
             ],
             [
              0.3333333333333333,
              "#9c179e"
             ],
             [
              0.4444444444444444,
              "#bd3786"
             ],
             [
              0.5555555555555556,
              "#d8576b"
             ],
             [
              0.6666666666666666,
              "#ed7953"
             ],
             [
              0.7777777777777778,
              "#fb9f3a"
             ],
             [
              0.8888888888888888,
              "#fdca26"
             ],
             [
              1,
              "#f0f921"
             ]
            ],
            "type": "histogram2dcontour"
           }
          ],
          "mesh3d": [
           {
            "colorbar": {
             "outlinewidth": 0,
             "ticks": ""
            },
            "type": "mesh3d"
           }
          ],
          "parcoords": [
           {
            "line": {
             "colorbar": {
              "outlinewidth": 0,
              "ticks": ""
             }
            },
            "type": "parcoords"
           }
          ],
          "pie": [
           {
            "automargin": true,
            "type": "pie"
           }
          ],
          "scatter": [
           {
            "fillpattern": {
             "fillmode": "overlay",
             "size": 10,
             "solidity": 0.2
            },
            "type": "scatter"
           }
          ],
          "scatter3d": [
           {
            "line": {
             "colorbar": {
              "outlinewidth": 0,
              "ticks": ""
             }
            },
            "marker": {
             "colorbar": {
              "outlinewidth": 0,
              "ticks": ""
             }
            },
            "type": "scatter3d"
           }
          ],
          "scattercarpet": [
           {
            "marker": {
             "colorbar": {
              "outlinewidth": 0,
              "ticks": ""
             }
            },
            "type": "scattercarpet"
           }
          ],
          "scattergeo": [
           {
            "marker": {
             "colorbar": {
              "outlinewidth": 0,
              "ticks": ""
             }
            },
            "type": "scattergeo"
           }
          ],
          "scattergl": [
           {
            "marker": {
             "colorbar": {
              "outlinewidth": 0,
              "ticks": ""
             }
            },
            "type": "scattergl"
           }
          ],
          "scattermapbox": [
           {
            "marker": {
             "colorbar": {
              "outlinewidth": 0,
              "ticks": ""
             }
            },
            "type": "scattermapbox"
           }
          ],
          "scatterpolar": [
           {
            "marker": {
             "colorbar": {
              "outlinewidth": 0,
              "ticks": ""
             }
            },
            "type": "scatterpolar"
           }
          ],
          "scatterpolargl": [
           {
            "marker": {
             "colorbar": {
              "outlinewidth": 0,
              "ticks": ""
             }
            },
            "type": "scatterpolargl"
           }
          ],
          "scatterternary": [
           {
            "marker": {
             "colorbar": {
              "outlinewidth": 0,
              "ticks": ""
             }
            },
            "type": "scatterternary"
           }
          ],
          "surface": [
           {
            "colorbar": {
             "outlinewidth": 0,
             "ticks": ""
            },
            "colorscale": [
             [
              0,
              "#0d0887"
             ],
             [
              0.1111111111111111,
              "#46039f"
             ],
             [
              0.2222222222222222,
              "#7201a8"
             ],
             [
              0.3333333333333333,
              "#9c179e"
             ],
             [
              0.4444444444444444,
              "#bd3786"
             ],
             [
              0.5555555555555556,
              "#d8576b"
             ],
             [
              0.6666666666666666,
              "#ed7953"
             ],
             [
              0.7777777777777778,
              "#fb9f3a"
             ],
             [
              0.8888888888888888,
              "#fdca26"
             ],
             [
              1,
              "#f0f921"
             ]
            ],
            "type": "surface"
           }
          ],
          "table": [
           {
            "cells": {
             "fill": {
              "color": "#EBF0F8"
             },
             "line": {
              "color": "white"
             }
            },
            "header": {
             "fill": {
              "color": "#C8D4E3"
             },
             "line": {
              "color": "white"
             }
            },
            "type": "table"
           }
          ]
         },
         "layout": {
          "annotationdefaults": {
           "arrowcolor": "#2a3f5f",
           "arrowhead": 0,
           "arrowwidth": 1
          },
          "autotypenumbers": "strict",
          "coloraxis": {
           "colorbar": {
            "outlinewidth": 0,
            "ticks": ""
           }
          },
          "colorscale": {
           "diverging": [
            [
             0,
             "#8e0152"
            ],
            [
             0.1,
             "#c51b7d"
            ],
            [
             0.2,
             "#de77ae"
            ],
            [
             0.3,
             "#f1b6da"
            ],
            [
             0.4,
             "#fde0ef"
            ],
            [
             0.5,
             "#f7f7f7"
            ],
            [
             0.6,
             "#e6f5d0"
            ],
            [
             0.7,
             "#b8e186"
            ],
            [
             0.8,
             "#7fbc41"
            ],
            [
             0.9,
             "#4d9221"
            ],
            [
             1,
             "#276419"
            ]
           ],
           "sequential": [
            [
             0,
             "#0d0887"
            ],
            [
             0.1111111111111111,
             "#46039f"
            ],
            [
             0.2222222222222222,
             "#7201a8"
            ],
            [
             0.3333333333333333,
             "#9c179e"
            ],
            [
             0.4444444444444444,
             "#bd3786"
            ],
            [
             0.5555555555555556,
             "#d8576b"
            ],
            [
             0.6666666666666666,
             "#ed7953"
            ],
            [
             0.7777777777777778,
             "#fb9f3a"
            ],
            [
             0.8888888888888888,
             "#fdca26"
            ],
            [
             1,
             "#f0f921"
            ]
           ],
           "sequentialminus": [
            [
             0,
             "#0d0887"
            ],
            [
             0.1111111111111111,
             "#46039f"
            ],
            [
             0.2222222222222222,
             "#7201a8"
            ],
            [
             0.3333333333333333,
             "#9c179e"
            ],
            [
             0.4444444444444444,
             "#bd3786"
            ],
            [
             0.5555555555555556,
             "#d8576b"
            ],
            [
             0.6666666666666666,
             "#ed7953"
            ],
            [
             0.7777777777777778,
             "#fb9f3a"
            ],
            [
             0.8888888888888888,
             "#fdca26"
            ],
            [
             1,
             "#f0f921"
            ]
           ]
          },
          "colorway": [
           "#636efa",
           "#EF553B",
           "#00cc96",
           "#ab63fa",
           "#FFA15A",
           "#19d3f3",
           "#FF6692",
           "#B6E880",
           "#FF97FF",
           "#FECB52"
          ],
          "font": {
           "color": "#2a3f5f"
          },
          "geo": {
           "bgcolor": "white",
           "lakecolor": "white",
           "landcolor": "#E5ECF6",
           "showlakes": true,
           "showland": true,
           "subunitcolor": "white"
          },
          "hoverlabel": {
           "align": "left"
          },
          "hovermode": "closest",
          "mapbox": {
           "style": "light"
          },
          "paper_bgcolor": "white",
          "plot_bgcolor": "#E5ECF6",
          "polar": {
           "angularaxis": {
            "gridcolor": "white",
            "linecolor": "white",
            "ticks": ""
           },
           "bgcolor": "#E5ECF6",
           "radialaxis": {
            "gridcolor": "white",
            "linecolor": "white",
            "ticks": ""
           }
          },
          "scene": {
           "xaxis": {
            "backgroundcolor": "#E5ECF6",
            "gridcolor": "white",
            "gridwidth": 2,
            "linecolor": "white",
            "showbackground": true,
            "ticks": "",
            "zerolinecolor": "white"
           },
           "yaxis": {
            "backgroundcolor": "#E5ECF6",
            "gridcolor": "white",
            "gridwidth": 2,
            "linecolor": "white",
            "showbackground": true,
            "ticks": "",
            "zerolinecolor": "white"
           },
           "zaxis": {
            "backgroundcolor": "#E5ECF6",
            "gridcolor": "white",
            "gridwidth": 2,
            "linecolor": "white",
            "showbackground": true,
            "ticks": "",
            "zerolinecolor": "white"
           }
          },
          "shapedefaults": {
           "line": {
            "color": "#2a3f5f"
           }
          },
          "ternary": {
           "aaxis": {
            "gridcolor": "white",
            "linecolor": "white",
            "ticks": ""
           },
           "baxis": {
            "gridcolor": "white",
            "linecolor": "white",
            "ticks": ""
           },
           "bgcolor": "#E5ECF6",
           "caxis": {
            "gridcolor": "white",
            "linecolor": "white",
            "ticks": ""
           }
          },
          "title": {
           "x": 0.05
          },
          "xaxis": {
           "automargin": true,
           "gridcolor": "white",
           "linecolor": "white",
           "ticks": "",
           "title": {
            "standoff": 15
           },
           "zerolinecolor": "white",
           "zerolinewidth": 2
          },
          "yaxis": {
           "automargin": true,
           "gridcolor": "white",
           "linecolor": "white",
           "ticks": "",
           "title": {
            "standoff": 15
           },
           "zerolinecolor": "white",
           "zerolinewidth": 2
          }
         }
        },
        "title": {
         "text": "Number of suicides genderwise in each country"
        },
        "xaxis": {
         "autorange": true,
         "range": [
          -0.5,
          100.5
         ],
         "title": {
          "text": "Countries"
         },
         "type": "category"
        },
        "yaxis": {
         "autorange": true,
         "range": [
          0,
          1273412.6315789474
         ],
         "title": {
          "text": "Number of suicide"
         },
         "type": "linear"
        }
       }
      },
      "image/png": "[encoded data removed]",
      "text/html": [
       "<div>                            <div id=\"f4d91dcb-7f73-4f3a-ad71-cc39ff2b0e18\" class=\"plotly-graph-div\" style=\"height:525px; width:100%;\"></div>            <script type=\"text/javascript\">                require([\"plotly\"], function(Plotly) {                    window.PLOTLYENV=window.PLOTLYENV || {};                                    if (document.getElementById(\"f4d91dcb-7f73-4f3a-ad71-cc39ff2b0e18\")) {                    Plotly.newPlot(                        \"f4d91dcb-7f73-4f3a-ad71-cc39ff2b0e18\",                        [{\"name\":\"Number of female suicides\",\"x\":[\"Japan\",\"Russian Federation\",\"United States\",\"France\",\"Republic of Korea\",\"Germany\",\"Ukraine\",\"Brazil\",\"Italy\",\"United Kingdom\",\"Thailand\",\"Spain\",\"Canada\",\"Poland\",\"Mexico\",\"Argentina\",\"Kazakhstan\",\"Hungary\",\"Belgium\",\"Netherlands\",\"Australia\",\"Sri Lanka\",\"Austria\",\"Romania\",\"Cuba\",\"Colombia\",\"Sweden\",\"Belarus\",\"Bulgaria\",\"Uzbekistan\",\"Czech Republic\",\"Switzerland\",\"Finland\",\"Chile\",\"Serbia\",\"Ecuador\",\"Portugal\",\"Philippines\",\"Lithuania\",\"Norway\",\"Croatia\",\"Denmark\",\"Singapore\",\"New Zealand\",\"El Salvador\",\"Uruguay\",\"Israel\",\"Kyrgyzstan\",\"Turkey\",\"Greece\",\"Latvia\",\"Ireland\",\"Slovenia\",\"Turkmenistan\",\"Slovakia\",\"Guatemala\",\"South Africa\",\"Paraguay\",\"Estonia\",\"Puerto Rico\",\"Mauritius\",\"Costa Rica\",\"Trinidad and Tobago\",\"Guyana\",\"Georgia\",\"Albania\",\"Suriname\",\"Luxembourg\",\"Panama\",\"Armenia\",\"Nicaragua\",\"Azerbaijan\",\"Kuwait\",\"Iceland\",\"Montenegro\",\"Malta\",\"United Arab Emirates\",\"Fiji\",\"Cyprus\",\"Bahrain\",\"Bosnia and Herzegovina\",\"Mongolia\",\"Belize\",\"Qatar\",\"Saint Lucia\",\"Barbados\",\"Jamaica\",\"Aruba\",\"Bahamas\",\"Macau\",\"Saint Vincent and Grenadines\",\"Kiribati\",\"Seychelles\",\"Maldives\",\"Cabo Verde\",\"Grenada\",\"Antigua and Barbuda\",\"Saint Kitts and Nevis\",\"Oman\",\"San Marino\",\"Dominica\"],\"y\":[251630,214330,213797,89419,82615,79707,61377,49015,32881,32687,28101,24669,24184,21063,19334,18326,18160,18115,18012,16886,15326,13598,13195,13182,11675,11343,11183,10002,9968,9260,9247,7739,7660,6834,6763,6238,5874,5273,5011,4685,4675,4329,3793,3355,3345,2820,2681,2637,2569,2540,2474,2451,2302,2096,2024,1973,1602,1457,1393,1054,995,979,820,818,694,693,568,542,512,495,482,412,301,255,144,110,98,91,82,80,70,52,51,50,34,33,26,17,14,12,11,10,9,6,5,4,1,0,0,0,0],\"type\":\"bar\"},{\"name\":\"Number of male suicides\",\"x\":[\"Japan\",\"Russian Federation\",\"United States\",\"France\",\"Republic of Korea\",\"Germany\",\"Ukraine\",\"Brazil\",\"Italy\",\"United Kingdom\",\"Thailand\",\"Spain\",\"Canada\",\"Poland\",\"Mexico\",\"Argentina\",\"Kazakhstan\",\"Hungary\",\"Belgium\",\"Netherlands\",\"Australia\",\"Sri Lanka\",\"Austria\",\"Romania\",\"Cuba\",\"Colombia\",\"Sweden\",\"Belarus\",\"Bulgaria\",\"Uzbekistan\",\"Czech Republic\",\"Switzerland\",\"Finland\",\"Chile\",\"Serbia\",\"Ecuador\",\"Portugal\",\"Philippines\",\"Lithuania\",\"Norway\",\"Croatia\",\"Denmark\",\"Singapore\",\"New Zealand\",\"El Salvador\",\"Uruguay\",\"Israel\",\"Kyrgyzstan\",\"Turkey\",\"Greece\",\"Latvia\",\"Ireland\",\"Slovenia\",\"Turkmenistan\",\"Slovakia\",\"Guatemala\",\"South Africa\",\"Paraguay\",\"Estonia\",\"Puerto Rico\",\"Mauritius\",\"Costa Rica\",\"Trinidad and Tobago\",\"Guyana\",\"Georgia\",\"Albania\",\"Suriname\",\"Luxembourg\",\"Panama\",\"Armenia\",\"Nicaragua\",\"Azerbaijan\",\"Kuwait\",\"Iceland\",\"Montenegro\",\"Malta\",\"United Arab Emirates\",\"Fiji\",\"Cyprus\",\"Bahrain\",\"Bosnia and Herzegovina\",\"Mongolia\",\"Belize\",\"Qatar\",\"Saint Lucia\",\"Barbados\",\"Jamaica\",\"Aruba\",\"Bahamas\",\"Macau\",\"Saint Vincent and Grenadines\",\"Kiribati\",\"Seychelles\",\"Maldives\",\"Cabo Verde\",\"Grenada\",\"Antigua and Barbuda\",\"Saint Kitts and Nevis\",\"Oman\",\"San Marino\",\"Dominica\"],\"y\":[555272,995412,820216,239708,179115,211555,258573,177598,99179,104118,82542,75533,83377,118035,91805,63893,83386,55776,44749,33947,54785,42043,36878,59595,29743,41737,26612,49890,26420,25543,34440,18478,26017,34061,17416,14422,18187,16057,23028,12307,13754,10968,6296,11028,8338,10318,8613,10453,7562,9828,10296,10123,8313,6528,11413,6176,5719,3326,5641,7989,2899,5813,3219,2608,2530,1277,1598,1416,2971,1410,1531,1244,665,853,328,475,524,213,330,383,248,371,297,524,196,144,158,84,79,15,113,43,89,14,37,34,10,0,33,4,0],\"type\":\"bar\"}],                        {\"barmode\":\"stack\",\"template\":{\"data\":{\"barpolar\":[{\"marker\":{\"line\":{\"color\":\"#E5ECF6\",\"width\":0.5},\"pattern\":{\"fillmode\":\"overlay\",\"size\":10,\"solidity\":0.2}},\"type\":\"barpolar\"}],\"bar\":[{\"error_x\":{\"color\":\"#2a3f5f\"},\"error_y\":{\"color\":\"#2a3f5f\"},\"marker\":{\"line\":{\"color\":\"#E5ECF6\",\"width\":0.5},\"pattern\":{\"fillmode\":\"overlay\",\"size\":10,\"solidity\":0.2}},\"type\":\"bar\"}],\"carpet\":[{\"aaxis\":{\"endlinecolor\":\"#2a3f5f\",\"gridcolor\":\"white\",\"linecolor\":\"white\",\"minorgridcolor\":\"white\",\"startlinecolor\":\"#2a3f5f\"},\"baxis\":{\"endlinecolor\":\"#2a3f5f\",\"gridcolor\":\"white\",\"linecolor\":\"white\",\"minorgridcolor\":\"white\",\"startlinecolor\":\"#2a3f5f\"},\"type\":\"carpet\"}],\"choropleth\":[{\"colorbar\":{\"outlinewidth\":0,\"ticks\":\"\"},\"type\":\"choropleth\"}],\"contourcarpet\":[{\"colorbar\":{\"outlinewidth\":0,\"ticks\":\"\"},\"type\":\"contourcarpet\"}],\"contour\":[{\"colorbar\":{\"outlinewidth\":0,\"ticks\":\"\"},\"colorscale\":[[0.0,\"#0d0887\"],[0.1111111111111111,\"#46039f\"],[0.2222222222222222,\"#7201a8\"],[0.3333333333333333,\"#9c179e\"],[0.4444444444444444,\"#bd3786\"],[0.5555555555555556,\"#d8576b\"],[0.6666666666666666,\"#ed7953\"],[0.7777777777777778,\"#fb9f3a\"],[0.8888888888888888,\"#fdca26\"],[1.0,\"#f0f921\"]],\"type\":\"contour\"}],\"heatmapgl\":[{\"colorbar\":{\"outlinewidth\":0,\"ticks\":\"\"},\"colorscale\":[[0.0,\"#0d0887\"],[0.1111111111111111,\"#46039f\"],[0.2222222222222222,\"#7201a8\"],[0.3333333333333333,\"#9c179e\"],[0.4444444444444444,\"#bd3786\"],[0.5555555555555556,\"#d8576b\"],[0.6666666666666666,\"#ed7953\"],[0.7777777777777778,\"#fb9f3a\"],[0.8888888888888888,\"#fdca26\"],[1.0,\"#f0f921\"]],\"type\":\"heatmapgl\"}],\"heatmap\":[{\"colorbar\":{\"outlinewidth\":0,\"ticks\":\"\"},\"colorscale\":[[0.0,\"#0d0887\"],[0.1111111111111111,\"#46039f\"],[0.2222222222222222,\"#7201a8\"],[0.3333333333333333,\"#9c179e\"],[0.4444444444444444,\"#bd3786\"],[0.5555555555555556,\"#d8576b\"],[0.6666666666666666,\"#ed7953\"],[0.7777777777777778,\"#fb9f3a\"],[0.8888888888888888,\"#fdca26\"],[1.0,\"#f0f921\"]],\"type\":\"heatmap\"}],\"histogram2dcontour\":[{\"colorbar\":{\"outlinewidth\":0,\"ticks\":\"\"},\"colorscale\":[[0.0,\"#0d0887\"],[0.1111111111111111,\"#46039f\"],[0.2222222222222222,\"#7201a8\"],[0.3333333333333333,\"#9c179e\"],[0.4444444444444444,\"#bd3786\"],[0.5555555555555556,\"#d8576b\"],[0.6666666666666666,\"#ed7953\"],[0.7777777777777778,\"#fb9f3a\"],[0.8888888888888888,\"#fdca26\"],[1.0,\"#f0f921\"]],\"type\":\"histogram2dcontour\"}],\"histogram2d\":[{\"colorbar\":{\"outlinewidth\":0,\"ticks\":\"\"},\"colorscale\":[[0.0,\"#0d0887\"],[0.1111111111111111,\"#46039f\"],[0.2222222222222222,\"#7201a8\"],[0.3333333333333333,\"#9c179e\"],[0.4444444444444444,\"#bd3786\"],[0.5555555555555556,\"#d8576b\"],[0.6666666666666666,\"#ed7953\"],[0.7777777777777778,\"#fb9f3a\"],[0.8888888888888888,\"#fdca26\"],[1.0,\"#f0f921\"]],\"type\":\"histogram2d\"}],\"histogram\":[{\"marker\":{\"pattern\":{\"fillmode\":\"overlay\",\"size\":10,\"solidity\":0.2}},\"type\":\"histogram\"}],\"mesh3d\":[{\"colorbar\":{\"outlinewidth\":0,\"ticks\":\"\"},\"type\":\"mesh3d\"}],\"parcoords\":[{\"line\":{\"colorbar\":{\"outlinewidth\":0,\"ticks\":\"\"}},\"type\":\"parcoords\"}],\"pie\":[{\"automargin\":true,\"type\":\"pie\"}],\"scatter3d\":[{\"line\":{\"colorbar\":{\"outlinewidth\":0,\"ticks\":\"\"}},\"marker\":{\"colorbar\":{\"outlinewidth\":0,\"ticks\":\"\"}},\"type\":\"scatter3d\"}],\"scattercarpet\":[{\"marker\":{\"colorbar\":{\"outlinewidth\":0,\"ticks\":\"\"}},\"type\":\"scattercarpet\"}],\"scattergeo\":[{\"marker\":{\"colorbar\":{\"outlinewidth\":0,\"ticks\":\"\"}},\"type\":\"scattergeo\"}],\"scattergl\":[{\"marker\":{\"colorbar\":{\"outlinewidth\":0,\"ticks\":\"\"}},\"type\":\"scattergl\"}],\"scattermapbox\":[{\"marker\":{\"colorbar\":{\"outlinewidth\":0,\"ticks\":\"\"}},\"type\":\"scattermapbox\"}],\"scatterpolargl\":[{\"marker\":{\"colorbar\":{\"outlinewidth\":0,\"ticks\":\"\"}},\"type\":\"scatterpolargl\"}],\"scatterpolar\":[{\"marker\":{\"colorbar\":{\"outlinewidth\":0,\"ticks\":\"\"}},\"type\":\"scatterpolar\"}],\"scatter\":[{\"fillpattern\":{\"fillmode\":\"overlay\",\"size\":10,\"solidity\":0.2},\"type\":\"scatter\"}],\"scatterternary\":[{\"marker\":{\"colorbar\":{\"outlinewidth\":0,\"ticks\":\"\"}},\"type\":\"scatterternary\"}],\"surface\":[{\"colorbar\":{\"outlinewidth\":0,\"ticks\":\"\"},\"colorscale\":[[0.0,\"#0d0887\"],[0.1111111111111111,\"#46039f\"],[0.2222222222222222,\"#7201a8\"],[0.3333333333333333,\"#9c179e\"],[0.4444444444444444,\"#bd3786\"],[0.5555555555555556,\"#d8576b\"],[0.6666666666666666,\"#ed7953\"],[0.7777777777777778,\"#fb9f3a\"],[0.8888888888888888,\"#fdca26\"],[1.0,\"#f0f921\"]],\"type\":\"surface\"}],\"table\":[{\"cells\":{\"fill\":{\"color\":\"#EBF0F8\"},\"line\":{\"color\":\"white\"}},\"header\":{\"fill\":{\"color\":\"#C8D4E3\"},\"line\":{\"color\":\"white\"}},\"type\":\"table\"}]},\"layout\":{\"annotationdefaults\":{\"arrowcolor\":\"#2a3f5f\",\"arrowhead\":0,\"arrowwidth\":1},\"autotypenumbers\":\"strict\",\"coloraxis\":{\"colorbar\":{\"outlinewidth\":0,\"ticks\":\"\"}},\"colorscale\":{\"diverging\":[[0,\"#8e0152\"],[0.1,\"#c51b7d\"],[0.2,\"#de77ae\"],[0.3,\"#f1b6da\"],[0.4,\"#fde0ef\"],[0.5,\"#f7f7f7\"],[0.6,\"#e6f5d0\"],[0.7,\"#b8e186\"],[0.8,\"#7fbc41\"],[0.9,\"#4d9221\"],[1,\"#276419\"]],\"sequential\":[[0.0,\"#0d0887\"],[0.1111111111111111,\"#46039f\"],[0.2222222222222222,\"#7201a8\"],[0.3333333333333333,\"#9c179e\"],[0.4444444444444444,\"#bd3786\"],[0.5555555555555556,\"#d8576b\"],[0.6666666666666666,\"#ed7953\"],[0.7777777777777778,\"#fb9f3a\"],[0.8888888888888888,\"#fdca26\"],[1.0,\"#f0f921\"]],\"sequentialminus\":[[0.0,\"#0d0887\"],[0.1111111111111111,\"#46039f\"],[0.2222222222222222,\"#7201a8\"],[0.3333333333333333,\"#9c179e\"],[0.4444444444444444,\"#bd3786\"],[0.5555555555555556,\"#d8576b\"],[0.6666666666666666,\"#ed7953\"],[0.7777777777777778,\"#fb9f3a\"],[0.8888888888888888,\"#fdca26\"],[1.0,\"#f0f921\"]]},\"colorway\":[\"#636efa\",\"#EF553B\",\"#00cc96\",\"#ab63fa\",\"#FFA15A\",\"#19d3f3\",\"#FF6692\",\"#B6E880\",\"#FF97FF\",\"#FECB52\"],\"font\":{\"color\":\"#2a3f5f\"},\"geo\":{\"bgcolor\":\"white\",\"lakecolor\":\"white\",\"landcolor\":\"#E5ECF6\",\"showlakes\":true,\"showland\":true,\"subunitcolor\":\"white\"},\"hoverlabel\":{\"align\":\"left\"},\"hovermode\":\"closest\",\"mapbox\":{\"style\":\"light\"},\"paper_bgcolor\":\"white\",\"plot_bgcolor\":\"#E5ECF6\",\"polar\":{\"angularaxis\":{\"gridcolor\":\"white\",\"linecolor\":\"white\",\"ticks\":\"\"},\"bgcolor\":\"#E5ECF6\",\"radialaxis\":{\"gridcolor\":\"white\",\"linecolor\":\"white\",\"ticks\":\"\"}},\"scene\":{\"xaxis\":{\"backgroundcolor\":\"#E5ECF6\",\"gridcolor\":\"white\",\"gridwidth\":2,\"linecolor\":\"white\",\"showbackground\":true,\"ticks\":\"\",\"zerolinecolor\":\"white\"},\"yaxis\":{\"backgroundcolor\":\"#E5ECF6\",\"gridcolor\":\"white\",\"gridwidth\":2,\"linecolor\":\"white\",\"showbackground\":true,\"ticks\":\"\",\"zerolinecolor\":\"white\"},\"zaxis\":{\"backgroundcolor\":\"#E5ECF6\",\"gridcolor\":\"white\",\"gridwidth\":2,\"linecolor\":\"white\",\"showbackground\":true,\"ticks\":\"\",\"zerolinecolor\":\"white\"}},\"shapedefaults\":{\"line\":{\"color\":\"#2a3f5f\"}},\"ternary\":{\"aaxis\":{\"gridcolor\":\"white\",\"linecolor\":\"white\",\"ticks\":\"\"},\"baxis\":{\"gridcolor\":\"white\",\"linecolor\":\"white\",\"ticks\":\"\"},\"bgcolor\":\"#E5ECF6\",\"caxis\":{\"gridcolor\":\"white\",\"linecolor\":\"white\",\"ticks\":\"\"}},\"title\":{\"x\":0.05},\"xaxis\":{\"automargin\":true,\"gridcolor\":\"white\",\"linecolor\":\"white\",\"ticks\":\"\",\"title\":{\"standoff\":15},\"zerolinecolor\":\"white\",\"zerolinewidth\":2},\"yaxis\":{\"automargin\":true,\"gridcolor\":\"white\",\"linecolor\":\"white\",\"ticks\":\"\",\"title\":{\"standoff\":15},\"zerolinecolor\":\"white\",\"zerolinewidth\":2}}},\"title\":{\"text\":\"Number of suicides genderwise in each country\"},\"xaxis\":{\"title\":{\"text\":\"Countries\"}},\"yaxis\":{\"title\":{\"text\":\"Number of suicide\"}}},                        {\"responsive\": true}                    ).then(function(){\n",
       "                            \n",
       "var gd = document.getElementById('f4d91dcb-7f73-4f3a-ad71-cc39ff2b0e18');\n",
       "var x = new MutationObserver(function (mutations, observer) {{\n",
       "        var display = window.getComputedStyle(gd).display;\n",
       "        if (!display || display === 'none') {{\n",
       "            console.log([gd, 'removed!']);\n",
       "            Plotly.purge(gd);\n",
       "            observer.disconnect();\n",
       "        }}\n",
       "}});\n",
       "\n",
       "// Listen for the removal of the full notebook cells\n",
       "var notebookContainer = gd.closest('#notebook-container');\n",
       "if (notebookContainer) {{\n",
       "    x.observe(notebookContainer, {childList: true});\n",
       "}}\n",
       "\n",
       "// Listen for the clearing of the current output cell\n",
       "var outputEl = gd.closest('.output');\n",
       "if (outputEl) {{\n",
       "    x.observe(outputEl, {childList: true});\n",
       "}}\n",
       "\n",
       "                        })                };                });            </script>        </div>"
      ]
     },
     "metadata": {},
     "output_type": "display_data"
    }
   ],
   "source": [
    "trace1 = go.Bar(\n",
    "    x = country_wise_gender_suicide.index,\n",
    "    y = country_wise_gender_suicide.female,\n",
    "    name = 'Number of female suicides'\n",
    ")\n",
    "trace2 = go.Bar(\n",
    "    x = country_wise_gender_suicide.index,\n",
    "    y = country_wise_gender_suicide.male,\n",
    "    name = 'Number of male suicides'\n",
    ")\n",
    "data = [trace1, trace2]\n",
    "layout = go.Layout(\n",
    "    barmode = 'stack',\n",
    "    title = \"Number of suicides genderwise in each country\",\n",
    "    xaxis = {\n",
    "        'title':\"Countries\"\n",
    "    },\n",
    "    yaxis ={\n",
    "        'title':\"Number of suicide\"\n",
    "    }\n",
    ")\n",
    "fig = go.Figure(data = data, layout = layout)\n",
    "py.offline.iplot(fig)"
   ]
  },
  {
   "cell_type": "markdown",
   "id": "183b3c8d-49b5-4174-bc4e-85ebd4ff8745",
   "metadata": {},
   "source": [
    "# Suicide Committed by various age groups"
   ]
  },
  {
   "cell_type": "code",
   "execution_count": 24,
   "id": "2980b8da-90e7-4d6b-ba4c-186627187081",
   "metadata": {},
   "outputs": [
    {
     "data": {
      "text/html": [
       "<div>\n",
       "<style scoped>\n",
       "    .dataframe tbody tr th:only-of-type {\n",
       "        vertical-align: middle;\n",
       "    }\n",
       "\n",
       "    .dataframe tbody tr th {\n",
       "        vertical-align: top;\n",
       "    }\n",
       "\n",
       "    .dataframe thead th {\n",
       "        text-align: right;\n",
       "    }\n",
       "</style>\n",
       "<table border=\"1\" class=\"dataframe\">\n",
       "  <thead>\n",
       "    <tr style=\"text-align: right;\">\n",
       "      <th></th>\n",
       "      <th>gdp_for_year ($)</th>\n",
       "      <th>HDI for year</th>\n",
       "      <th>country</th>\n",
       "      <th>country-year</th>\n",
       "      <th>gdp_per_capita ($)</th>\n",
       "      <th>generation</th>\n",
       "      <th>population</th>\n",
       "      <th>sex</th>\n",
       "      <th>suicides/100k pop</th>\n",
       "      <th>suicides_no</th>\n",
       "      <th>year</th>\n",
       "    </tr>\n",
       "    <tr>\n",
       "      <th>age</th>\n",
       "      <th></th>\n",
       "      <th></th>\n",
       "      <th></th>\n",
       "      <th></th>\n",
       "      <th></th>\n",
       "      <th></th>\n",
       "      <th></th>\n",
       "      <th></th>\n",
       "      <th></th>\n",
       "      <th></th>\n",
       "      <th></th>\n",
       "    </tr>\n",
       "  </thead>\n",
       "  <tbody>\n",
       "    <tr>\n",
       "      <th>15-24 years</th>\n",
       "      <td>2,156,624,9002,156,624,9002,126,000,0002,126,0...</td>\n",
       "      <td>1082.582</td>\n",
       "      <td>AlbaniaAlbaniaAlbaniaAlbaniaAlbaniaAlbaniaAlba...</td>\n",
       "      <td>Albania1987Albania1987Albania1988Albania1988Al...</td>\n",
       "      <td>78341054</td>\n",
       "      <td>Generation XGeneration XGeneration XGeneration...</td>\n",
       "      <td>8642946896</td>\n",
       "      <td>malefemalemalefemalemalefemalemalefemalemalefe...</td>\n",
       "      <td>41532.69</td>\n",
       "      <td>808542</td>\n",
       "      <td>9289920</td>\n",
       "    </tr>\n",
       "    <tr>\n",
       "      <th>25-34 years</th>\n",
       "      <td>2,156,624,9002,156,624,9002,126,000,0002,126,0...</td>\n",
       "      <td>1082.582</td>\n",
       "      <td>AlbaniaAlbaniaAlbaniaAlbaniaAlbaniaAlbaniaAlba...</td>\n",
       "      <td>Albania1987Albania1987Albania1988Albania1988Al...</td>\n",
       "      <td>78341054</td>\n",
       "      <td>BoomersBoomersBoomersBoomersBoomersBoomersBoom...</td>\n",
       "      <td>8438103587</td>\n",
       "      <td>malefemalefemalemalemalefemalemalefemalemalefe...</td>\n",
       "      <td>56571.52</td>\n",
       "      <td>1123912</td>\n",
       "      <td>9289920</td>\n",
       "    </tr>\n",
       "  </tbody>\n",
       "</table>\n",
       "</div>"
      ],
      "text/plain": [
       "                                             gdp_for_year ($)   HDI for year  \\\n",
       "age                                                                            \n",
       "15-24 years  2,156,624,9002,156,624,9002,126,000,0002,126,0...      1082.582   \n",
       "25-34 years  2,156,624,9002,156,624,9002,126,000,0002,126,0...      1082.582   \n",
       "\n",
       "                                                       country  \\\n",
       "age                                                              \n",
       "15-24 years  AlbaniaAlbaniaAlbaniaAlbaniaAlbaniaAlbaniaAlba...   \n",
       "25-34 years  AlbaniaAlbaniaAlbaniaAlbaniaAlbaniaAlbaniaAlba...   \n",
       "\n",
       "                                                  country-year  \\\n",
       "age                                                              \n",
       "15-24 years  Albania1987Albania1987Albania1988Albania1988Al...   \n",
       "25-34 years  Albania1987Albania1987Albania1988Albania1988Al...   \n",
       "\n",
       "             gdp_per_capita ($)  \\\n",
       "age                               \n",
       "15-24 years            78341054   \n",
       "25-34 years            78341054   \n",
       "\n",
       "                                                    generation  population  \\\n",
       "age                                                                          \n",
       "15-24 years  Generation XGeneration XGeneration XGeneration...  8642946896   \n",
       "25-34 years  BoomersBoomersBoomersBoomersBoomersBoomersBoom...  8438103587   \n",
       "\n",
       "                                                           sex  \\\n",
       "age                                                              \n",
       "15-24 years  malefemalemalefemalemalefemalemalefemalemalefe...   \n",
       "25-34 years  malefemalefemalemalemalefemalemalefemalemalefe...   \n",
       "\n",
       "             suicides/100k pop  suicides_no     year  \n",
       "age                                                   \n",
       "15-24 years           41532.69       808542  9289920  \n",
       "25-34 years           56571.52      1123912  9289920  "
      ]
     },
     "execution_count": 24,
     "metadata": {},
     "output_type": "execute_result"
    }
   ],
   "source": [
    "agewise_suicides = suicide.pivot_table(index='age', aggfunc = 'sum')\n",
    "agewise_suicides.head(2)"
   ]
  },
  {
   "cell_type": "code",
   "execution_count": 25,
   "id": "61bd595b-9f41-4b4b-bf81-1f51b457681a",
   "metadata": {},
   "outputs": [
    {
     "data": {
      "text/plain": [
       "Index([' gdp_for_year ($) ', 'HDI for year', 'country', 'country-year',\n",
       "       'gdp_per_capita ($)', 'generation', 'population', 'sex',\n",
       "       'suicides/100k pop', 'suicides_no', 'year'],\n",
       "      dtype='object')"
      ]
     },
     "execution_count": 25,
     "metadata": {},
     "output_type": "execute_result"
    }
   ],
   "source": [
    "agewise_suicides.columns"
   ]
  },
  {
   "cell_type": "code",
   "execution_count": 26,
   "id": "cbcbf831-a042-41df-b733-d30fc899aff5",
   "metadata": {},
   "outputs": [],
   "source": [
    "agewise_suicides_df = pd.DataFrame({\n",
    "    'suicides_no' : agewise_suicides['suicides_no']\n",
    "}, index = agewise_suicides.index)"
   ]
  },
  {
   "cell_type": "code",
   "execution_count": 27,
   "id": "2a38e1f2-935a-4361-9802-edcd169efda4",
   "metadata": {},
   "outputs": [
    {
     "data": {
      "text/plain": [
       "<Axes: xlabel='age'>"
      ]
     },
     "execution_count": 27,
     "metadata": {},
     "output_type": "execute_result"
    },
    {
     "data": {
      "image/png": "[encoded data removed]",
      "text/plain": [
       "<Figure size 640x480 with 1 Axes>"
      ]
     },
     "metadata": {},
     "output_type": "display_data"
    }
   ],
   "source": [
    "agewise_suicides_df.sort_values(by = 'suicides_no', ascending = False).plot.bar()"
   ]
  },
  {
   "cell_type": "markdown",
   "id": "cba66a3a-471a-4c18-80cc-cb5669ab65d5",
   "metadata": {},
   "source": [
    "# Suicides committed by various age groups in male and female"
   ]
  },
  {
   "cell_type": "code",
   "execution_count": 29,
   "id": "83079803-37ca-425f-a04a-c6b8da78f05e",
   "metadata": {},
   "outputs": [
    {
     "data": {
      "text/html": [
       "<div>\n",
       "<style scoped>\n",
       "    .dataframe tbody tr th:only-of-type {\n",
       "        vertical-align: middle;\n",
       "    }\n",
       "\n",
       "    .dataframe tbody tr th {\n",
       "        vertical-align: top;\n",
       "    }\n",
       "\n",
       "    .dataframe thead th {\n",
       "        text-align: right;\n",
       "    }\n",
       "</style>\n",
       "<table border=\"1\" class=\"dataframe\">\n",
       "  <thead>\n",
       "    <tr style=\"text-align: right;\">\n",
       "      <th></th>\n",
       "      <th>sex</th>\n",
       "      <th>age</th>\n",
       "      <th>suicide_no</th>\n",
       "    </tr>\n",
       "  </thead>\n",
       "  <tbody>\n",
       "    <tr>\n",
       "      <th>0</th>\n",
       "      <td>male</td>\n",
       "      <td>15-24 years</td>\n",
       "      <td>21</td>\n",
       "    </tr>\n",
       "    <tr>\n",
       "      <th>1</th>\n",
       "      <td>male</td>\n",
       "      <td>35-54 years</td>\n",
       "      <td>16</td>\n",
       "    </tr>\n",
       "    <tr>\n",
       "      <th>2</th>\n",
       "      <td>female</td>\n",
       "      <td>15-24 years</td>\n",
       "      <td>14</td>\n",
       "    </tr>\n",
       "    <tr>\n",
       "      <th>3</th>\n",
       "      <td>male</td>\n",
       "      <td>75+ years</td>\n",
       "      <td>1</td>\n",
       "    </tr>\n",
       "    <tr>\n",
       "      <th>4</th>\n",
       "      <td>male</td>\n",
       "      <td>25-34 years</td>\n",
       "      <td>9</td>\n",
       "    </tr>\n",
       "  </tbody>\n",
       "</table>\n",
       "</div>"
      ],
      "text/plain": [
       "      sex          age  suicide_no\n",
       "0    male  15-24 years          21\n",
       "1    male  35-54 years          16\n",
       "2  female  15-24 years          14\n",
       "3    male    75+ years           1\n",
       "4    male  25-34 years           9"
      ]
     },
     "execution_count": 29,
     "metadata": {},
     "output_type": "execute_result"
    }
   ],
   "source": [
    "gender_agewise_suicide_df = pd.DataFrame({\n",
    "    'sex' : suicide.sex,\n",
    "    'age' : suicide.age,\n",
    "    'suicide_no' : suicide.suicides_no\n",
    "})\n",
    "gender_agewise_suicide_df.head()"
   ]
  },
  {
   "cell_type": "code",
   "execution_count": 30,
   "id": "831903e4-8938-4145-9dd8-cb4aea99bfb1",
   "metadata": {},
   "outputs": [
    {
     "data": {
      "text/html": [
       "<div>\n",
       "<style scoped>\n",
       "    .dataframe tbody tr th:only-of-type {\n",
       "        vertical-align: middle;\n",
       "    }\n",
       "\n",
       "    .dataframe tbody tr th {\n",
       "        vertical-align: top;\n",
       "    }\n",
       "\n",
       "    .dataframe thead tr th {\n",
       "        text-align: left;\n",
       "    }\n",
       "\n",
       "    .dataframe thead tr:last-of-type th {\n",
       "        text-align: right;\n",
       "    }\n",
       "</style>\n",
       "<table border=\"1\" class=\"dataframe\">\n",
       "  <thead>\n",
       "    <tr>\n",
       "      <th></th>\n",
       "      <th colspan=\"2\" halign=\"left\">suicide_no</th>\n",
       "    </tr>\n",
       "    <tr>\n",
       "      <th>sex</th>\n",
       "      <th>female</th>\n",
       "      <th>male</th>\n",
       "    </tr>\n",
       "    <tr>\n",
       "      <th>age</th>\n",
       "      <th></th>\n",
       "      <th></th>\n",
       "    </tr>\n",
       "  </thead>\n",
       "  <tbody>\n",
       "    <tr>\n",
       "      <th>15-24 years</th>\n",
       "      <td>175437</td>\n",
       "      <td>633105</td>\n",
       "    </tr>\n",
       "    <tr>\n",
       "      <th>25-34 years</th>\n",
       "      <td>208823</td>\n",
       "      <td>915089</td>\n",
       "    </tr>\n",
       "    <tr>\n",
       "      <th>35-54 years</th>\n",
       "      <td>506233</td>\n",
       "      <td>1945908</td>\n",
       "    </tr>\n",
       "    <tr>\n",
       "      <th>5-14 years</th>\n",
       "      <td>16997</td>\n",
       "      <td>35267</td>\n",
       "    </tr>\n",
       "    <tr>\n",
       "      <th>55-74 years</th>\n",
       "      <td>430036</td>\n",
       "      <td>1228407</td>\n",
       "    </tr>\n",
       "    <tr>\n",
       "      <th>75+ years</th>\n",
       "      <td>221984</td>\n",
       "      <td>431134</td>\n",
       "    </tr>\n",
       "  </tbody>\n",
       "</table>\n",
       "</div>"
      ],
      "text/plain": [
       "            suicide_no         \n",
       "sex             female     male\n",
       "age                            \n",
       "15-24 years     175437   633105\n",
       "25-34 years     208823   915089\n",
       "35-54 years     506233  1945908\n",
       "5-14 years       16997    35267\n",
       "55-74 years     430036  1228407\n",
       "75+ years       221984   431134"
      ]
     },
     "execution_count": 30,
     "metadata": {},
     "output_type": "execute_result"
    }
   ],
   "source": [
    "gender_agewise_suicide = gender_agewise_suicide_df.pivot_table(index = 'age', columns = 'sex', aggfunc = 'sum')\n",
    "gender_agewise_suicide"
   ]
  },
  {
   "cell_type": "code",
   "execution_count": 31,
   "id": "8fb782da-353e-45ee-8f1f-00f71d99240e",
   "metadata": {},
   "outputs": [
    {
     "data": {
      "text/plain": [
       "            sex   \n",
       "suicide_no  female    175437\n",
       "            male      633105\n",
       "Name: 15-24 years, dtype: int64"
      ]
     },
     "execution_count": 31,
     "metadata": {},
     "output_type": "execute_result"
    }
   ],
   "source": [
    "gender_agewise_suicide.iloc[0]"
   ]
  },
  {
   "cell_type": "code",
   "execution_count": 32,
   "id": "8dc6e5ec-bf4b-4efb-9262-6fc16fdafc90",
   "metadata": {},
   "outputs": [
    {
     "data": {
      "text/plain": [
       "array([<Axes: ylabel='(suicide_no, female)'>,\n",
       "       <Axes: ylabel='(suicide_no, male)'>], dtype=object)"
      ]
     },
     "execution_count": 32,
     "metadata": {},
     "output_type": "execute_result"
    },
    {
     "data": {
      "image/png": "[encoded data removed]",
      "text/plain": [
       "<Figure size 3000x1000 with 2 Axes>"
      ]
     },
     "metadata": {},
     "output_type": "display_data"
    }
   ],
   "source": [
    "gender_agewise_suicide.plot.pie(subplots = True, figsize=(30,10))"
   ]
  },
  {
   "cell_type": "code",
   "execution_count": 33,
   "id": "659e0aaf-dd06-43ad-9652-e83ccb74cae3",
   "metadata": {},
   "outputs": [],
   "source": [
    "gender_agewise_suicide.columns = gender_agewise_suicide.columns.droplevel()"
   ]
  },
  {
   "cell_type": "code",
   "execution_count": 34,
   "id": "c7cb9d9c-12db-4cff-8cad-2e48e7bd9785",
   "metadata": {},
   "outputs": [
    {
     "data": {
      "text/html": [
       "<div>\n",
       "<style scoped>\n",
       "    .dataframe tbody tr th:only-of-type {\n",
       "        vertical-align: middle;\n",
       "    }\n",
       "\n",
       "    .dataframe tbody tr th {\n",
       "        vertical-align: top;\n",
       "    }\n",
       "\n",
       "    .dataframe thead th {\n",
       "        text-align: right;\n",
       "    }\n",
       "</style>\n",
       "<table border=\"1\" class=\"dataframe\">\n",
       "  <thead>\n",
       "    <tr style=\"text-align: right;\">\n",
       "      <th>sex</th>\n",
       "      <th>female</th>\n",
       "      <th>male</th>\n",
       "    </tr>\n",
       "    <tr>\n",
       "      <th>age</th>\n",
       "      <th></th>\n",
       "      <th></th>\n",
       "    </tr>\n",
       "  </thead>\n",
       "  <tbody>\n",
       "    <tr>\n",
       "      <th>15-24 years</th>\n",
       "      <td>175437</td>\n",
       "      <td>633105</td>\n",
       "    </tr>\n",
       "    <tr>\n",
       "      <th>25-34 years</th>\n",
       "      <td>208823</td>\n",
       "      <td>915089</td>\n",
       "    </tr>\n",
       "    <tr>\n",
       "      <th>35-54 years</th>\n",
       "      <td>506233</td>\n",
       "      <td>1945908</td>\n",
       "    </tr>\n",
       "    <tr>\n",
       "      <th>5-14 years</th>\n",
       "      <td>16997</td>\n",
       "      <td>35267</td>\n",
       "    </tr>\n",
       "    <tr>\n",
       "      <th>55-74 years</th>\n",
       "      <td>430036</td>\n",
       "      <td>1228407</td>\n",
       "    </tr>\n",
       "    <tr>\n",
       "      <th>75+ years</th>\n",
       "      <td>221984</td>\n",
       "      <td>431134</td>\n",
       "    </tr>\n",
       "  </tbody>\n",
       "</table>\n",
       "</div>"
      ],
      "text/plain": [
       "sex          female     male\n",
       "age                         \n",
       "15-24 years  175437   633105\n",
       "25-34 years  208823   915089\n",
       "35-54 years  506233  1945908\n",
       "5-14 years    16997    35267\n",
       "55-74 years  430036  1228407\n",
       "75+ years    221984   431134"
      ]
     },
     "execution_count": 34,
     "metadata": {},
     "output_type": "execute_result"
    }
   ],
   "source": [
    "gender_agewise_suicide"
   ]
  },
  {
   "cell_type": "code",
   "execution_count": 35,
   "id": "8662bd5d-ea63-4cf2-823f-734fb75cfb7f",
   "metadata": {},
   "outputs": [
    {
     "data": {
      "application/vnd.plotly.v1+json": {
       "config": {
        "linkText": "Export to plot.ly",
        "plotlyServerURL": "https://plot.ly",
        "showLink": false
       },
       "data": [
        {
         "domain": {
          "x": [
           0,
           0.48
          ],
          "y": [
           0,
           0.49
          ]
         },
         "labels": [
          "15-24 years",
          "25-34 years",
          "35-54 years",
          "5-14 years",
          "55-74 years",
          "75+ years"
         ],
         "name": "Female suicides no",
         "type": "pie",
         "values": [
          175437,
          208823,
          506233,
          16997,
          430036,
          221984
         ]
        },
        {
         "domain": {
          "x": [
           0.52,
           1
          ],
          "y": [
           0,
           0.49
          ]
         },
         "labels": [
          "15-24 years",
          "25-34 years",
          "35-54 years",
          "5-14 years",
          "55-74 years",
          "75+ years"
         ],
         "name": "Male suicides no",
         "type": "pie",
         "values": [
          633105,
          915089,
          1945908,
          35267,
          1228407,
          431134
         ]
        }
       ],
       "layout": {
        "autosize": true,
        "template": {
         "data": {
          "bar": [
           {
            "error_x": {
             "color": "#2a3f5f"
            },
            "error_y": {
             "color": "#2a3f5f"
            },
            "marker": {
             "line": {
              "color": "#E5ECF6",
              "width": 0.5
             },
             "pattern": {
              "fillmode": "overlay",
              "size": 10,
              "solidity": 0.2
             }
            },
            "type": "bar"
           }
          ],
          "barpolar": [
           {
            "marker": {
             "line": {
              "color": "#E5ECF6",
              "width": 0.5
             },
             "pattern": {
              "fillmode": "overlay",
              "size": 10,
              "solidity": 0.2
             }
            },
            "type": "barpolar"
           }
          ],
          "carpet": [
           {
            "aaxis": {
             "endlinecolor": "#2a3f5f",
             "gridcolor": "white",
             "linecolor": "white",
             "minorgridcolor": "white",
             "startlinecolor": "#2a3f5f"
            },
            "baxis": {
             "endlinecolor": "#2a3f5f",
             "gridcolor": "white",
             "linecolor": "white",
             "minorgridcolor": "white",
             "startlinecolor": "#2a3f5f"
            },
            "type": "carpet"
           }
          ],
          "choropleth": [
           {
            "colorbar": {
             "outlinewidth": 0,
             "ticks": ""
            },
            "type": "choropleth"
           }
          ],
          "contour": [
           {
            "colorbar": {
             "outlinewidth": 0,
             "ticks": ""
            },
            "colorscale": [
             [
              0,
              "#0d0887"
             ],
             [
              0.1111111111111111,
              "#46039f"
             ],
             [
              0.2222222222222222,
              "#7201a8"
             ],
             [
              0.3333333333333333,
              "#9c179e"
             ],
             [
              0.4444444444444444,
              "#bd3786"
             ],
             [
              0.5555555555555556,
              "#d8576b"
             ],
             [
              0.6666666666666666,
              "#ed7953"
             ],
             [
              0.7777777777777778,
              "#fb9f3a"
             ],
             [
              0.8888888888888888,
              "#fdca26"
             ],
             [
              1,
              "#f0f921"
             ]
            ],
            "type": "contour"
           }
          ],
          "contourcarpet": [
           {
            "colorbar": {
             "outlinewidth": 0,
             "ticks": ""
            },
            "type": "contourcarpet"
           }
          ],
          "heatmap": [
           {
            "colorbar": {
             "outlinewidth": 0,
             "ticks": ""
            },
            "colorscale": [
             [
              0,
              "#0d0887"
             ],
             [
              0.1111111111111111,
              "#46039f"
             ],
             [
              0.2222222222222222,
              "#7201a8"
             ],
             [
              0.3333333333333333,
              "#9c179e"
             ],
             [
              0.4444444444444444,
              "#bd3786"
             ],
             [
              0.5555555555555556,
              "#d8576b"
             ],
             [
              0.6666666666666666,
              "#ed7953"
             ],
             [
              0.7777777777777778,
              "#fb9f3a"
             ],
             [
              0.8888888888888888,
              "#fdca26"
             ],
             [
              1,
              "#f0f921"
             ]
            ],
            "type": "heatmap"
           }
          ],
          "heatmapgl": [
           {
            "colorbar": {
             "outlinewidth": 0,
             "ticks": ""
            },
            "colorscale": [
             [
              0,
              "#0d0887"
             ],
             [
              0.1111111111111111,
              "#46039f"
             ],
             [
              0.2222222222222222,
              "#7201a8"
             ],
             [
              0.3333333333333333,
              "#9c179e"
             ],
             [
              0.4444444444444444,
              "#bd3786"
             ],
             [
              0.5555555555555556,
              "#d8576b"
             ],
             [
              0.6666666666666666,
              "#ed7953"
             ],
             [
              0.7777777777777778,
              "#fb9f3a"
             ],
             [
              0.8888888888888888,
              "#fdca26"
             ],
             [
              1,
              "#f0f921"
             ]
            ],
            "type": "heatmapgl"
           }
          ],
          "histogram": [
           {
            "marker": {
             "pattern": {
              "fillmode": "overlay",
              "size": 10,
              "solidity": 0.2
             }
            },
            "type": "histogram"
           }
          ],
          "histogram2d": [
           {
            "colorbar": {
             "outlinewidth": 0,
             "ticks": ""
            },
            "colorscale": [
             [
              0,
              "#0d0887"
             ],
             [
              0.1111111111111111,
              "#46039f"
             ],
             [
              0.2222222222222222,
              "#7201a8"
             ],
             [
              0.3333333333333333,
              "#9c179e"
             ],
             [
              0.4444444444444444,
              "#bd3786"
             ],
             [
              0.5555555555555556,
              "#d8576b"
             ],
             [
              0.6666666666666666,
              "#ed7953"
             ],
             [
              0.7777777777777778,
              "#fb9f3a"
             ],
             [
              0.8888888888888888,
              "#fdca26"
             ],
             [
              1,
              "#f0f921"
             ]
            ],
            "type": "histogram2d"
           }
          ],
          "histogram2dcontour": [
           {
            "colorbar": {
             "outlinewidth": 0,
             "ticks": ""
            },
            "colorscale": [
             [
              0,
              "#0d0887"
             ],
             [
              0.1111111111111111,
              "#46039f"
             ],
             [
              0.2222222222222222,
              "#7201a8"
             ],
             [
              0.3333333333333333,
              "#9c179e"
             ],
             [
              0.4444444444444444,
              "#bd3786"
             ],
             [
              0.5555555555555556,
              "#d8576b"
             ],
             [
              0.6666666666666666,
              "#ed7953"
             ],
             [
              0.7777777777777778,
              "#fb9f3a"
             ],
             [
              0.8888888888888888,
              "#fdca26"
             ],
             [
              1,
              "#f0f921"
             ]
            ],
            "type": "histogram2dcontour"
           }
          ],
          "mesh3d": [
           {
            "colorbar": {
             "outlinewidth": 0,
             "ticks": ""
            },
            "type": "mesh3d"
           }
          ],
          "parcoords": [
           {
            "line": {
             "colorbar": {
              "outlinewidth": 0,
              "ticks": ""
             }
            },
            "type": "parcoords"
           }
          ],
          "pie": [
           {
            "automargin": true,
            "type": "pie"
           }
          ],
          "scatter": [
           {
            "fillpattern": {
             "fillmode": "overlay",
             "size": 10,
             "solidity": 0.2
            },
            "type": "scatter"
           }
          ],
          "scatter3d": [
           {
            "line": {
             "colorbar": {
              "outlinewidth": 0,
              "ticks": ""
             }
            },
            "marker": {
             "colorbar": {
              "outlinewidth": 0,
              "ticks": ""
             }
            },
            "type": "scatter3d"
           }
          ],
          "scattercarpet": [
           {
            "marker": {
             "colorbar": {
              "outlinewidth": 0,
              "ticks": ""
             }
            },
            "type": "scattercarpet"
           }
          ],
          "scattergeo": [
           {
            "marker": {
             "colorbar": {
              "outlinewidth": 0,
              "ticks": ""
             }
            },
            "type": "scattergeo"
           }
          ],
          "scattergl": [
           {
            "marker": {
             "colorbar": {
              "outlinewidth": 0,
              "ticks": ""
             }
            },
            "type": "scattergl"
           }
          ],
          "scattermapbox": [
           {
            "marker": {
             "colorbar": {
              "outlinewidth": 0,
              "ticks": ""
             }
            },
            "type": "scattermapbox"
           }
          ],
          "scatterpolar": [
           {
            "marker": {
             "colorbar": {
              "outlinewidth": 0,
              "ticks": ""
             }
            },
            "type": "scatterpolar"
           }
          ],
          "scatterpolargl": [
           {
            "marker": {
             "colorbar": {
              "outlinewidth": 0,
              "ticks": ""
             }
            },
            "type": "scatterpolargl"
           }
          ],
          "scatterternary": [
           {
            "marker": {
             "colorbar": {
              "outlinewidth": 0,
              "ticks": ""
             }
            },
            "type": "scatterternary"
           }
          ],
          "surface": [
           {
            "colorbar": {
             "outlinewidth": 0,
             "ticks": ""
            },
            "colorscale": [
             [
              0,
              "#0d0887"
             ],
             [
              0.1111111111111111,
              "#46039f"
             ],
             [
              0.2222222222222222,
              "#7201a8"
             ],
             [
              0.3333333333333333,
              "#9c179e"
             ],
             [
              0.4444444444444444,
              "#bd3786"
             ],
             [
              0.5555555555555556,
              "#d8576b"
             ],
             [
              0.6666666666666666,
              "#ed7953"
             ],
             [
              0.7777777777777778,
              "#fb9f3a"
             ],
             [
              0.8888888888888888,
              "#fdca26"
             ],
             [
              1,
              "#f0f921"
             ]
            ],
            "type": "surface"
           }
          ],
          "table": [
           {
            "cells": {
             "fill": {
              "color": "#EBF0F8"
             },
             "line": {
              "color": "white"
             }
            },
            "header": {
             "fill": {
              "color": "#C8D4E3"
             },
             "line": {
              "color": "white"
             }
            },
            "type": "table"
           }
          ]
         },
         "layout": {
          "annotationdefaults": {
           "arrowcolor": "#2a3f5f",
           "arrowhead": 0,
           "arrowwidth": 1
          },
          "autotypenumbers": "strict",
          "coloraxis": {
           "colorbar": {
            "outlinewidth": 0,
            "ticks": ""
           }
          },
          "colorscale": {
           "diverging": [
            [
             0,
             "#8e0152"
            ],
            [
             0.1,
             "#c51b7d"
            ],
            [
             0.2,
             "#de77ae"
            ],
            [
             0.3,
             "#f1b6da"
            ],
            [
             0.4,
             "#fde0ef"
            ],
            [
             0.5,
             "#f7f7f7"
            ],
            [
             0.6,
             "#e6f5d0"
            ],
            [
             0.7,
             "#b8e186"
            ],
            [
             0.8,
             "#7fbc41"
            ],
            [
             0.9,
             "#4d9221"
            ],
            [
             1,
             "#276419"
            ]
           ],
           "sequential": [
            [
             0,
             "#0d0887"
            ],
            [
             0.1111111111111111,
             "#46039f"
            ],
            [
             0.2222222222222222,
             "#7201a8"
            ],
            [
             0.3333333333333333,
             "#9c179e"
            ],
            [
             0.4444444444444444,
             "#bd3786"
            ],
            [
             0.5555555555555556,
             "#d8576b"
            ],
            [
             0.6666666666666666,
             "#ed7953"
            ],
            [
             0.7777777777777778,
             "#fb9f3a"
            ],
            [
             0.8888888888888888,
             "#fdca26"
            ],
            [
             1,
             "#f0f921"
            ]
           ],
           "sequentialminus": [
            [
             0,
             "#0d0887"
            ],
            [
             0.1111111111111111,
             "#46039f"
            ],
            [
             0.2222222222222222,
             "#7201a8"
            ],
            [
             0.3333333333333333,
             "#9c179e"
            ],
            [
             0.4444444444444444,
             "#bd3786"
            ],
            [
             0.5555555555555556,
             "#d8576b"
            ],
            [
             0.6666666666666666,
             "#ed7953"
            ],
            [
             0.7777777777777778,
             "#fb9f3a"
            ],
            [
             0.8888888888888888,
             "#fdca26"
            ],
            [
             1,
             "#f0f921"
            ]
           ]
          },
          "colorway": [
           "#636efa",
           "#EF553B",
           "#00cc96",
           "#ab63fa",
           "#FFA15A",
           "#19d3f3",
           "#FF6692",
           "#B6E880",
           "#FF97FF",
           "#FECB52"
          ],
          "font": {
           "color": "#2a3f5f"
          },
          "geo": {
           "bgcolor": "white",
           "lakecolor": "white",
           "landcolor": "#E5ECF6",
           "showlakes": true,
           "showland": true,
           "subunitcolor": "white"
          },
          "hoverlabel": {
           "align": "left"
          },
          "hovermode": "closest",
          "mapbox": {
           "style": "light"
          },
          "paper_bgcolor": "white",
          "plot_bgcolor": "#E5ECF6",
          "polar": {
           "angularaxis": {
            "gridcolor": "white",
            "linecolor": "white",
            "ticks": ""
           },
           "bgcolor": "#E5ECF6",
           "radialaxis": {
            "gridcolor": "white",
            "linecolor": "white",
            "ticks": ""
           }
          },
          "scene": {
           "xaxis": {
            "backgroundcolor": "#E5ECF6",
            "gridcolor": "white",
            "gridwidth": 2,
            "linecolor": "white",
            "showbackground": true,
            "ticks": "",
            "zerolinecolor": "white"
           },
           "yaxis": {
            "backgroundcolor": "#E5ECF6",
            "gridcolor": "white",
            "gridwidth": 2,
            "linecolor": "white",
            "showbackground": true,
            "ticks": "",
            "zerolinecolor": "white"
           },
           "zaxis": {
            "backgroundcolor": "#E5ECF6",
            "gridcolor": "white",
            "gridwidth": 2,
            "linecolor": "white",
            "showbackground": true,
            "ticks": "",
            "zerolinecolor": "white"
           }
          },
          "shapedefaults": {
           "line": {
            "color": "#2a3f5f"
           }
          },
          "ternary": {
           "aaxis": {
            "gridcolor": "white",
            "linecolor": "white",
            "ticks": ""
           },
           "baxis": {
            "gridcolor": "white",
            "linecolor": "white",
            "ticks": ""
           },
           "bgcolor": "#E5ECF6",
           "caxis": {
            "gridcolor": "white",
            "linecolor": "white",
            "ticks": ""
           }
          },
          "title": {
           "x": 0.05
          },
          "xaxis": {
           "automargin": true,
           "gridcolor": "white",
           "linecolor": "white",
           "ticks": "",
           "title": {
            "standoff": 15
           },
           "zerolinecolor": "white",
           "zerolinewidth": 2
          },
          "yaxis": {
           "automargin": true,
           "gridcolor": "white",
           "linecolor": "white",
           "ticks": "",
           "title": {
            "standoff": 15
           },
           "zerolinecolor": "white",
           "zerolinewidth": 2
          }
         }
        },
        "title": {
         "text": "Suicides committed by various age groups in female and male"
        }
       }
      },
      "image/png": "[encoded data removed]",
      "text/html": [
       "<div>                            <div id=\"e92f6e78-2a24-47df-be18-6e2cd781e1b2\" class=\"plotly-graph-div\" style=\"height:525px; width:100%;\"></div>            <script type=\"text/javascript\">                require([\"plotly\"], function(Plotly) {                    window.PLOTLYENV=window.PLOTLYENV || {};                                    if (document.getElementById(\"e92f6e78-2a24-47df-be18-6e2cd781e1b2\")) {                    Plotly.newPlot(                        \"e92f6e78-2a24-47df-be18-6e2cd781e1b2\",                        [{\"domain\":{\"x\":[0,0.48],\"y\":[0,0.49]},\"labels\":[\"15-24 years\",\"25-34 years\",\"35-54 years\",\"5-14 years\",\"55-74 years\",\"75+ years\"],\"name\":\"Female suicides no\",\"values\":[175437,208823,506233,16997,430036,221984],\"type\":\"pie\"},{\"domain\":{\"x\":[0.52,1],\"y\":[0,0.49]},\"labels\":[\"15-24 years\",\"25-34 years\",\"35-54 years\",\"5-14 years\",\"55-74 years\",\"75+ years\"],\"name\":\"Male suicides no\",\"values\":[633105,915089,1945908,35267,1228407,431134],\"type\":\"pie\"}],                        {\"template\":{\"data\":{\"barpolar\":[{\"marker\":{\"line\":{\"color\":\"#E5ECF6\",\"width\":0.5},\"pattern\":{\"fillmode\":\"overlay\",\"size\":10,\"solidity\":0.2}},\"type\":\"barpolar\"}],\"bar\":[{\"error_x\":{\"color\":\"#2a3f5f\"},\"error_y\":{\"color\":\"#2a3f5f\"},\"marker\":{\"line\":{\"color\":\"#E5ECF6\",\"width\":0.5},\"pattern\":{\"fillmode\":\"overlay\",\"size\":10,\"solidity\":0.2}},\"type\":\"bar\"}],\"carpet\":[{\"aaxis\":{\"endlinecolor\":\"#2a3f5f\",\"gridcolor\":\"white\",\"linecolor\":\"white\",\"minorgridcolor\":\"white\",\"startlinecolor\":\"#2a3f5f\"},\"baxis\":{\"endlinecolor\":\"#2a3f5f\",\"gridcolor\":\"white\",\"linecolor\":\"white\",\"minorgridcolor\":\"white\",\"startlinecolor\":\"#2a3f5f\"},\"type\":\"carpet\"}],\"choropleth\":[{\"colorbar\":{\"outlinewidth\":0,\"ticks\":\"\"},\"type\":\"choropleth\"}],\"contourcarpet\":[{\"colorbar\":{\"outlinewidth\":0,\"ticks\":\"\"},\"type\":\"contourcarpet\"}],\"contour\":[{\"colorbar\":{\"outlinewidth\":0,\"ticks\":\"\"},\"colorscale\":[[0.0,\"#0d0887\"],[0.1111111111111111,\"#46039f\"],[0.2222222222222222,\"#7201a8\"],[0.3333333333333333,\"#9c179e\"],[0.4444444444444444,\"#bd3786\"],[0.5555555555555556,\"#d8576b\"],[0.6666666666666666,\"#ed7953\"],[0.7777777777777778,\"#fb9f3a\"],[0.8888888888888888,\"#fdca26\"],[1.0,\"#f0f921\"]],\"type\":\"contour\"}],\"heatmapgl\":[{\"colorbar\":{\"outlinewidth\":0,\"ticks\":\"\"},\"colorscale\":[[0.0,\"#0d0887\"],[0.1111111111111111,\"#46039f\"],[0.2222222222222222,\"#7201a8\"],[0.3333333333333333,\"#9c179e\"],[0.4444444444444444,\"#bd3786\"],[0.5555555555555556,\"#d8576b\"],[0.6666666666666666,\"#ed7953\"],[0.7777777777777778,\"#fb9f3a\"],[0.8888888888888888,\"#fdca26\"],[1.0,\"#f0f921\"]],\"type\":\"heatmapgl\"}],\"heatmap\":[{\"colorbar\":{\"outlinewidth\":0,\"ticks\":\"\"},\"colorscale\":[[0.0,\"#0d0887\"],[0.1111111111111111,\"#46039f\"],[0.2222222222222222,\"#7201a8\"],[0.3333333333333333,\"#9c179e\"],[0.4444444444444444,\"#bd3786\"],[0.5555555555555556,\"#d8576b\"],[0.6666666666666666,\"#ed7953\"],[0.7777777777777778,\"#fb9f3a\"],[0.8888888888888888,\"#fdca26\"],[1.0,\"#f0f921\"]],\"type\":\"heatmap\"}],\"histogram2dcontour\":[{\"colorbar\":{\"outlinewidth\":0,\"ticks\":\"\"},\"colorscale\":[[0.0,\"#0d0887\"],[0.1111111111111111,\"#46039f\"],[0.2222222222222222,\"#7201a8\"],[0.3333333333333333,\"#9c179e\"],[0.4444444444444444,\"#bd3786\"],[0.5555555555555556,\"#d8576b\"],[0.6666666666666666,\"#ed7953\"],[0.7777777777777778,\"#fb9f3a\"],[0.8888888888888888,\"#fdca26\"],[1.0,\"#f0f921\"]],\"type\":\"histogram2dcontour\"}],\"histogram2d\":[{\"colorbar\":{\"outlinewidth\":0,\"ticks\":\"\"},\"colorscale\":[[0.0,\"#0d0887\"],[0.1111111111111111,\"#46039f\"],[0.2222222222222222,\"#7201a8\"],[0.3333333333333333,\"#9c179e\"],[0.4444444444444444,\"#bd3786\"],[0.5555555555555556,\"#d8576b\"],[0.6666666666666666,\"#ed7953\"],[0.7777777777777778,\"#fb9f3a\"],[0.8888888888888888,\"#fdca26\"],[1.0,\"#f0f921\"]],\"type\":\"histogram2d\"}],\"histogram\":[{\"marker\":{\"pattern\":{\"fillmode\":\"overlay\",\"size\":10,\"solidity\":0.2}},\"type\":\"histogram\"}],\"mesh3d\":[{\"colorbar\":{\"outlinewidth\":0,\"ticks\":\"\"},\"type\":\"mesh3d\"}],\"parcoords\":[{\"line\":{\"colorbar\":{\"outlinewidth\":0,\"ticks\":\"\"}},\"type\":\"parcoords\"}],\"pie\":[{\"automargin\":true,\"type\":\"pie\"}],\"scatter3d\":[{\"line\":{\"colorbar\":{\"outlinewidth\":0,\"ticks\":\"\"}},\"marker\":{\"colorbar\":{\"outlinewidth\":0,\"ticks\":\"\"}},\"type\":\"scatter3d\"}],\"scattercarpet\":[{\"marker\":{\"colorbar\":{\"outlinewidth\":0,\"ticks\":\"\"}},\"type\":\"scattercarpet\"}],\"scattergeo\":[{\"marker\":{\"colorbar\":{\"outlinewidth\":0,\"ticks\":\"\"}},\"type\":\"scattergeo\"}],\"scattergl\":[{\"marker\":{\"colorbar\":{\"outlinewidth\":0,\"ticks\":\"\"}},\"type\":\"scattergl\"}],\"scattermapbox\":[{\"marker\":{\"colorbar\":{\"outlinewidth\":0,\"ticks\":\"\"}},\"type\":\"scattermapbox\"}],\"scatterpolargl\":[{\"marker\":{\"colorbar\":{\"outlinewidth\":0,\"ticks\":\"\"}},\"type\":\"scatterpolargl\"}],\"scatterpolar\":[{\"marker\":{\"colorbar\":{\"outlinewidth\":0,\"ticks\":\"\"}},\"type\":\"scatterpolar\"}],\"scatter\":[{\"fillpattern\":{\"fillmode\":\"overlay\",\"size\":10,\"solidity\":0.2},\"type\":\"scatter\"}],\"scatterternary\":[{\"marker\":{\"colorbar\":{\"outlinewidth\":0,\"ticks\":\"\"}},\"type\":\"scatterternary\"}],\"surface\":[{\"colorbar\":{\"outlinewidth\":0,\"ticks\":\"\"},\"colorscale\":[[0.0,\"#0d0887\"],[0.1111111111111111,\"#46039f\"],[0.2222222222222222,\"#7201a8\"],[0.3333333333333333,\"#9c179e\"],[0.4444444444444444,\"#bd3786\"],[0.5555555555555556,\"#d8576b\"],[0.6666666666666666,\"#ed7953\"],[0.7777777777777778,\"#fb9f3a\"],[0.8888888888888888,\"#fdca26\"],[1.0,\"#f0f921\"]],\"type\":\"surface\"}],\"table\":[{\"cells\":{\"fill\":{\"color\":\"#EBF0F8\"},\"line\":{\"color\":\"white\"}},\"header\":{\"fill\":{\"color\":\"#C8D4E3\"},\"line\":{\"color\":\"white\"}},\"type\":\"table\"}]},\"layout\":{\"annotationdefaults\":{\"arrowcolor\":\"#2a3f5f\",\"arrowhead\":0,\"arrowwidth\":1},\"autotypenumbers\":\"strict\",\"coloraxis\":{\"colorbar\":{\"outlinewidth\":0,\"ticks\":\"\"}},\"colorscale\":{\"diverging\":[[0,\"#8e0152\"],[0.1,\"#c51b7d\"],[0.2,\"#de77ae\"],[0.3,\"#f1b6da\"],[0.4,\"#fde0ef\"],[0.5,\"#f7f7f7\"],[0.6,\"#e6f5d0\"],[0.7,\"#b8e186\"],[0.8,\"#7fbc41\"],[0.9,\"#4d9221\"],[1,\"#276419\"]],\"sequential\":[[0.0,\"#0d0887\"],[0.1111111111111111,\"#46039f\"],[0.2222222222222222,\"#7201a8\"],[0.3333333333333333,\"#9c179e\"],[0.4444444444444444,\"#bd3786\"],[0.5555555555555556,\"#d8576b\"],[0.6666666666666666,\"#ed7953\"],[0.7777777777777778,\"#fb9f3a\"],[0.8888888888888888,\"#fdca26\"],[1.0,\"#f0f921\"]],\"sequentialminus\":[[0.0,\"#0d0887\"],[0.1111111111111111,\"#46039f\"],[0.2222222222222222,\"#7201a8\"],[0.3333333333333333,\"#9c179e\"],[0.4444444444444444,\"#bd3786\"],[0.5555555555555556,\"#d8576b\"],[0.6666666666666666,\"#ed7953\"],[0.7777777777777778,\"#fb9f3a\"],[0.8888888888888888,\"#fdca26\"],[1.0,\"#f0f921\"]]},\"colorway\":[\"#636efa\",\"#EF553B\",\"#00cc96\",\"#ab63fa\",\"#FFA15A\",\"#19d3f3\",\"#FF6692\",\"#B6E880\",\"#FF97FF\",\"#FECB52\"],\"font\":{\"color\":\"#2a3f5f\"},\"geo\":{\"bgcolor\":\"white\",\"lakecolor\":\"white\",\"landcolor\":\"#E5ECF6\",\"showlakes\":true,\"showland\":true,\"subunitcolor\":\"white\"},\"hoverlabel\":{\"align\":\"left\"},\"hovermode\":\"closest\",\"mapbox\":{\"style\":\"light\"},\"paper_bgcolor\":\"white\",\"plot_bgcolor\":\"#E5ECF6\",\"polar\":{\"angularaxis\":{\"gridcolor\":\"white\",\"linecolor\":\"white\",\"ticks\":\"\"},\"bgcolor\":\"#E5ECF6\",\"radialaxis\":{\"gridcolor\":\"white\",\"linecolor\":\"white\",\"ticks\":\"\"}},\"scene\":{\"xaxis\":{\"backgroundcolor\":\"#E5ECF6\",\"gridcolor\":\"white\",\"gridwidth\":2,\"linecolor\":\"white\",\"showbackground\":true,\"ticks\":\"\",\"zerolinecolor\":\"white\"},\"yaxis\":{\"backgroundcolor\":\"#E5ECF6\",\"gridcolor\":\"white\",\"gridwidth\":2,\"linecolor\":\"white\",\"showbackground\":true,\"ticks\":\"\",\"zerolinecolor\":\"white\"},\"zaxis\":{\"backgroundcolor\":\"#E5ECF6\",\"gridcolor\":\"white\",\"gridwidth\":2,\"linecolor\":\"white\",\"showbackground\":true,\"ticks\":\"\",\"zerolinecolor\":\"white\"}},\"shapedefaults\":{\"line\":{\"color\":\"#2a3f5f\"}},\"ternary\":{\"aaxis\":{\"gridcolor\":\"white\",\"linecolor\":\"white\",\"ticks\":\"\"},\"baxis\":{\"gridcolor\":\"white\",\"linecolor\":\"white\",\"ticks\":\"\"},\"bgcolor\":\"#E5ECF6\",\"caxis\":{\"gridcolor\":\"white\",\"linecolor\":\"white\",\"ticks\":\"\"}},\"title\":{\"x\":0.05},\"xaxis\":{\"automargin\":true,\"gridcolor\":\"white\",\"linecolor\":\"white\",\"ticks\":\"\",\"title\":{\"standoff\":15},\"zerolinecolor\":\"white\",\"zerolinewidth\":2},\"yaxis\":{\"automargin\":true,\"gridcolor\":\"white\",\"linecolor\":\"white\",\"ticks\":\"\",\"title\":{\"standoff\":15},\"zerolinecolor\":\"white\",\"zerolinewidth\":2}}},\"title\":{\"text\":\"Suicides committed by various age groups in female and male\"}},                        {\"responsive\": true}                    ).then(function(){\n",
       "                            \n",
       "var gd = document.getElementById('e92f6e78-2a24-47df-be18-6e2cd781e1b2');\n",
       "var x = new MutationObserver(function (mutations, observer) {{\n",
       "        var display = window.getComputedStyle(gd).display;\n",
       "        if (!display || display === 'none') {{\n",
       "            console.log([gd, 'removed!']);\n",
       "            Plotly.purge(gd);\n",
       "            observer.disconnect();\n",
       "        }}\n",
       "}});\n",
       "\n",
       "// Listen for the removal of the full notebook cells\n",
       "var notebookContainer = gd.closest('#notebook-container');\n",
       "if (notebookContainer) {{\n",
       "    x.observe(notebookContainer, {childList: true});\n",
       "}}\n",
       "\n",
       "// Listen for the clearing of the current output cell\n",
       "var outputEl = gd.closest('.output');\n",
       "if (outputEl) {{\n",
       "    x.observe(outputEl, {childList: true});\n",
       "}}\n",
       "\n",
       "                        })                };                });            </script>        </div>"
      ]
     },
     "metadata": {},
     "output_type": "display_data"
    }
   ],
   "source": [
    "fig = {\n",
    "    'data' : [\n",
    "        {\n",
    "            'labels' : gender_agewise_suicide.index,\n",
    "            'values' : gender_agewise_suicide.female,\n",
    "            'type' : 'pie',\n",
    "            'name' : 'Female suicides no',\n",
    "            'domain' : {'x':[0, .48],\n",
    "                       'y':[0, .49]}\n",
    "        },\n",
    "        {\n",
    "            'labels' : gender_agewise_suicide.index,\n",
    "            'values' : gender_agewise_suicide.male,\n",
    "            'type' : 'pie',\n",
    "            'name' : 'Male suicides no',\n",
    "            'domain' : {'x': [.52, 1],\n",
    "                       'y': [0, .49]}\n",
    "        }\n",
    "    ],\n",
    "    'layout' : {'title' : 'Suicides committed by various age groups in female and male'}\n",
    "}\n",
    "\n",
    "py.offline.iplot(fig)"
   ]
  },
  {
   "cell_type": "markdown",
   "id": "e5f512ad-bbb5-4022-bcbe-691901abee03",
   "metadata": {},
   "source": [
    "# Suicides committed by various age groups in male and female in each country"
   ]
  },
  {
   "cell_type": "code",
   "execution_count": 37,
   "id": "46eb6eca-b655-4947-9cb6-600e180426a6",
   "metadata": {},
   "outputs": [
    {
     "data": {
      "text/html": [
       "<div>\n",
       "<style scoped>\n",
       "    .dataframe tbody tr th:only-of-type {\n",
       "        vertical-align: middle;\n",
       "    }\n",
       "\n",
       "    .dataframe tbody tr th {\n",
       "        vertical-align: top;\n",
       "    }\n",
       "\n",
       "    .dataframe thead th {\n",
       "        text-align: right;\n",
       "    }\n",
       "</style>\n",
       "<table border=\"1\" class=\"dataframe\">\n",
       "  <thead>\n",
       "    <tr style=\"text-align: right;\">\n",
       "      <th></th>\n",
       "      <th>country</th>\n",
       "      <th>sex</th>\n",
       "      <th>age</th>\n",
       "      <th>suicide_no</th>\n",
       "    </tr>\n",
       "  </thead>\n",
       "  <tbody>\n",
       "    <tr>\n",
       "      <th>0</th>\n",
       "      <td>Albania</td>\n",
       "      <td>male</td>\n",
       "      <td>15-24 years</td>\n",
       "      <td>21</td>\n",
       "    </tr>\n",
       "    <tr>\n",
       "      <th>1</th>\n",
       "      <td>Albania</td>\n",
       "      <td>male</td>\n",
       "      <td>35-54 years</td>\n",
       "      <td>16</td>\n",
       "    </tr>\n",
       "    <tr>\n",
       "      <th>2</th>\n",
       "      <td>Albania</td>\n",
       "      <td>female</td>\n",
       "      <td>15-24 years</td>\n",
       "      <td>14</td>\n",
       "    </tr>\n",
       "    <tr>\n",
       "      <th>3</th>\n",
       "      <td>Albania</td>\n",
       "      <td>male</td>\n",
       "      <td>75+ years</td>\n",
       "      <td>1</td>\n",
       "    </tr>\n",
       "    <tr>\n",
       "      <th>4</th>\n",
       "      <td>Albania</td>\n",
       "      <td>male</td>\n",
       "      <td>25-34 years</td>\n",
       "      <td>9</td>\n",
       "    </tr>\n",
       "  </tbody>\n",
       "</table>\n",
       "</div>"
      ],
      "text/plain": [
       "   country     sex          age  suicide_no\n",
       "0  Albania    male  15-24 years          21\n",
       "1  Albania    male  35-54 years          16\n",
       "2  Albania  female  15-24 years          14\n",
       "3  Albania    male    75+ years           1\n",
       "4  Albania    male  25-34 years           9"
      ]
     },
     "execution_count": 37,
     "metadata": {},
     "output_type": "execute_result"
    }
   ],
   "source": [
    "country_gender_agewise_suicide_df = pd.DataFrame({\n",
    "    'country' : suicide.country,\n",
    "    'sex' : suicide.sex,\n",
    "    'age' : suicide.age,\n",
    "    'suicide_no' : suicide.suicides_no\n",
    "})\n",
    "country_gender_agewise_suicide_df.head()"
   ]
  },
  {
   "cell_type": "code",
   "execution_count": 38,
   "id": "158920bc-803f-4cb4-aab4-ac6d2a162440",
   "metadata": {},
   "outputs": [
    {
     "data": {
      "text/html": [
       "<div>\n",
       "<style scoped>\n",
       "    .dataframe tbody tr th:only-of-type {\n",
       "        vertical-align: middle;\n",
       "    }\n",
       "\n",
       "    .dataframe tbody tr th {\n",
       "        vertical-align: top;\n",
       "    }\n",
       "\n",
       "    .dataframe thead tr th {\n",
       "        text-align: left;\n",
       "    }\n",
       "\n",
       "    .dataframe thead tr:last-of-type th {\n",
       "        text-align: right;\n",
       "    }\n",
       "</style>\n",
       "<table border=\"1\" class=\"dataframe\">\n",
       "  <thead>\n",
       "    <tr>\n",
       "      <th></th>\n",
       "      <th></th>\n",
       "      <th colspan=\"2\" halign=\"left\">suicide_no</th>\n",
       "    </tr>\n",
       "    <tr>\n",
       "      <th></th>\n",
       "      <th>sex</th>\n",
       "      <th>female</th>\n",
       "      <th>male</th>\n",
       "    </tr>\n",
       "    <tr>\n",
       "      <th>country</th>\n",
       "      <th>age</th>\n",
       "      <th></th>\n",
       "      <th></th>\n",
       "    </tr>\n",
       "  </thead>\n",
       "  <tbody>\n",
       "    <tr>\n",
       "      <th rowspan=\"5\" valign=\"top\">Albania</th>\n",
       "      <th>15-24 years</th>\n",
       "      <td>253</td>\n",
       "      <td>293</td>\n",
       "    </tr>\n",
       "    <tr>\n",
       "      <th>25-34 years</th>\n",
       "      <td>139</td>\n",
       "      <td>288</td>\n",
       "    </tr>\n",
       "    <tr>\n",
       "      <th>35-54 years</th>\n",
       "      <td>173</td>\n",
       "      <td>418</td>\n",
       "    </tr>\n",
       "    <tr>\n",
       "      <th>5-14 years</th>\n",
       "      <td>21</td>\n",
       "      <td>40</td>\n",
       "    </tr>\n",
       "    <tr>\n",
       "      <th>55-74 years</th>\n",
       "      <td>68</td>\n",
       "      <td>196</td>\n",
       "    </tr>\n",
       "    <tr>\n",
       "      <th>...</th>\n",
       "      <th>...</th>\n",
       "      <td>...</td>\n",
       "      <td>...</td>\n",
       "    </tr>\n",
       "    <tr>\n",
       "      <th rowspan=\"5\" valign=\"top\">Uzbekistan</th>\n",
       "      <th>25-34 years</th>\n",
       "      <td>2191</td>\n",
       "      <td>6387</td>\n",
       "    </tr>\n",
       "    <tr>\n",
       "      <th>35-54 years</th>\n",
       "      <td>1797</td>\n",
       "      <td>9167</td>\n",
       "    </tr>\n",
       "    <tr>\n",
       "      <th>5-14 years</th>\n",
       "      <td>338</td>\n",
       "      <td>1038</td>\n",
       "    </tr>\n",
       "    <tr>\n",
       "      <th>55-74 years</th>\n",
       "      <td>850</td>\n",
       "      <td>2745</td>\n",
       "    </tr>\n",
       "    <tr>\n",
       "      <th>75+ years</th>\n",
       "      <td>319</td>\n",
       "      <td>298</td>\n",
       "    </tr>\n",
       "  </tbody>\n",
       "</table>\n",
       "<p>605 rows × 2 columns</p>\n",
       "</div>"
      ],
      "text/plain": [
       "                       suicide_no      \n",
       "sex                        female  male\n",
       "country    age                         \n",
       "Albania    15-24 years        253   293\n",
       "           25-34 years        139   288\n",
       "           35-54 years        173   418\n",
       "           5-14 years          21    40\n",
       "           55-74 years         68   196\n",
       "...                           ...   ...\n",
       "Uzbekistan 25-34 years       2191  6387\n",
       "           35-54 years       1797  9167\n",
       "           5-14 years         338  1038\n",
       "           55-74 years        850  2745\n",
       "           75+ years          319   298\n",
       "\n",
       "[605 rows x 2 columns]"
      ]
     },
     "execution_count": 38,
     "metadata": {},
     "output_type": "execute_result"
    }
   ],
   "source": [
    "country_gender_agewise_suicide = country_gender_agewise_suicide_df.pivot_table(index = ['country', 'age'], columns = 'sex', aggfunc = 'sum')\n",
    "country_gender_agewise_suicide"
   ]
  },
  {
   "cell_type": "code",
   "execution_count": 39,
   "id": "701ec58c-be0a-4cce-9db6-454efcb49091",
   "metadata": {},
   "outputs": [
    {
     "data": {
      "text/plain": [
       "<Axes: ylabel='country,age'>"
      ]
     },
     "execution_count": 39,
     "metadata": {},
     "output_type": "execute_result"
    },
    {
     "data": {
      "image/png": "[encoded data removed]",
      "text/plain": [
       "<Figure size 2000x1000 with 1 Axes>"
      ]
     },
     "metadata": {},
     "output_type": "display_data"
    }
   ],
   "source": [
    "country_gender_agewise_suicide.sample(10).plot.barh(figsize = (20,10))"
   ]
  },
  {
   "cell_type": "markdown",
   "id": "aad89c44-a0ae-49a9-ba8c-8373b4ee7956",
   "metadata": {},
   "source": [
    "# Population and suicide rate in yearly basics"
   ]
  },
  {
   "cell_type": "code",
   "execution_count": 41,
   "id": "f24b1ecc-0610-4c2a-b352-06a515cd9b6a",
   "metadata": {},
   "outputs": [
    {
     "data": {
      "text/plain": [
       "array([1987, 1988, 1989, 1992, 1993, 1994, 1995, 1996, 1997, 1998, 1999,\n",
       "       2000, 2001, 2002, 2003, 2004, 2005, 2006, 2007, 2008, 2009, 2010,\n",
       "       1985, 1986, 1990, 1991, 2012, 2013, 2014, 2015, 2011, 2016],\n",
       "      dtype=int64)"
      ]
     },
     "execution_count": 41,
     "metadata": {},
     "output_type": "execute_result"
    }
   ],
   "source": [
    "suicide['year'].unique()"
   ]
  },
  {
   "cell_type": "code",
   "execution_count": 42,
   "id": "37bf2d51-0d34-420a-a78a-da7bcdbe9d0c",
   "metadata": {},
   "outputs": [
    {
     "data": {
      "text/html": [
       "<div>\n",
       "<style scoped>\n",
       "    .dataframe tbody tr th:only-of-type {\n",
       "        vertical-align: middle;\n",
       "    }\n",
       "\n",
       "    .dataframe tbody tr th {\n",
       "        vertical-align: top;\n",
       "    }\n",
       "\n",
       "    .dataframe thead th {\n",
       "        text-align: right;\n",
       "    }\n",
       "</style>\n",
       "<table border=\"1\" class=\"dataframe\">\n",
       "  <thead>\n",
       "    <tr style=\"text-align: right;\">\n",
       "      <th></th>\n",
       "      <th>suicides_no</th>\n",
       "      <th>population</th>\n",
       "      <th>suicides/100k pop</th>\n",
       "      <th>HDI for year</th>\n",
       "      <th>gdp_per_capita ($)</th>\n",
       "    </tr>\n",
       "    <tr>\n",
       "      <th>year</th>\n",
       "      <th></th>\n",
       "      <th></th>\n",
       "      <th></th>\n",
       "      <th></th>\n",
       "      <th></th>\n",
       "    </tr>\n",
       "  </thead>\n",
       "  <tbody>\n",
       "    <tr>\n",
       "      <th>1985</th>\n",
       "      <td>201.498264</td>\n",
       "      <td>1.751042e+06</td>\n",
       "      <td>11.826198</td>\n",
       "      <td>0.699162</td>\n",
       "      <td>6091.229167</td>\n",
       "    </tr>\n",
       "    <tr>\n",
       "      <th>1986</th>\n",
       "      <td>209.496528</td>\n",
       "      <td>1.788038e+06</td>\n",
       "      <td>11.423333</td>\n",
       "      <td>NaN</td>\n",
       "      <td>7126.104167</td>\n",
       "    </tr>\n",
       "    <tr>\n",
       "      <th>1987</th>\n",
       "      <td>195.743827</td>\n",
       "      <td>1.689861e+06</td>\n",
       "      <td>11.644213</td>\n",
       "      <td>NaN</td>\n",
       "      <td>8712.592593</td>\n",
       "    </tr>\n",
       "    <tr>\n",
       "      <th>1988</th>\n",
       "      <td>205.826531</td>\n",
       "      <td>1.792678e+06</td>\n",
       "      <td>12.709405</td>\n",
       "      <td>NaN</td>\n",
       "      <td>9983.857143</td>\n",
       "    </tr>\n",
       "    <tr>\n",
       "      <th>1989</th>\n",
       "      <td>256.801282</td>\n",
       "      <td>1.963965e+06</td>\n",
       "      <td>12.879071</td>\n",
       "      <td>NaN</td>\n",
       "      <td>9725.038462</td>\n",
       "    </tr>\n",
       "    <tr>\n",
       "      <th>1990</th>\n",
       "      <td>251.772135</td>\n",
       "      <td>1.909662e+06</td>\n",
       "      <td>12.862956</td>\n",
       "      <td>0.715800</td>\n",
       "      <td>9806.328125</td>\n",
       "    </tr>\n",
       "    <tr>\n",
       "      <th>1991</th>\n",
       "      <td>257.838542</td>\n",
       "      <td>1.940089e+06</td>\n",
       "      <td>13.438880</td>\n",
       "      <td>NaN</td>\n",
       "      <td>10132.937500</td>\n",
       "    </tr>\n",
       "    <tr>\n",
       "      <th>1992</th>\n",
       "      <td>271.119231</td>\n",
       "      <td>2.012230e+06</td>\n",
       "      <td>13.498564</td>\n",
       "      <td>NaN</td>\n",
       "      <td>10506.707692</td>\n",
       "    </tr>\n",
       "    <tr>\n",
       "      <th>1993</th>\n",
       "      <td>284.057692</td>\n",
       "      <td>1.962073e+06</td>\n",
       "      <td>13.833705</td>\n",
       "      <td>NaN</td>\n",
       "      <td>10553.584615</td>\n",
       "    </tr>\n",
       "    <tr>\n",
       "      <th>1994</th>\n",
       "      <td>284.390931</td>\n",
       "      <td>1.897977e+06</td>\n",
       "      <td>14.073272</td>\n",
       "      <td>NaN</td>\n",
       "      <td>11567.102941</td>\n",
       "    </tr>\n",
       "    <tr>\n",
       "      <th>1995</th>\n",
       "      <td>260.196581</td>\n",
       "      <td>1.700384e+06</td>\n",
       "      <td>15.662671</td>\n",
       "      <td>0.736429</td>\n",
       "      <td>12669.346154</td>\n",
       "    </tr>\n",
       "    <tr>\n",
       "      <th>1996</th>\n",
       "      <td>267.018398</td>\n",
       "      <td>1.798991e+06</td>\n",
       "      <td>15.305422</td>\n",
       "      <td>NaN</td>\n",
       "      <td>12554.909091</td>\n",
       "    </tr>\n",
       "    <tr>\n",
       "      <th>1997</th>\n",
       "      <td>260.546537</td>\n",
       "      <td>1.843064e+06</td>\n",
       "      <td>14.954361</td>\n",
       "      <td>NaN</td>\n",
       "      <td>12336.142857</td>\n",
       "    </tr>\n",
       "    <tr>\n",
       "      <th>1998</th>\n",
       "      <td>263.281646</td>\n",
       "      <td>1.819812e+06</td>\n",
       "      <td>14.926920</td>\n",
       "      <td>NaN</td>\n",
       "      <td>12137.898734</td>\n",
       "    </tr>\n",
       "    <tr>\n",
       "      <th>1999</th>\n",
       "      <td>257.147590</td>\n",
       "      <td>1.783497e+06</td>\n",
       "      <td>14.532038</td>\n",
       "      <td>NaN</td>\n",
       "      <td>12832.192771</td>\n",
       "    </tr>\n",
       "    <tr>\n",
       "      <th>2000</th>\n",
       "      <td>247.899225</td>\n",
       "      <td>1.743438e+06</td>\n",
       "      <td>13.941328</td>\n",
       "      <td>0.752961</td>\n",
       "      <td>12466.546512</td>\n",
       "    </tr>\n",
       "    <tr>\n",
       "      <th>2001</th>\n",
       "      <td>237.359848</td>\n",
       "      <td>1.662467e+06</td>\n",
       "      <td>13.519138</td>\n",
       "      <td>NaN</td>\n",
       "      <td>12005.579545</td>\n",
       "    </tr>\n",
       "    <tr>\n",
       "      <th>2002</th>\n",
       "      <td>248.154070</td>\n",
       "      <td>1.765652e+06</td>\n",
       "      <td>13.786550</td>\n",
       "      <td>NaN</td>\n",
       "      <td>12613.779070</td>\n",
       "    </tr>\n",
       "    <tr>\n",
       "      <th>2003</th>\n",
       "      <td>248.138566</td>\n",
       "      <td>1.781452e+06</td>\n",
       "      <td>13.205019</td>\n",
       "      <td>NaN</td>\n",
       "      <td>14716.186047</td>\n",
       "    </tr>\n",
       "    <tr>\n",
       "      <th>2004</th>\n",
       "      <td>238.949405</td>\n",
       "      <td>1.731395e+06</td>\n",
       "      <td>12.481944</td>\n",
       "      <td>NaN</td>\n",
       "      <td>17753.904762</td>\n",
       "    </tr>\n",
       "    <tr>\n",
       "      <th>2005</th>\n",
       "      <td>232.514881</td>\n",
       "      <td>1.721141e+06</td>\n",
       "      <td>12.068442</td>\n",
       "      <td>0.779434</td>\n",
       "      <td>20155.964286</td>\n",
       "    </tr>\n",
       "    <tr>\n",
       "      <th>2006</th>\n",
       "      <td>228.785294</td>\n",
       "      <td>1.804813e+06</td>\n",
       "      <td>11.927461</td>\n",
       "      <td>NaN</td>\n",
       "      <td>21140.964706</td>\n",
       "    </tr>\n",
       "    <tr>\n",
       "      <th>2007</th>\n",
       "      <td>226.170543</td>\n",
       "      <td>1.801903e+06</td>\n",
       "      <td>12.025339</td>\n",
       "      <td>NaN</td>\n",
       "      <td>23943.430233</td>\n",
       "    </tr>\n",
       "    <tr>\n",
       "      <th>2008</th>\n",
       "      <td>230.830392</td>\n",
       "      <td>1.824138e+06</td>\n",
       "      <td>11.907686</td>\n",
       "      <td>NaN</td>\n",
       "      <td>26408.047059</td>\n",
       "    </tr>\n",
       "    <tr>\n",
       "      <th>2009</th>\n",
       "      <td>227.984082</td>\n",
       "      <td>1.850401e+06</td>\n",
       "      <td>11.400787</td>\n",
       "      <td>NaN</td>\n",
       "      <td>22607.910112</td>\n",
       "    </tr>\n",
       "    <tr>\n",
       "      <th>2010</th>\n",
       "      <td>226.043561</td>\n",
       "      <td>1.891380e+06</td>\n",
       "      <td>11.215900</td>\n",
       "      <td>0.793869</td>\n",
       "      <td>23857.193182</td>\n",
       "    </tr>\n",
       "    <tr>\n",
       "      <th>2011</th>\n",
       "      <td>229.151163</td>\n",
       "      <td>1.931553e+06</td>\n",
       "      <td>11.015349</td>\n",
       "      <td>0.795778</td>\n",
       "      <td>26100.918605</td>\n",
       "    </tr>\n",
       "    <tr>\n",
       "      <th>2012</th>\n",
       "      <td>236.790123</td>\n",
       "      <td>1.967914e+06</td>\n",
       "      <td>11.421718</td>\n",
       "      <td>0.804526</td>\n",
       "      <td>26808.950617</td>\n",
       "    </tr>\n",
       "    <tr>\n",
       "      <th>2013</th>\n",
       "      <td>232.498958</td>\n",
       "      <td>1.968918e+06</td>\n",
       "      <td>11.107958</td>\n",
       "      <td>0.808312</td>\n",
       "      <td>28032.675000</td>\n",
       "    </tr>\n",
       "    <tr>\n",
       "      <th>2014</th>\n",
       "      <td>238.230769</td>\n",
       "      <td>2.042796e+06</td>\n",
       "      <td>11.011464</td>\n",
       "      <td>0.808520</td>\n",
       "      <td>27420.141026</td>\n",
       "    </tr>\n",
       "    <tr>\n",
       "      <th>2015</th>\n",
       "      <td>273.709677</td>\n",
       "      <td>2.385293e+06</td>\n",
       "      <td>11.094073</td>\n",
       "      <td>NaN</td>\n",
       "      <td>26231.193548</td>\n",
       "    </tr>\n",
       "    <tr>\n",
       "      <th>2016</th>\n",
       "      <td>97.518750</td>\n",
       "      <td>8.256368e+05</td>\n",
       "      <td>13.421187</td>\n",
       "      <td>NaN</td>\n",
       "      <td>25665.125000</td>\n",
       "    </tr>\n",
       "  </tbody>\n",
       "</table>\n",
       "</div>"
      ],
      "text/plain": [
       "      suicides_no    population  suicides/100k pop  HDI for year  \\\n",
       "year                                                               \n",
       "1985   201.498264  1.751042e+06          11.826198      0.699162   \n",
       "1986   209.496528  1.788038e+06          11.423333           NaN   \n",
       "1987   195.743827  1.689861e+06          11.644213           NaN   \n",
       "1988   205.826531  1.792678e+06          12.709405           NaN   \n",
       "1989   256.801282  1.963965e+06          12.879071           NaN   \n",
       "1990   251.772135  1.909662e+06          12.862956      0.715800   \n",
       "1991   257.838542  1.940089e+06          13.438880           NaN   \n",
       "1992   271.119231  2.012230e+06          13.498564           NaN   \n",
       "1993   284.057692  1.962073e+06          13.833705           NaN   \n",
       "1994   284.390931  1.897977e+06          14.073272           NaN   \n",
       "1995   260.196581  1.700384e+06          15.662671      0.736429   \n",
       "1996   267.018398  1.798991e+06          15.305422           NaN   \n",
       "1997   260.546537  1.843064e+06          14.954361           NaN   \n",
       "1998   263.281646  1.819812e+06          14.926920           NaN   \n",
       "1999   257.147590  1.783497e+06          14.532038           NaN   \n",
       "2000   247.899225  1.743438e+06          13.941328      0.752961   \n",
       "2001   237.359848  1.662467e+06          13.519138           NaN   \n",
       "2002   248.154070  1.765652e+06          13.786550           NaN   \n",
       "2003   248.138566  1.781452e+06          13.205019           NaN   \n",
       "2004   238.949405  1.731395e+06          12.481944           NaN   \n",
       "2005   232.514881  1.721141e+06          12.068442      0.779434   \n",
       "2006   228.785294  1.804813e+06          11.927461           NaN   \n",
       "2007   226.170543  1.801903e+06          12.025339           NaN   \n",
       "2008   230.830392  1.824138e+06          11.907686           NaN   \n",
       "2009   227.984082  1.850401e+06          11.400787           NaN   \n",
       "2010   226.043561  1.891380e+06          11.215900      0.793869   \n",
       "2011   229.151163  1.931553e+06          11.015349      0.795778   \n",
       "2012   236.790123  1.967914e+06          11.421718      0.804526   \n",
       "2013   232.498958  1.968918e+06          11.107958      0.808312   \n",
       "2014   238.230769  2.042796e+06          11.011464      0.808520   \n",
       "2015   273.709677  2.385293e+06          11.094073           NaN   \n",
       "2016    97.518750  8.256368e+05          13.421187           NaN   \n",
       "\n",
       "      gdp_per_capita ($)  \n",
       "year                      \n",
       "1985         6091.229167  \n",
       "1986         7126.104167  \n",
       "1987         8712.592593  \n",
       "1988         9983.857143  \n",
       "1989         9725.038462  \n",
       "1990         9806.328125  \n",
       "1991        10132.937500  \n",
       "1992        10506.707692  \n",
       "1993        10553.584615  \n",
       "1994        11567.102941  \n",
       "1995        12669.346154  \n",
       "1996        12554.909091  \n",
       "1997        12336.142857  \n",
       "1998        12137.898734  \n",
       "1999        12832.192771  \n",
       "2000        12466.546512  \n",
       "2001        12005.579545  \n",
       "2002        12613.779070  \n",
       "2003        14716.186047  \n",
       "2004        17753.904762  \n",
       "2005        20155.964286  \n",
       "2006        21140.964706  \n",
       "2007        23943.430233  \n",
       "2008        26408.047059  \n",
       "2009        22607.910112  \n",
       "2010        23857.193182  \n",
       "2011        26100.918605  \n",
       "2012        26808.950617  \n",
       "2013        28032.675000  \n",
       "2014        27420.141026  \n",
       "2015        26231.193548  \n",
       "2016        25665.125000  "
      ]
     },
     "execution_count": 42,
     "metadata": {},
     "output_type": "execute_result"
    }
   ],
   "source": [
    "yearly_suicide = suicide.groupby('year').mean(numeric_only = True)\n",
    "yearly_suicide"
   ]
  },
  {
   "cell_type": "code",
   "execution_count": 43,
   "id": "e2bda755-8572-4945-88d6-ee9ffd70ebd6",
   "metadata": {},
   "outputs": [],
   "source": [
    "yearly_population = pd.DataFrame({\n",
    "    'population' : yearly_suicide.population\n",
    "})\n",
    "\n",
    "yearly_suicide_no = pd.DataFrame({\n",
    "    'suicide_no' : yearly_suicide.suicides_no\n",
    "})\n"
   ]
  },
  {
   "cell_type": "code",
   "execution_count": 44,
   "id": "44c68587-e07c-4680-a568-f04c6665375d",
   "metadata": {},
   "outputs": [
    {
     "data": {
      "text/html": [
       "<div>\n",
       "<style scoped>\n",
       "    .dataframe tbody tr th:only-of-type {\n",
       "        vertical-align: middle;\n",
       "    }\n",
       "\n",
       "    .dataframe tbody tr th {\n",
       "        vertical-align: top;\n",
       "    }\n",
       "\n",
       "    .dataframe thead th {\n",
       "        text-align: right;\n",
       "    }\n",
       "</style>\n",
       "<table border=\"1\" class=\"dataframe\">\n",
       "  <thead>\n",
       "    <tr style=\"text-align: right;\">\n",
       "      <th></th>\n",
       "      <th>population</th>\n",
       "    </tr>\n",
       "    <tr>\n",
       "      <th>year</th>\n",
       "      <th></th>\n",
       "    </tr>\n",
       "  </thead>\n",
       "  <tbody>\n",
       "    <tr>\n",
       "      <th>1985</th>\n",
       "      <td>1.751042e+06</td>\n",
       "    </tr>\n",
       "    <tr>\n",
       "      <th>1986</th>\n",
       "      <td>1.788038e+06</td>\n",
       "    </tr>\n",
       "    <tr>\n",
       "      <th>1987</th>\n",
       "      <td>1.689861e+06</td>\n",
       "    </tr>\n",
       "    <tr>\n",
       "      <th>1988</th>\n",
       "      <td>1.792678e+06</td>\n",
       "    </tr>\n",
       "    <tr>\n",
       "      <th>1989</th>\n",
       "      <td>1.963965e+06</td>\n",
       "    </tr>\n",
       "  </tbody>\n",
       "</table>\n",
       "</div>"
      ],
      "text/plain": [
       "        population\n",
       "year              \n",
       "1985  1.751042e+06\n",
       "1986  1.788038e+06\n",
       "1987  1.689861e+06\n",
       "1988  1.792678e+06\n",
       "1989  1.963965e+06"
      ]
     },
     "execution_count": 44,
     "metadata": {},
     "output_type": "execute_result"
    }
   ],
   "source": [
    "yearly_population.head()"
   ]
  },
  {
   "cell_type": "code",
   "execution_count": 45,
   "id": "8c71b7bd-ffef-4d77-a418-47e2181ff44c",
   "metadata": {},
   "outputs": [
    {
     "data": {
      "text/plain": [
       "<Axes: xlabel='year'>"
      ]
     },
     "execution_count": 45,
     "metadata": {},
     "output_type": "execute_result"
    },
    {
     "data": {
      "image/png": "[encoded data removed]",
      "text/plain": [
       "<Figure size 640x480 with 1 Axes>"
      ]
     },
     "metadata": {},
     "output_type": "display_data"
    },
    {
     "data": {
      "image/png": "[encoded data removed]",
      "text/plain": [
       "<Figure size 640x480 with 1 Axes>"
      ]
     },
     "metadata": {},
     "output_type": "display_data"
    }
   ],
   "source": [
    "yearly_population.plot.line(color = 'red')\n",
    "yearly_suicide_no.plot.line()"
   ]
  },
  {
   "cell_type": "markdown",
   "id": "a2d0a7a5-eff3-49b6-996a-4130c8182d1a",
   "metadata": {},
   "source": [
    "# Merge population and suicide no. with yearlywise"
   ]
  },
  {
   "cell_type": "code",
   "execution_count": 47,
   "id": "70726034-ffe9-4865-acc5-f8efbbbf8511",
   "metadata": {},
   "outputs": [
    {
     "data": {
      "text/html": [
       "<div>\n",
       "<style scoped>\n",
       "    .dataframe tbody tr th:only-of-type {\n",
       "        vertical-align: middle;\n",
       "    }\n",
       "\n",
       "    .dataframe tbody tr th {\n",
       "        vertical-align: top;\n",
       "    }\n",
       "\n",
       "    .dataframe thead th {\n",
       "        text-align: right;\n",
       "    }\n",
       "</style>\n",
       "<table border=\"1\" class=\"dataframe\">\n",
       "  <thead>\n",
       "    <tr style=\"text-align: right;\">\n",
       "      <th></th>\n",
       "      <th>population</th>\n",
       "      <th>suicide_no</th>\n",
       "    </tr>\n",
       "    <tr>\n",
       "      <th>year</th>\n",
       "      <th></th>\n",
       "      <th></th>\n",
       "    </tr>\n",
       "  </thead>\n",
       "  <tbody>\n",
       "    <tr>\n",
       "      <th>1985</th>\n",
       "      <td>1.751042e+06</td>\n",
       "      <td>201.498264</td>\n",
       "    </tr>\n",
       "    <tr>\n",
       "      <th>1986</th>\n",
       "      <td>1.788038e+06</td>\n",
       "      <td>209.496528</td>\n",
       "    </tr>\n",
       "    <tr>\n",
       "      <th>1987</th>\n",
       "      <td>1.689861e+06</td>\n",
       "      <td>195.743827</td>\n",
       "    </tr>\n",
       "    <tr>\n",
       "      <th>1988</th>\n",
       "      <td>1.792678e+06</td>\n",
       "      <td>205.826531</td>\n",
       "    </tr>\n",
       "    <tr>\n",
       "      <th>1989</th>\n",
       "      <td>1.963965e+06</td>\n",
       "      <td>256.801282</td>\n",
       "    </tr>\n",
       "  </tbody>\n",
       "</table>\n",
       "</div>"
      ],
      "text/plain": [
       "        population  suicide_no\n",
       "year                          \n",
       "1985  1.751042e+06  201.498264\n",
       "1986  1.788038e+06  209.496528\n",
       "1987  1.689861e+06  195.743827\n",
       "1988  1.792678e+06  205.826531\n",
       "1989  1.963965e+06  256.801282"
      ]
     },
     "execution_count": 47,
     "metadata": {},
     "output_type": "execute_result"
    }
   ],
   "source": [
    "merge_pop_suicide = pd.merge(yearly_population, yearly_suicide_no, on='year')\n",
    "merge_pop_suicide.head()"
   ]
  },
  {
   "cell_type": "code",
   "execution_count": 48,
   "id": "15d31b48-ccf0-4e34-b84d-e7973dac25a1",
   "metadata": {},
   "outputs": [
    {
     "data": {
      "text/plain": [
       "<Axes: xlabel='year'>"
      ]
     },
     "execution_count": 48,
     "metadata": {},
     "output_type": "execute_result"
    },
    {
     "data": {
      "image/png": "[encoded data removed]",
      "text/plain": [
       "<Figure size 3000x1000 with 1 Axes>"
      ]
     },
     "metadata": {},
     "output_type": "display_data"
    }
   ],
   "source": [
    "merge_pop_suicide.plot.bar(stacked = True, figsize = (30, 10))"
   ]
  },
  {
   "cell_type": "markdown",
   "id": "258914a7-1645-42f6-955c-c8580bb2f22b",
   "metadata": {},
   "source": [
    "# Suicide rate in male and female yearly"
   ]
  },
  {
   "cell_type": "code",
   "execution_count": 50,
   "id": "4db2a348-01d2-4264-bc93-fbb8c7ce5c83",
   "metadata": {},
   "outputs": [],
   "source": [
    "yearly_countrywise_gender_suicide_df = pd.DataFrame({\n",
    "    \"year\" : suicide.year,\n",
    "    \"sex\" : suicide.sex, \n",
    "    \"suicides_no\" : suicide.suicides_no\n",
    "})"
   ]
  },
  {
   "cell_type": "code",
   "execution_count": 51,
   "id": "f0af59ee-80f8-483e-bf5f-9848f9246624",
   "metadata": {},
   "outputs": [
    {
     "data": {
      "text/html": [
       "<div>\n",
       "<style scoped>\n",
       "    .dataframe tbody tr th:only-of-type {\n",
       "        vertical-align: middle;\n",
       "    }\n",
       "\n",
       "    .dataframe tbody tr th {\n",
       "        vertical-align: top;\n",
       "    }\n",
       "\n",
       "    .dataframe thead tr th {\n",
       "        text-align: left;\n",
       "    }\n",
       "\n",
       "    .dataframe thead tr:last-of-type th {\n",
       "        text-align: right;\n",
       "    }\n",
       "</style>\n",
       "<table border=\"1\" class=\"dataframe\">\n",
       "  <thead>\n",
       "    <tr>\n",
       "      <th></th>\n",
       "      <th colspan=\"2\" halign=\"left\">suicides_no</th>\n",
       "    </tr>\n",
       "    <tr>\n",
       "      <th>sex</th>\n",
       "      <th>female</th>\n",
       "      <th>male</th>\n",
       "    </tr>\n",
       "    <tr>\n",
       "      <th>year</th>\n",
       "      <th></th>\n",
       "      <th></th>\n",
       "    </tr>\n",
       "  </thead>\n",
       "  <tbody>\n",
       "    <tr>\n",
       "      <th>1985</th>\n",
       "      <td>112.774306</td>\n",
       "      <td>290.222222</td>\n",
       "    </tr>\n",
       "    <tr>\n",
       "      <th>1986</th>\n",
       "      <td>117.541667</td>\n",
       "      <td>301.451389</td>\n",
       "    </tr>\n",
       "    <tr>\n",
       "      <th>1987</th>\n",
       "      <td>108.043210</td>\n",
       "      <td>283.444444</td>\n",
       "    </tr>\n",
       "    <tr>\n",
       "      <th>1988</th>\n",
       "      <td>112.295918</td>\n",
       "      <td>299.357143</td>\n",
       "    </tr>\n",
       "    <tr>\n",
       "      <th>1989</th>\n",
       "      <td>132.567308</td>\n",
       "      <td>381.035256</td>\n",
       "    </tr>\n",
       "  </tbody>\n",
       "</table>\n",
       "</div>"
      ],
      "text/plain": [
       "     suicides_no            \n",
       "sex       female        male\n",
       "year                        \n",
       "1985  112.774306  290.222222\n",
       "1986  117.541667  301.451389\n",
       "1987  108.043210  283.444444\n",
       "1988  112.295918  299.357143\n",
       "1989  132.567308  381.035256"
      ]
     },
     "execution_count": 51,
     "metadata": {},
     "output_type": "execute_result"
    }
   ],
   "source": [
    "yearly_countrywise_gender_suicide = yearly_countrywise_gender_suicide_df.pivot_table(index = 'year', columns = 'sex', aggfunc = 'mean')\n",
    "yearly_countrywise_gender_suicide.head()"
   ]
  },
  {
   "cell_type": "code",
   "execution_count": 52,
   "id": "132f9e99-a995-4930-8764-a23460b21382",
   "metadata": {},
   "outputs": [],
   "source": [
    "x = yearly_countrywise_gender_suicide.index"
   ]
  },
  {
   "cell_type": "code",
   "execution_count": 53,
   "id": "b6605596-f49e-42fb-88f7-e0ae99948294",
   "metadata": {},
   "outputs": [
    {
     "data": {
      "text/plain": [
       "MultiIndex([('suicides_no', 'female'),\n",
       "            ('suicides_no',   'male')],\n",
       "           names=[None, 'sex'])"
      ]
     },
     "execution_count": 53,
     "metadata": {},
     "output_type": "execute_result"
    }
   ],
   "source": [
    "yearly_countrywise_gender_suicide.columns"
   ]
  },
  {
   "cell_type": "code",
   "execution_count": 54,
   "id": "70029b21-1a9c-4e8d-8bde-d55906148443",
   "metadata": {},
   "outputs": [],
   "source": [
    "yearly_countrywise_gender_suicide.columns = ['female', 'male']"
   ]
  },
  {
   "cell_type": "code",
   "execution_count": 55,
   "id": "9ea1abfa-be45-4dca-a825-db17e9ab389e",
   "metadata": {},
   "outputs": [
    {
     "data": {
      "text/html": [
       "<div>\n",
       "<style scoped>\n",
       "    .dataframe tbody tr th:only-of-type {\n",
       "        vertical-align: middle;\n",
       "    }\n",
       "\n",
       "    .dataframe tbody tr th {\n",
       "        vertical-align: top;\n",
       "    }\n",
       "\n",
       "    .dataframe thead th {\n",
       "        text-align: right;\n",
       "    }\n",
       "</style>\n",
       "<table border=\"1\" class=\"dataframe\">\n",
       "  <thead>\n",
       "    <tr style=\"text-align: right;\">\n",
       "      <th></th>\n",
       "      <th>female</th>\n",
       "      <th>male</th>\n",
       "    </tr>\n",
       "    <tr>\n",
       "      <th>year</th>\n",
       "      <th></th>\n",
       "      <th></th>\n",
       "    </tr>\n",
       "  </thead>\n",
       "  <tbody>\n",
       "    <tr>\n",
       "      <th>1985</th>\n",
       "      <td>112.774306</td>\n",
       "      <td>290.222222</td>\n",
       "    </tr>\n",
       "    <tr>\n",
       "      <th>1986</th>\n",
       "      <td>117.541667</td>\n",
       "      <td>301.451389</td>\n",
       "    </tr>\n",
       "    <tr>\n",
       "      <th>1987</th>\n",
       "      <td>108.043210</td>\n",
       "      <td>283.444444</td>\n",
       "    </tr>\n",
       "    <tr>\n",
       "      <th>1988</th>\n",
       "      <td>112.295918</td>\n",
       "      <td>299.357143</td>\n",
       "    </tr>\n",
       "    <tr>\n",
       "      <th>1989</th>\n",
       "      <td>132.567308</td>\n",
       "      <td>381.035256</td>\n",
       "    </tr>\n",
       "  </tbody>\n",
       "</table>\n",
       "</div>"
      ],
      "text/plain": [
       "          female        male\n",
       "year                        \n",
       "1985  112.774306  290.222222\n",
       "1986  117.541667  301.451389\n",
       "1987  108.043210  283.444444\n",
       "1988  112.295918  299.357143\n",
       "1989  132.567308  381.035256"
      ]
     },
     "execution_count": 55,
     "metadata": {},
     "output_type": "execute_result"
    }
   ],
   "source": [
    "yearly_countrywise_gender_suicide.head()"
   ]
  },
  {
   "cell_type": "code",
   "execution_count": 56,
   "id": "55545c51-ceb1-4d6b-a60c-6f208fe9130d",
   "metadata": {},
   "outputs": [],
   "source": [
    "female = yearly_countrywise_gender_suicide['female']\n",
    "male = yearly_countrywise_gender_suicide['male']"
   ]
  },
  {
   "cell_type": "code",
   "execution_count": 57,
   "id": "202907f6-32a1-4bd5-bc19-98eb6ba962b4",
   "metadata": {},
   "outputs": [
    {
     "data": {
      "text/plain": [
       "<matplotlib.legend.Legend at 0x20a654bc770>"
      ]
     },
     "execution_count": 57,
     "metadata": {},
     "output_type": "execute_result"
    },
    {
     "data": {
      "image/png": "[encoded data removed]",
      "text/plain": [
       "<Figure size 1200x600 with 1 Axes>"
      ]
     },
     "metadata": {},
     "output_type": "display_data"
    }
   ],
   "source": [
    "fig, ax = plt.subplots(figsize=(12,6))\n",
    "\n",
    "ax.plot(x, female, color=\"blue\", alpha = 0.5, label = 'Female suicide rate')\n",
    "ax.plot(x, male, color = \"green\", alpha = 0.5, label = 'Male suicide rate')\n",
    "\n",
    "ax.set_xlabel('years')\n",
    "ax.set_ylabel('Avg. of suicide no')\n",
    "ax.legend()"
   ]
  },
  {
   "cell_type": "markdown",
   "id": "958a69eb-7943-4117-ae49-75a6035b9b3b",
   "metadata": {},
   "source": [
    "# Suicide rate over the period of time in each country"
   ]
  },
  {
   "cell_type": "code",
   "execution_count": 114,
   "id": "90ddb12e-0162-45a5-803b-9a9c70016da6",
   "metadata": {},
   "outputs": [
    {
     "data": {
      "text/html": [
       "<div>\n",
       "<style scoped>\n",
       "    .dataframe tbody tr th:only-of-type {\n",
       "        vertical-align: middle;\n",
       "    }\n",
       "\n",
       "    .dataframe tbody tr th {\n",
       "        vertical-align: top;\n",
       "    }\n",
       "\n",
       "    .dataframe thead th {\n",
       "        text-align: right;\n",
       "    }\n",
       "</style>\n",
       "<table border=\"1\" class=\"dataframe\">\n",
       "  <thead>\n",
       "    <tr style=\"text-align: right;\">\n",
       "      <th></th>\n",
       "      <th>country</th>\n",
       "      <th>year</th>\n",
       "      <th>suicides_no</th>\n",
       "    </tr>\n",
       "  </thead>\n",
       "  <tbody>\n",
       "    <tr>\n",
       "      <th>0</th>\n",
       "      <td>Albania</td>\n",
       "      <td>1987</td>\n",
       "      <td>21</td>\n",
       "    </tr>\n",
       "    <tr>\n",
       "      <th>1</th>\n",
       "      <td>Albania</td>\n",
       "      <td>1987</td>\n",
       "      <td>16</td>\n",
       "    </tr>\n",
       "    <tr>\n",
       "      <th>2</th>\n",
       "      <td>Albania</td>\n",
       "      <td>1987</td>\n",
       "      <td>14</td>\n",
       "    </tr>\n",
       "    <tr>\n",
       "      <th>3</th>\n",
       "      <td>Albania</td>\n",
       "      <td>1987</td>\n",
       "      <td>1</td>\n",
       "    </tr>\n",
       "    <tr>\n",
       "      <th>4</th>\n",
       "      <td>Albania</td>\n",
       "      <td>1987</td>\n",
       "      <td>9</td>\n",
       "    </tr>\n",
       "    <tr>\n",
       "      <th>...</th>\n",
       "      <td>...</td>\n",
       "      <td>...</td>\n",
       "      <td>...</td>\n",
       "    </tr>\n",
       "    <tr>\n",
       "      <th>27815</th>\n",
       "      <td>Uzbekistan</td>\n",
       "      <td>2014</td>\n",
       "      <td>107</td>\n",
       "    </tr>\n",
       "    <tr>\n",
       "      <th>27816</th>\n",
       "      <td>Uzbekistan</td>\n",
       "      <td>2014</td>\n",
       "      <td>9</td>\n",
       "    </tr>\n",
       "    <tr>\n",
       "      <th>27817</th>\n",
       "      <td>Uzbekistan</td>\n",
       "      <td>2014</td>\n",
       "      <td>60</td>\n",
       "    </tr>\n",
       "    <tr>\n",
       "      <th>27818</th>\n",
       "      <td>Uzbekistan</td>\n",
       "      <td>2014</td>\n",
       "      <td>44</td>\n",
       "    </tr>\n",
       "    <tr>\n",
       "      <th>27819</th>\n",
       "      <td>Uzbekistan</td>\n",
       "      <td>2014</td>\n",
       "      <td>21</td>\n",
       "    </tr>\n",
       "  </tbody>\n",
       "</table>\n",
       "<p>27820 rows × 3 columns</p>\n",
       "</div>"
      ],
      "text/plain": [
       "          country  year  suicides_no\n",
       "0         Albania  1987           21\n",
       "1         Albania  1987           16\n",
       "2         Albania  1987           14\n",
       "3         Albania  1987            1\n",
       "4         Albania  1987            9\n",
       "...           ...   ...          ...\n",
       "27815  Uzbekistan  2014          107\n",
       "27816  Uzbekistan  2014            9\n",
       "27817  Uzbekistan  2014           60\n",
       "27818  Uzbekistan  2014           44\n",
       "27819  Uzbekistan  2014           21\n",
       "\n",
       "[27820 rows x 3 columns]"
      ]
     },
     "execution_count": 114,
     "metadata": {},
     "output_type": "execute_result"
    }
   ],
   "source": [
    "country_yearwise_suicide_df = pd.DataFrame({\n",
    "    'country' : suicide.country,\n",
    "    'year' : suicide.year,\n",
    "    'suicides_no' : suicide.suicides_no\n",
    "})\n",
    "country_yearwise_suicide_df"
   ]
  },
  {
   "cell_type": "code",
   "execution_count": 118,
   "id": "e25b73f6-c46c-4539-a819-b658c8a24c48",
   "metadata": {},
   "outputs": [],
   "source": [
    "country_yearwise_suicide = country_yearwise_suicide_df.pivot_table(index = 'year', columns = 'country', aggfunc = 'mean')"
   ]
  },
  {
   "cell_type": "code",
   "execution_count": 120,
   "id": "d46f2cba-74de-47f7-b8e0-7ac7320a0f78",
   "metadata": {},
   "outputs": [],
   "source": [
    "country_yearwise_suicide.columns = country_yearwise_suicide.columns.droplevel()"
   ]
  },
  {
   "cell_type": "code",
   "execution_count": 122,
   "id": "7e4bbce2-0343-4470-8c74-11c87cdf95bd",
   "metadata": {},
   "outputs": [
    {
     "data": {
      "text/html": [
       "<div>\n",
       "<style scoped>\n",
       "    .dataframe tbody tr th:only-of-type {\n",
       "        vertical-align: middle;\n",
       "    }\n",
       "\n",
       "    .dataframe tbody tr th {\n",
       "        vertical-align: top;\n",
       "    }\n",
       "\n",
       "    .dataframe thead th {\n",
       "        text-align: right;\n",
       "    }\n",
       "</style>\n",
       "<table border=\"1\" class=\"dataframe\">\n",
       "  <thead>\n",
       "    <tr style=\"text-align: right;\">\n",
       "      <th>country</th>\n",
       "      <th>Albania</th>\n",
       "      <th>Antigua and Barbuda</th>\n",
       "      <th>Argentina</th>\n",
       "      <th>Armenia</th>\n",
       "      <th>Aruba</th>\n",
       "      <th>Australia</th>\n",
       "      <th>Austria</th>\n",
       "      <th>Azerbaijan</th>\n",
       "      <th>Bahamas</th>\n",
       "      <th>Bahrain</th>\n",
       "      <th>...</th>\n",
       "      <th>Thailand</th>\n",
       "      <th>Trinidad and Tobago</th>\n",
       "      <th>Turkey</th>\n",
       "      <th>Turkmenistan</th>\n",
       "      <th>Ukraine</th>\n",
       "      <th>United Arab Emirates</th>\n",
       "      <th>United Kingdom</th>\n",
       "      <th>United States</th>\n",
       "      <th>Uruguay</th>\n",
       "      <th>Uzbekistan</th>\n",
       "    </tr>\n",
       "    <tr>\n",
       "      <th>year</th>\n",
       "      <th></th>\n",
       "      <th></th>\n",
       "      <th></th>\n",
       "      <th></th>\n",
       "      <th></th>\n",
       "      <th></th>\n",
       "      <th></th>\n",
       "      <th></th>\n",
       "      <th></th>\n",
       "      <th></th>\n",
       "      <th></th>\n",
       "      <th></th>\n",
       "      <th></th>\n",
       "      <th></th>\n",
       "      <th></th>\n",
       "      <th></th>\n",
       "      <th></th>\n",
       "      <th></th>\n",
       "      <th></th>\n",
       "      <th></th>\n",
       "      <th></th>\n",
       "    </tr>\n",
       "  </thead>\n",
       "  <tbody>\n",
       "    <tr>\n",
       "      <th>1985</th>\n",
       "      <td>NaN</td>\n",
       "      <td>0.0</td>\n",
       "      <td>165.666667</td>\n",
       "      <td>NaN</td>\n",
       "      <td>NaN</td>\n",
       "      <td>155.083333</td>\n",
       "      <td>174.250000</td>\n",
       "      <td>NaN</td>\n",
       "      <td>0.083333</td>\n",
       "      <td>0.916667</td>\n",
       "      <td>...</td>\n",
       "      <td>248.500000</td>\n",
       "      <td>2.416667</td>\n",
       "      <td>NaN</td>\n",
       "      <td>NaN</td>\n",
       "      <td>NaN</td>\n",
       "      <td>NaN</td>\n",
       "      <td>425.416667</td>\n",
       "      <td>2453.833333</td>\n",
       "      <td>23.916667</td>\n",
       "      <td>NaN</td>\n",
       "    </tr>\n",
       "    <tr>\n",
       "      <th>1986</th>\n",
       "      <td>NaN</td>\n",
       "      <td>0.0</td>\n",
       "      <td>190.333333</td>\n",
       "      <td>NaN</td>\n",
       "      <td>NaN</td>\n",
       "      <td>170.333333</td>\n",
       "      <td>178.250000</td>\n",
       "      <td>NaN</td>\n",
       "      <td>NaN</td>\n",
       "      <td>NaN</td>\n",
       "      <td>...</td>\n",
       "      <td>233.166667</td>\n",
       "      <td>8.666667</td>\n",
       "      <td>NaN</td>\n",
       "      <td>NaN</td>\n",
       "      <td>NaN</td>\n",
       "      <td>NaN</td>\n",
       "      <td>403.250000</td>\n",
       "      <td>2574.333333</td>\n",
       "      <td>21.833333</td>\n",
       "      <td>NaN</td>\n",
       "    </tr>\n",
       "    <tr>\n",
       "      <th>1987</th>\n",
       "      <td>6.083333</td>\n",
       "      <td>0.0</td>\n",
       "      <td>190.500000</td>\n",
       "      <td>NaN</td>\n",
       "      <td>NaN</td>\n",
       "      <td>180.333333</td>\n",
       "      <td>172.416667</td>\n",
       "      <td>NaN</td>\n",
       "      <td>0.250000</td>\n",
       "      <td>0.750000</td>\n",
       "      <td>...</td>\n",
       "      <td>252.916667</td>\n",
       "      <td>9.916667</td>\n",
       "      <td>NaN</td>\n",
       "      <td>22.666667</td>\n",
       "      <td>837.500000</td>\n",
       "      <td>NaN</td>\n",
       "      <td>382.833333</td>\n",
       "      <td>2565.250000</td>\n",
       "      <td>21.500000</td>\n",
       "      <td>NaN</td>\n",
       "    </tr>\n",
       "    <tr>\n",
       "      <th>1988</th>\n",
       "      <td>5.250000</td>\n",
       "      <td>0.0</td>\n",
       "      <td>196.166667</td>\n",
       "      <td>NaN</td>\n",
       "      <td>NaN</td>\n",
       "      <td>181.000000</td>\n",
       "      <td>154.250000</td>\n",
       "      <td>NaN</td>\n",
       "      <td>NaN</td>\n",
       "      <td>1.166667</td>\n",
       "      <td>...</td>\n",
       "      <td>NaN</td>\n",
       "      <td>13.666667</td>\n",
       "      <td>NaN</td>\n",
       "      <td>22.500000</td>\n",
       "      <td>812.583333</td>\n",
       "      <td>NaN</td>\n",
       "      <td>414.250000</td>\n",
       "      <td>2532.333333</td>\n",
       "      <td>22.333333</td>\n",
       "      <td>NaN</td>\n",
       "    </tr>\n",
       "    <tr>\n",
       "      <th>1989</th>\n",
       "      <td>5.666667</td>\n",
       "      <td>0.0</td>\n",
       "      <td>187.250000</td>\n",
       "      <td>NaN</td>\n",
       "      <td>NaN</td>\n",
       "      <td>172.166667</td>\n",
       "      <td>158.166667</td>\n",
       "      <td>NaN</td>\n",
       "      <td>NaN</td>\n",
       "      <td>NaN</td>\n",
       "      <td>...</td>\n",
       "      <td>NaN</td>\n",
       "      <td>14.416667</td>\n",
       "      <td>NaN</td>\n",
       "      <td>21.083333</td>\n",
       "      <td>907.250000</td>\n",
       "      <td>NaN</td>\n",
       "      <td>363.416667</td>\n",
       "      <td>2518.166667</td>\n",
       "      <td>28.666667</td>\n",
       "      <td>NaN</td>\n",
       "    </tr>\n",
       "  </tbody>\n",
       "</table>\n",
       "<p>5 rows × 101 columns</p>\n",
       "</div>"
      ],
      "text/plain": [
       "country   Albania  Antigua and Barbuda   Argentina  Armenia  Aruba  \\\n",
       "year                                                                 \n",
       "1985          NaN                  0.0  165.666667      NaN    NaN   \n",
       "1986          NaN                  0.0  190.333333      NaN    NaN   \n",
       "1987     6.083333                  0.0  190.500000      NaN    NaN   \n",
       "1988     5.250000                  0.0  196.166667      NaN    NaN   \n",
       "1989     5.666667                  0.0  187.250000      NaN    NaN   \n",
       "\n",
       "country   Australia     Austria  Azerbaijan   Bahamas   Bahrain  ...  \\\n",
       "year                                                             ...   \n",
       "1985     155.083333  174.250000         NaN  0.083333  0.916667  ...   \n",
       "1986     170.333333  178.250000         NaN       NaN       NaN  ...   \n",
       "1987     180.333333  172.416667         NaN  0.250000  0.750000  ...   \n",
       "1988     181.000000  154.250000         NaN       NaN  1.166667  ...   \n",
       "1989     172.166667  158.166667         NaN       NaN       NaN  ...   \n",
       "\n",
       "country    Thailand  Trinidad and Tobago  Turkey  Turkmenistan     Ukraine  \\\n",
       "year                                                                         \n",
       "1985     248.500000             2.416667     NaN           NaN         NaN   \n",
       "1986     233.166667             8.666667     NaN           NaN         NaN   \n",
       "1987     252.916667             9.916667     NaN     22.666667  837.500000   \n",
       "1988            NaN            13.666667     NaN     22.500000  812.583333   \n",
       "1989            NaN            14.416667     NaN     21.083333  907.250000   \n",
       "\n",
       "country  United Arab Emirates  United Kingdom  United States    Uruguay  \\\n",
       "year                                                                      \n",
       "1985                      NaN      425.416667    2453.833333  23.916667   \n",
       "1986                      NaN      403.250000    2574.333333  21.833333   \n",
       "1987                      NaN      382.833333    2565.250000  21.500000   \n",
       "1988                      NaN      414.250000    2532.333333  22.333333   \n",
       "1989                      NaN      363.416667    2518.166667  28.666667   \n",
       "\n",
       "country  Uzbekistan  \n",
       "year                 \n",
       "1985            NaN  \n",
       "1986            NaN  \n",
       "1987            NaN  \n",
       "1988            NaN  \n",
       "1989            NaN  \n",
       "\n",
       "[5 rows x 101 columns]"
      ]
     },
     "execution_count": 122,
     "metadata": {},
     "output_type": "execute_result"
    }
   ],
   "source": [
    "country_yearwise_suicide.head()"
   ]
  },
  {
   "cell_type": "code",
   "execution_count": 134,
   "id": "2cc3be9e-2289-414f-9385-35ce08d1e734",
   "metadata": {},
   "outputs": [
    {
     "name": "stderr",
     "output_type": "stream",
     "text": [
      "C:\\Users\\prash\\AppData\\Local\\Temp\\ipykernel_11640\\990107300.py:2: FutureWarning:\n",
      "\n",
      "DataFrame.fillna with 'method' is deprecated and will raise in a future version. Use obj.ffill() or obj.bfill() instead.\n",
      "\n"
     ]
    }
   ],
   "source": [
    "country_yearwise_suicide.interpolate(axis = 0, inplace = True)\n",
    "country_yearwise_suicide.fillna(method = 'bfill', axis = 0, inplace = True)"
   ]
  },
  {
   "cell_type": "code",
   "execution_count": 136,
   "id": "c79c8037-d91f-4dec-890c-5ab6d62e9acb",
   "metadata": {},
   "outputs": [
    {
     "data": {
      "text/plain": [
       "Text(0, 0.5, 'Avg. of suicide no')"
      ]
     },
     "execution_count": 136,
     "metadata": {},
     "output_type": "execute_result"
    },
    {
     "data": {
      "image/png": "[encoded data removed]",
      "text/plain": [
       "<Figure size 2000x600 with 1 Axes>"
      ]
     },
     "metadata": {},
     "output_type": "display_data"
    }
   ],
   "source": [
    "fig, ax = plt.subplots(figsize=(20,6))\n",
    "\n",
    "l = len(country_yearwise_suicide.columns) \n",
    "for i in range(l - 90):\n",
    "    \n",
    "    ax.plot(country_yearwise_suicide.index, country_yearwise_suicide.iloc[:,i], alpha=0.5 , label=country_yearwise_suicide.iloc[:,i].name)\n",
    "\n",
    "ax.legend()\n",
    "ax.set_xlabel('Years')\n",
    "ax.set_ylabel('Avg. of suicide no')"
   ]
  },
  {
   "cell_type": "code",
   "execution_count": null,
   "id": "40eef305-72ca-49be-ae21-2cdefdfd5f07",
   "metadata": {},
   "outputs": [],
   "source": []
  },
  {
   "cell_type": "code",
   "execution_count": null,
   "id": "d3ec0aba-f61d-45a2-a3d5-a476f2df3527",
   "metadata": {},
   "outputs": [],
   "source": []
  }
 ],
 "metadata": {
  "kernelspec": {
   "display_name": "Python 3 (ipykernel)",
   "language": "python",
   "name": "python3"
  },
  "language_info": {
   "codemirror_mode": {
    "name": "ipython",
    "version": 3
   },
   "file_extension": ".py",
   "mimetype": "text/x-python",
   "name": "python",
   "nbconvert_exporter": "python",
   "pygments_lexer": "ipython3",
   "version": "3.12.4"
  }
 },
 "nbformat": 4,
 "nbformat_minor": 5
}
